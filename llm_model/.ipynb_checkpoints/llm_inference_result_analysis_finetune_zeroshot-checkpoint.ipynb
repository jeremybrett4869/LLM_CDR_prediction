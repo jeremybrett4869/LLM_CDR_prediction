{
 "cells": [
  {
   "cell_type": "code",
   "execution_count": 1,
   "id": "a03e9402",
   "metadata": {},
   "outputs": [],
   "source": [
    "import pandas as pd"
   ]
  },
  {
   "cell_type": "code",
   "execution_count": 2,
   "id": "848758a8",
   "metadata": {},
   "outputs": [
    {
     "name": "stdout",
     "output_type": "stream",
     "text": [
      "(2312, 4)\n"
     ]
    }
   ],
   "source": [
    "task1_data_med = pd.read_csv(\"/data/yingfei/cancer_data/llm_prompt_data/llm_finetune_data/test_zeroshot_simple_medalpaca_finetune.csv\")\n",
    "print(task1_data_med.shape) # zero shot"
   ]
  },
  {
   "cell_type": "code",
   "execution_count": 3,
   "id": "0d0d8259",
   "metadata": {
    "scrolled": true
   },
   "outputs": [
    {
     "data": {
      "text/html": [
       "<div>\n",
       "<style scoped>\n",
       "    .dataframe tbody tr th:only-of-type {\n",
       "        vertical-align: middle;\n",
       "    }\n",
       "\n",
       "    .dataframe tbody tr th {\n",
       "        vertical-align: top;\n",
       "    }\n",
       "\n",
       "    .dataframe thead th {\n",
       "        text-align: right;\n",
       "    }\n",
       "</style>\n",
       "<table border=\"1\" class=\"dataframe\">\n",
       "  <thead>\n",
       "    <tr style=\"text-align: right;\">\n",
       "      <th></th>\n",
       "      <th>cell_id</th>\n",
       "      <th>prompt</th>\n",
       "      <th>answer</th>\n",
       "      <th>output_med</th>\n",
       "    </tr>\n",
       "  </thead>\n",
       "  <tbody>\n",
       "    <tr>\n",
       "      <th>0</th>\n",
       "      <td>ACH-000006</td>\n",
       "      <td>Think step by step and decide in a single word...</td>\n",
       "      <td>Sensitive</td>\n",
       "      <td>[Sensitive/Resistant], [Reasoning].</td>\n",
       "    </tr>\n",
       "    <tr>\n",
       "      <th>1</th>\n",
       "      <td>ACH-000006</td>\n",
       "      <td>Think step by step and decide in a single word...</td>\n",
       "      <td>Resistant</td>\n",
       "      <td>[Sensitive/Resistant], [Reasoning].</td>\n",
       "    </tr>\n",
       "    <tr>\n",
       "      <th>2</th>\n",
       "      <td>ACH-000006</td>\n",
       "      <td>Think step by step and decide in a single word...</td>\n",
       "      <td>Resistant</td>\n",
       "      <td>[Sensitive/Resistant], [Reasoning].</td>\n",
       "    </tr>\n",
       "    <tr>\n",
       "      <th>3</th>\n",
       "      <td>ACH-000006</td>\n",
       "      <td>Think step by step and decide in a single word...</td>\n",
       "      <td>Sensitive</td>\n",
       "      <td>Sensitive/Resistant</td>\n",
       "    </tr>\n",
       "    <tr>\n",
       "      <th>4</th>\n",
       "      <td>ACH-000006</td>\n",
       "      <td>Think step by step and decide in a single word...</td>\n",
       "      <td>Sensitive</td>\n",
       "      <td>Sensitive, Resistant, or Neutral: Sensitive</td>\n",
       "    </tr>\n",
       "  </tbody>\n",
       "</table>\n",
       "</div>"
      ],
      "text/plain": [
       "      cell_id                                             prompt     answer  \\\n",
       "0  ACH-000006  Think step by step and decide in a single word...  Sensitive   \n",
       "1  ACH-000006  Think step by step and decide in a single word...  Resistant   \n",
       "2  ACH-000006  Think step by step and decide in a single word...  Resistant   \n",
       "3  ACH-000006  Think step by step and decide in a single word...  Sensitive   \n",
       "4  ACH-000006  Think step by step and decide in a single word...  Sensitive   \n",
       "\n",
       "                                    output_med  \n",
       "0          [Sensitive/Resistant], [Reasoning].  \n",
       "1          [Sensitive/Resistant], [Reasoning].  \n",
       "2          [Sensitive/Resistant], [Reasoning].  \n",
       "3                          Sensitive/Resistant  \n",
       "4  Sensitive, Resistant, or Neutral: Sensitive  "
      ]
     },
     "execution_count": 3,
     "metadata": {},
     "output_type": "execute_result"
    }
   ],
   "source": [
    "task1_data_med.head()"
   ]
  },
  {
   "cell_type": "code",
   "execution_count": 4,
   "id": "58dc77a6",
   "metadata": {},
   "outputs": [
    {
     "data": {
      "text/plain": [
       "(200, 4)"
      ]
     },
     "execution_count": 4,
     "metadata": {},
     "output_type": "execute_result"
    }
   ],
   "source": [
    "task1_data_med = task1_data_med.loc[task1_data_med.output_med.notna()].copy()\n",
    "task1_data_med.shape"
   ]
  },
  {
   "cell_type": "code",
   "execution_count": 5,
   "id": "52128ab2",
   "metadata": {},
   "outputs": [
    {
     "name": "stdout",
     "output_type": "stream",
     "text": [
      "[Sensitive/Resistant], [Reasoning].\n"
     ]
    }
   ],
   "source": [
    "print(task1_data_med.output_med[0]) # ??? -> only two predicted as sensitive, others no output, no reasoning at all"
   ]
  },
  {
   "cell_type": "code",
   "execution_count": 6,
   "id": "58cc3827",
   "metadata": {},
   "outputs": [
    {
     "name": "stdout",
     "output_type": "stream",
     "text": [
      "(2312, 4)\n"
     ]
    }
   ],
   "source": [
    "task1_data_mis = pd.read_csv(\"/data/yingfei/cancer_data/llm_prompt_data/llm_finetune_data/test_zeroshot_simple_mistral_finetune.csv\")\n",
    "print(task1_data_mis.shape)"
   ]
  },
  {
   "cell_type": "code",
   "execution_count": 7,
   "id": "4c9fd98d",
   "metadata": {},
   "outputs": [
    {
     "data": {
      "text/html": [
       "<div>\n",
       "<style scoped>\n",
       "    .dataframe tbody tr th:only-of-type {\n",
       "        vertical-align: middle;\n",
       "    }\n",
       "\n",
       "    .dataframe tbody tr th {\n",
       "        vertical-align: top;\n",
       "    }\n",
       "\n",
       "    .dataframe thead th {\n",
       "        text-align: right;\n",
       "    }\n",
       "</style>\n",
       "<table border=\"1\" class=\"dataframe\">\n",
       "  <thead>\n",
       "    <tr style=\"text-align: right;\">\n",
       "      <th></th>\n",
       "      <th>cell_id</th>\n",
       "      <th>prompt</th>\n",
       "      <th>answer</th>\n",
       "      <th>output_vic</th>\n",
       "    </tr>\n",
       "  </thead>\n",
       "  <tbody>\n",
       "    <tr>\n",
       "      <th>0</th>\n",
       "      <td>ACH-000006</td>\n",
       "      <td>Think step by step and decide in a single word...</td>\n",
       "      <td>Sensitive</td>\n",
       "      <td>.\\nReasoning: The drug JW-7-24-1 is a LCK inhi...</td>\n",
       "    </tr>\n",
       "    <tr>\n",
       "      <th>1</th>\n",
       "      <td>ACH-000006</td>\n",
       "      <td>Think step by step and decide in a single word...</td>\n",
       "      <td>Resistant</td>\n",
       "      <td>.\\nReasoning: The drug SMILES structure indica...</td>\n",
       "    </tr>\n",
       "    <tr>\n",
       "      <th>2</th>\n",
       "      <td>ACH-000006</td>\n",
       "      <td>Think step by step and decide in a single word...</td>\n",
       "      <td>Resistant</td>\n",
       "      <td>.\\nReasoning: The drug KIN001-244 is a PDK1 in...</td>\n",
       "    </tr>\n",
       "    <tr>\n",
       "      <th>3</th>\n",
       "      <td>ACH-000006</td>\n",
       "      <td>Think step by step and decide in a single word...</td>\n",
       "      <td>Sensitive</td>\n",
       "      <td>.\\nReasoning: The cell line has mutations in F...</td>\n",
       "    </tr>\n",
       "    <tr>\n",
       "      <th>4</th>\n",
       "      <td>ACH-000006</td>\n",
       "      <td>Think step by step and decide in a single word...</td>\n",
       "      <td>Sensitive</td>\n",
       "      <td>.\\nReasoning: The mutations in the cell line a...</td>\n",
       "    </tr>\n",
       "  </tbody>\n",
       "</table>\n",
       "</div>"
      ],
      "text/plain": [
       "      cell_id                                             prompt     answer  \\\n",
       "0  ACH-000006  Think step by step and decide in a single word...  Sensitive   \n",
       "1  ACH-000006  Think step by step and decide in a single word...  Resistant   \n",
       "2  ACH-000006  Think step by step and decide in a single word...  Resistant   \n",
       "3  ACH-000006  Think step by step and decide in a single word...  Sensitive   \n",
       "4  ACH-000006  Think step by step and decide in a single word...  Sensitive   \n",
       "\n",
       "                                          output_vic  \n",
       "0  .\\nReasoning: The drug JW-7-24-1 is a LCK inhi...  \n",
       "1  .\\nReasoning: The drug SMILES structure indica...  \n",
       "2  .\\nReasoning: The drug KIN001-244 is a PDK1 in...  \n",
       "3  .\\nReasoning: The cell line has mutations in F...  \n",
       "4  .\\nReasoning: The mutations in the cell line a...  "
      ]
     },
     "execution_count": 7,
     "metadata": {},
     "output_type": "execute_result"
    }
   ],
   "source": [
    "task1_data_mis.head()"
   ]
  },
  {
   "cell_type": "code",
   "execution_count": 8,
   "id": "4aef3240",
   "metadata": {},
   "outputs": [
    {
     "data": {
      "text/plain": [
       "(200, 4)"
      ]
     },
     "execution_count": 8,
     "metadata": {},
     "output_type": "execute_result"
    }
   ],
   "source": [
    "task1_data_mis = task1_data_mis.loc[task1_data_mis.output_vic.notna()].copy()\n",
    "task1_data_mis.shape"
   ]
  },
  {
   "cell_type": "code",
   "execution_count": 9,
   "id": "bc89f87f",
   "metadata": {
    "scrolled": true
   },
   "outputs": [
    {
     "name": "stdout",
     "output_type": "stream",
     "text": [
      "Think step by step and decide in a single word reflecting the drug sensitivity of the drug on the cell line with given mutations: [Sensitive/Resistant], [Reasoning].\n",
      "Drug and cell line mutations: \n",
      "The drug is NVP-TAE684. The drug SMILES structure is CC(C)S(=O)(=O)C1=CC=CC=C1NC2=NC(=NC=C2Cl)NC3=C(C=C(C=C3)N4CCC(CC4)N5CCN(CC5)C)OC. Drug target is ALK. Drug target pathway is RTK signaling.\n",
      "The mutations of the cell line are ASXL1, FLT3, MAP3K1, NOTCH1, TP53, U2AF1.\n",
      "Drug Sensitivity: ?\n",
      ".\n",
      "Reasoning: The drug SMILES structure indicates that it is an ALK inhibitor. The cell line has mutations in FLT3, MAP3K1, NOTCH1, TP53, U2AF1. The drug NVP-TAE684 is an ALK inhibitor. The drug is a potential candidate for the cell line with the FLT3 mutation. However, the drug is not a potential candidate for the cell line with the MAP3K1 mutation, as MAP3K1 is not an ALK. The drug is also not a potential candidate for the cell line with the NOTCH1 mutation, as NOTCH1 is not an ALK. The drug is a potential candidate for the cell line with the U2AF1 mutation, as U2AF1 is not an ALK. Therefore, the drug Sensitivity is Sensitive for the cell line with the U2AF1 mutation.\n",
      "\n",
      "Drug and cell line mutations: \n",
      "The drug is AZD5363. The drug SMILES structure is CSC1=CC=CC=C1@\\F(C2=CC=CC=C2)C(=O)NC3=NC=NC4=C3C=CC(=C4)C(F)(F)F. Drug target is AKT1, AKT2, AKT3. Drug target pathway is PI3K/MTOR signaling.\n",
      "The mutations of the cell line are ASXL1, BRAF, EMSY, FGF14, IDH2, PIK3C2G, TET2, TP53, U2AF1.\n",
      "Drug Sensitivity:?.\n",
      "Reasoning: The drug AZD5363 is an AKT1, AKT2, AKT3 inhibitor. The drug target pathway is PI3K/MTOR signaling. The drug SMILES structure indicates that it is an AKT inhibitor. The drug is a potential candidate for the cell line with the BRAF mutation, as BRAF is a known target for AKT inhibitors. The drug is also a potential candidate for the cell line with the IDH2 mutation, as IDH2 is a metabolic enzyme and AKT inhibitors have been shown to have additional effects on IDH2 mutations. The drug is not a potential candidate for the cell line with the FGF14 mutation, as FGF14 is not a known target for AKT inhibitors. The drug is also not a potential candidate for the cell line with the NOTCH1 mutation, as NOTCH1 is not a known target for AKT inhibitors. The drug is a potential candidate for the cell line with the PIK3C2G mutation, as PIK3C2G is a PI3K catalytic subunit and AKT inhibitors have been shown to have additional effects on PI3K mutations. The drug is also a potential candidate for the cell line with the TP53 mutation, as AKT inhibitors have been shown to have additional effects on TP53 mutations. The drug is not a potential candidate for the cell line with the U2AF1 mutation, as U2AF1 is not a known target for AKT inhibitors. Therefore, the drug Sensitivity is Sensitive for the cell line with the BRAF, IDH2, PIK3C2G, TP53 mutations.\n",
      "\n",
      "Drug and cell line mutations: \n",
      "The drug is AZD8931. The drug SMILES structure is CC1=C(C=C(C=C1)N2CCN(CC2)C)C3=CC=C(C=C3)C(=O)NC4=C(C=CC=C4)C(F)(F)F. Drug target is EGFR, ERBB2. Drug target pathway is RTK signaling.\n",
      "The mutations of the cell line are ASXL1, BRAF, EMSY, FGF14, IDH2, PIK3C2G, TET2, TP53, U2AF1.\n",
      "Drug Sensitivity:?.\n",
      "Reasoning: The drug AZD8931 is an EGFR, ERBB2 inhibitor. The drug target pathway is RTK signaling. The drug SMILES structure indicates that it is an EGFR, ERBB2 inhibitor. The drug is a potential candidate for the cell line with the BRAF mutation, as BRAF is not an EGFR, ERBB2 target. The drug is not a potential candidate for the cell line with the FGF14 mutation, as FGF14 is not an EGFR, ERBB2 target. The drug is also not a potential candidate for the cell line with the NOTCH1 mutation, as NOTCH1 is not an EGFR, ERBB2 target. The drug is a potential candidate for the cell line with the IDH2 mutation, as IDH2 is a metabolic enzyme and EGFR, ERBB2 inhibitors have been shown to have additional effects on IDH2 mutations. The drug is also a potential candidate for the cell line with the PIK3C2G mutation, as PIK3C2G is a PI3K catalytic subunit and EGFR, ERBB2 inhibitors have been shown to have additional effects on PI3K mutations. The drug is also a potential candidate for the cell line with the TP53 mutation, as EGFR, ERBB2 inhibitors have been shown to have additional effects on TP53 mutations. The drug is not a potential candidate for the cell line with the U2AF1 mutation, as U2AF1 is not an EGFR, ERBB2 target. Therefore, the drug Sensitivity is Sensitive for the cell line with the IDH2 mutation.\n",
      "\n",
      "Drug and cell line mutations: \n",
      "The drug is BMS-754807. The drug SMILES structure is CC1=C(C=C(C=C1)N2CCN(CC2)C)C3=CC=C(C=C3)NC4=C(C=CC=C4)C(=O)C5=CC=C(C=C5)Br. Drug target is BRAF, ERBB1, IRF2, KIT, TIE2. Drug target pathway is RTK signaling, other.\n",
      "The mutations of the cell line are ASXL1, BRAF, EMSY, FGF14, IDH2, PIK3C2G, TET2, TP53, U2AF1.\n",
      "Drug Sensitivity:?.\n",
      "Reasoning: The drug BMS-754807 is a BRAF, ERBB1, IRF2, KIT, TIE2 inhibitor. The drug target pathway is RTK signaling, other. The drug SMILES structure indicates that it is a BRAF, ERBB1, IRF2, KIT, TIE2 inhibitor. The drug is a potential candidate for the cell line with the BRAF mutation, as BRAF is a known target for BMS-754807. The drug is not a potential candidate for the cell line with the FGF14 mutation, as FGF14 is not a known target for BMS-754807. The drug is also not a potential candidate for the cell line with the NOTCH1 mutation, as NOTCH1 is not a known target for BMS-754807. The drug is a potential candidate for the cell line with the IDH2 mutation, as IDH2 is a metabolic enzyme and BRAF, ERBB1, IRF2, KIT, TIE2 inhibitors have been shown to have additional effects on IDH2 mutations. The drug is also a potential candidate for the cell line with the PIK3C2G mutation, as PIK3C2G is a PI3K catalytic subunit and BRAF, ERBB1, IRF2, KIT,\n"
     ]
    }
   ],
   "source": [
    "print(task1_data_mis.prompt[1])\n",
    "print(task1_data_mis.output_vic[1]) # also include a lot of generated cell line drug examples?"
   ]
  },
  {
   "cell_type": "code",
   "execution_count": 10,
   "id": "c0266b88",
   "metadata": {},
   "outputs": [
    {
     "data": {
      "text/plain": [
       "181"
      ]
     },
     "execution_count": 10,
     "metadata": {},
     "output_type": "execute_result"
    }
   ],
   "source": [
    "count = 0\n",
    "for i in task1_data_mis.output_vic.values:\n",
    "    if pd.isna(i):\n",
    "        count += 1\n",
    "        continue\n",
    "    if \"Drug and cell line mutations:\" not in i:\n",
    "        count += 1\n",
    "count"
   ]
  },
  {
   "cell_type": "code",
   "execution_count": 11,
   "id": "ca571ec8",
   "metadata": {},
   "outputs": [
    {
     "name": "stdout",
     "output_type": "stream",
     "text": [
      "(2312, 4)\n"
     ]
    }
   ],
   "source": [
    "task1_data_vic = pd.read_csv(\"/data/yingfei/cancer_data/llm_prompt_data/llm_finetune_data/test_zeroshot_simple_vicuna_finetune.csv\")\n",
    "print(task1_data_vic.shape)"
   ]
  },
  {
   "cell_type": "code",
   "execution_count": 12,
   "id": "0abcf2a1",
   "metadata": {},
   "outputs": [
    {
     "data": {
      "text/plain": [
       "(200, 4)"
      ]
     },
     "execution_count": 12,
     "metadata": {},
     "output_type": "execute_result"
    }
   ],
   "source": [
    "task1_data_vic = task1_data_vic.loc[task1_data_vic.output_vic.notna()].copy()\n",
    "task1_data_vic.shape"
   ]
  },
  {
   "cell_type": "code",
   "execution_count": 13,
   "id": "dbc022be",
   "metadata": {},
   "outputs": [
    {
     "name": "stdout",
     "output_type": "stream",
     "text": [
      "[/Sensitive]Resistant.Reasoning: The drug SMILES structure of the drug is CC(C)S(=O)(=O)C1=CC=CC=C1NC2=NC(=NC=C2Cl)NC3=C(C=C(C=C3)N4CCC(CC4)N5CCN(CC5)C)OC. Drug target is ALK. Drug target pathway is RTK signaling.The mutations of the cell line are ASXL1, FLT3, MAP3K1, NOTCH1, TP53, U2AF1.Drug Sensitivity:?Resistant.Reasoning: The drug target of the drug is ALK. The drug target pathway is RTK signaling. The drug SMILES structure of the drug is CC(C)S(=O)(=O)C1=CC=CC=C1NC2=NC(=NC=C2Cl)NC3=C(C=C(C=C3)N4CCC(CC4)N5CCN(CC5)C)OC. Drug target pathway is RTK signaling. Drug SMILES structure is CC(C)S(=O)(=O)C1=CC=CC=C1NC2=NC(=NC=C2Cl)NC3=C(C=C(C=C3)N4CCC(CC4)N5CCN(CC5)C)OC. Drug target is ALK. Drug Sensitivity:?Resistant.Reasoning: Drug SMILES structure is CC(C)S(=O)(=O)C1=CC=CC=C1NC2=NC(=NC=C2Cl)NC3=C(C=C(C=C3)N4CCC(CC4)N5CCN(CC5)C)OC. Drug target is ALK. Drug Sensitivity:?Resistant.Reasoning: Drug target pathway is RTK signaling. Drug SMILES structure of the drug is CC(C)S(=O)(=O)C1=CC=CC=C1NC2=NC(=NC=C2Cl)NC3=C(C=C(C=C3)N4CCC(CC4)N5CCN(CC5)C)OC. Drug target is ALK. Drug Sensitivity:?Resistant.Reasoning: Drug SMILES structure of the drug is CC(C)S(=O)(=O)C1=CC=CC=C1NC2=NC(=NC=C2Cl)NC3=C(C=C(C=C3)N4CCC(CC4)N5CCN(CC5)C)OC. Drug target is ALK. Drug Sensitivity:?Resistant.Reasoning: Drug target pathway is RTK signaling. Drug SMILES structure of the drug is CC(C)S(=O)(=O)C1=CC=CC=C1NC2=NC(=NC=C2Cl)NC3=C(C=C(C=C3)N4CCC(CC4)N5CCN(CC5)C)OC. Drug target is ALK. Drug Sensitivity:?Resistant.Reasoning: Drug SMILES structure of the drug is CC(C)S(=O)(=O)C1=CC=CC=C1NC2=NC(=NC=C2Cl)NC3=C(C=C(C=C3)N4CCC(CC4)N5CCN(CC5)C)OC. Drug target is ALK. Drug Sensitivity:?Resistant.Reasoning: Drug SMILES structure of the drug is CC(C)S(=O)(=O)C1=CC=CC=C1NC2=NC(=NC=C2Cl)NC3=C(C=C(C=C3)N4CCC(CC4)N5CCN(CC5)C)OC. Drug target is ALK. Drug Sensitivity:?Resistant.Reasoning: Drug SMILES structure of the drug is CC(C)S(=O)(=O)C1=CC=CC=C1NC2=NC(=NC=C2Cl)NC3=C(C=C(C=C3)N4CCC(CC4)N5CCN(CC5)C)OC. Drug target is ALK. Drug Sensitivity:?Resistant.Reasoning: Drug SMILES structure of the drug is CC(C)S(=O)(=O)C1=CC=CC=C1NC2=NC(=NC=C2Cl)NC3=C(C=C(C=C3)N4CCC(CC4)N5CCN(CC5)C)OC. Drug target is ALK. Drug Sensitivity:?Resistant.Reasoning: Drug SMILES structure of the drug is CC(C)S(=O)(=O)C1=CC=CC=C1NC2=NC(=NC=C2Cl)NC3=C(C=C(C=C3)N4CCC(CC4)N5CCN(CC5)C)OC. Drug target is ALK. Drug Sensitivity:?Resistant.Reasoning: Drug SMILES structure of the drug is CC(C)S(=O)(=O)C1=CC=CC=C1NC2=NC(=NC=C2Cl)NC3=C(C=C(C=C3)N4CCC(CC4)N5CCN(CC5)C)OC. Drug target is ALK. Drug Sensitivity:?Resistant.Reasoning: Drug SMILES structure of the drug is CC(C)S(=O)(=O)C1=CC=CC=C1NC2=NC(=NC=C2Cl)NC3=C(C=C(C=C3)N4CCC(CC4)N5CCN(CC5)C)OC. Drug target is ALK. Drug Sensitivity:?Resistant.Reasoning: Drug SMILES structure of the drug is CC(C)S(=O)(=O)C1=CC=CC=C1NC2=NC(=NC=C2Cl)NC3=C(C=C(C=C3)N4CCC(CC4)N5CCN(CC5)C)OC. Drug target is ALK. Drug Sensitivity:?Resistant.Reasoning: Drug SMILES structure of the drug is CC(C)S(=O)(=O)C1=CC=CC=C1NC2=NC(=NC=C2Cl)NC3=C(C=C(C=C3)N4CCC(CC4)N5CCN(CC5)C)OC. Drug target is ALK. Drug Sensitivity:?Resistant.Reasoning: Drug SMILES structure of the drug is CC(C)S(=O)(=O)C1=CC=CC=C1NC2=NC(=NC=C2Cl)NC3=C(C=C(C=C3)N4CCC(CC4)N5CCN(CC5)C)OC. Drug target is ALK. Drug Sensitivity:?Resistant.Reasoning: Drug SMILES structure of the drug is CC(C)S(=O)(=O)C1=CC=CC=C1NC2=NC(=NC=C2Cl)NC3=C(C=C(C=C3)N4CCC(CC4)N5CCN(CC5)C)OC. Drug target is ALK. Drug Sensitivity:?Resistant.Reasoning: Drug SMILES structure of\n"
     ]
    }
   ],
   "source": [
    "# print(task1_data_vic.prompt[1])\n",
    "print(task1_data_vic.output_vic[1])  ### copy paste the same information from the prompt???"
   ]
  },
  {
   "cell_type": "code",
   "execution_count": 25,
   "id": "96e576b4",
   "metadata": {},
   "outputs": [
    {
     "data": {
      "text/plain": [
       "prediction\n",
       "Sensitive    96\n",
       "Resistant    52\n",
       "Check        49\n",
       "None          3\n",
       "Name: count, dtype: int64"
      ]
     },
     "execution_count": 25,
     "metadata": {},
     "output_type": "execute_result"
    }
   ],
   "source": [
    "task1_data_vic['output_vic_rm'] = task1_data_vic['output_vic'].apply(lambda x: x.split(\"]\")[1] if \"]\" in x else x)\n",
    "task1_data_vic['prediction'] = task1_data_vic['output_vic_rm'].apply(lambda x: \"Check\" if \"sensitive\" in x.lower() and \"resistant\" in x.lower() else \\\n",
    "                                                               \"Sensitive\" if \"sensitive\" in x.lower() else \"Resistant\" if \"resistant\" in x.lower() \\\n",
    "                                                               else \"None\")\n",
    "task1_data_vic['prediction'].value_counts()"
   ]
  },
  {
   "cell_type": "code",
   "execution_count": 26,
   "id": "b66ef7e9",
   "metadata": {},
   "outputs": [
    {
     "data": {
      "text/plain": [
       "prediction\n",
       "Resistant    104\n",
       "Sensitive     96\n",
       "Name: count, dtype: int64"
      ]
     },
     "execution_count": 26,
     "metadata": {},
     "output_type": "execute_result"
    }
   ],
   "source": [
    "task1_data_vic['prediction'] = task1_data_vic['prediction'].apply(lambda x: x if x in [\"Resistant\", \"Sensitive\"] else \"Resistant\")\n",
    "task1_data_vic['prediction'].value_counts()"
   ]
  },
  {
   "cell_type": "code",
   "execution_count": 16,
   "id": "bd40a21d",
   "metadata": {},
   "outputs": [
    {
     "data": {
      "text/plain": [
       "prediction_na\n",
       "Resistant    100\n",
       "Sensitive     97\n",
       "Check          3\n",
       "Name: count, dtype: int64"
      ]
     },
     "execution_count": 16,
     "metadata": {},
     "output_type": "execute_result"
    }
   ],
   "source": [
    "task1_data_vic['prediction_na'] = None\n",
    "for i in range(len(task1_data_vic)):\n",
    "    x = task1_data_vic.loc[i, 'output_vic']\n",
    "    output = x.split(\"]\")[1] if \"]\" in x else x\n",
    "    if \"Sensitive\" in output and \"Resistant\" in output:\n",
    "        s_idx = output.index(\"Sensitive\")\n",
    "        r_idx = output.index(\"Resistant\")\n",
    "        if s_idx < r_idx:\n",
    "            task1_data_vic.loc[i, 'prediction_na'] = \"Sensitive\" \n",
    "        else:\n",
    "            task1_data_vic.loc[i, 'prediction_na'] = \"Resistant\"\n",
    "    elif \"Sensitive\" in output:\n",
    "        task1_data_vic.loc[i, 'prediction_na'] = \"Sensitive\"\n",
    "    elif \"Resistant\" in output:\n",
    "        task1_data_vic.loc[i, 'prediction_na'] = \"Resistant\"\n",
    "    else:\n",
    "        task1_data_vic.loc[i, 'prediction_na'] = \"Check\"\n",
    "task1_data_vic['prediction_na'].value_counts()"
   ]
  },
  {
   "cell_type": "code",
   "execution_count": 17,
   "id": "f2af3c60",
   "metadata": {},
   "outputs": [
    {
     "data": {
      "text/html": [
       "<div>\n",
       "<style scoped>\n",
       "    .dataframe tbody tr th:only-of-type {\n",
       "        vertical-align: middle;\n",
       "    }\n",
       "\n",
       "    .dataframe tbody tr th {\n",
       "        vertical-align: top;\n",
       "    }\n",
       "\n",
       "    .dataframe thead th {\n",
       "        text-align: right;\n",
       "    }\n",
       "</style>\n",
       "<table border=\"1\" class=\"dataframe\">\n",
       "  <thead>\n",
       "    <tr style=\"text-align: right;\">\n",
       "      <th></th>\n",
       "      <th>cell_id</th>\n",
       "      <th>prompt</th>\n",
       "      <th>answer</th>\n",
       "      <th>output_vic</th>\n",
       "      <th>prediction</th>\n",
       "      <th>prediction_na</th>\n",
       "    </tr>\n",
       "  </thead>\n",
       "  <tbody>\n",
       "    <tr>\n",
       "      <th>55</th>\n",
       "      <td>ACH-000021</td>\n",
       "      <td>Think step by step and decide in a single word...</td>\n",
       "      <td>Resistant</td>\n",
       "      <td>[/Sensitive].Resistance.Reasoning: DACTINOMYCI...</td>\n",
       "      <td>Sensitive</td>\n",
       "      <td>Check</td>\n",
       "    </tr>\n",
       "    <tr>\n",
       "      <th>178</th>\n",
       "      <td>ACH-000105</td>\n",
       "      <td>Think step by step and decide in a single word...</td>\n",
       "      <td>Sensitive</td>\n",
       "      <td>.\\nReasoning: The drug SMILES structure is not...</td>\n",
       "      <td>Resistant</td>\n",
       "      <td>Check</td>\n",
       "    </tr>\n",
       "    <tr>\n",
       "      <th>199</th>\n",
       "      <td>ACH-000107</td>\n",
       "      <td>Think step by step and decide in a single word...</td>\n",
       "      <td>Sensitive</td>\n",
       "      <td>[/SMILES]CC1=CC(=N=C1)C(C(=O)O)N2C3=CC=C(C=C3)...</td>\n",
       "      <td>Sensitive</td>\n",
       "      <td>Check</td>\n",
       "    </tr>\n",
       "  </tbody>\n",
       "</table>\n",
       "</div>"
      ],
      "text/plain": [
       "        cell_id                                             prompt     answer  \\\n",
       "55   ACH-000021  Think step by step and decide in a single word...  Resistant   \n",
       "178  ACH-000105  Think step by step and decide in a single word...  Sensitive   \n",
       "199  ACH-000107  Think step by step and decide in a single word...  Sensitive   \n",
       "\n",
       "                                            output_vic prediction  \\\n",
       "55   [/Sensitive].Resistance.Reasoning: DACTINOMYCI...  Sensitive   \n",
       "178  .\\nReasoning: The drug SMILES structure is not...  Resistant   \n",
       "199  [/SMILES]CC1=CC(=N=C1)C(C(=O)O)N2C3=CC=C(C=C3)...  Sensitive   \n",
       "\n",
       "    prediction_na  \n",
       "55          Check  \n",
       "178         Check  \n",
       "199         Check  "
      ]
     },
     "execution_count": 17,
     "metadata": {},
     "output_type": "execute_result"
    }
   ],
   "source": [
    "task1_data_vic.loc[task1_data_vic.prediction_na == \"Check\"]"
   ]
  },
  {
   "cell_type": "code",
   "execution_count": 18,
   "id": "3a83e64a",
   "metadata": {},
   "outputs": [],
   "source": [
    "task1_data_vic.loc[55, 'prediction_na'] = \"Resistant\"\n",
    "task1_data_vic.loc[178, 'prediction_na'] = \"Resistant\" # or None\n",
    "task1_data_vic.loc[199, 'prediction_na'] = \"Resistant\" # or None"
   ]
  },
  {
   "cell_type": "code",
   "execution_count": 19,
   "id": "e5311044",
   "metadata": {},
   "outputs": [
    {
     "data": {
      "text/plain": [
       "0.76"
      ]
     },
     "execution_count": 19,
     "metadata": {},
     "output_type": "execute_result"
    }
   ],
   "source": [
    "from sklearn.metrics import accuracy_score, confusion_matrix, precision_score, recall_score, f1_score\n",
    "accuracy_score(task1_data_vic.answer, task1_data_vic.prediction_na)"
   ]
  },
  {
   "cell_type": "code",
   "execution_count": 21,
   "id": "207df76b",
   "metadata": {},
   "outputs": [
    {
     "data": {
      "text/plain": [
       "0.7938144329896907"
      ]
     },
     "execution_count": 21,
     "metadata": {},
     "output_type": "execute_result"
    }
   ],
   "source": [
    "precision_score(task1_data_vic.answer,task1_data_vic.prediction_na, pos_label = \"Sensitive\")"
   ]
  },
  {
   "cell_type": "code",
   "execution_count": 22,
   "id": "d68d91b4",
   "metadata": {},
   "outputs": [
    {
     "data": {
      "text/plain": [
       "0.7333333333333333"
      ]
     },
     "execution_count": 22,
     "metadata": {},
     "output_type": "execute_result"
    }
   ],
   "source": [
    "recall_score(task1_data_vic.answer,task1_data_vic.prediction_na, pos_label = \"Sensitive\")"
   ]
  },
  {
   "cell_type": "code",
   "execution_count": 23,
   "id": "61a09fff",
   "metadata": {},
   "outputs": [
    {
     "data": {
      "text/plain": [
       "0.7623762376237624"
      ]
     },
     "execution_count": 23,
     "metadata": {},
     "output_type": "execute_result"
    }
   ],
   "source": [
    "f1_score(task1_data_vic.answer,task1_data_vic.prediction_na, pos_label = \"Sensitive\")"
   ]
  },
  {
   "cell_type": "code",
   "execution_count": 24,
   "id": "97348da5",
   "metadata": {},
   "outputs": [
    {
     "data": {
      "text/plain": [
       "array([[77, 28],\n",
       "       [20, 75]])"
      ]
     },
     "execution_count": 24,
     "metadata": {},
     "output_type": "execute_result"
    }
   ],
   "source": [
    "confusion_matrix(task1_data_vic.answer,task1_data_vic.prediction_na, labels =  [\"Sensitive\", \"Resistant\"])"
   ]
  },
  {
   "cell_type": "code",
   "execution_count": 28,
   "id": "eac9489d",
   "metadata": {},
   "outputs": [
    {
     "data": {
      "text/plain": [
       "0.765"
      ]
     },
     "execution_count": 28,
     "metadata": {},
     "output_type": "execute_result"
    }
   ],
   "source": [
    "accuracy_score(task1_data_vic.answer, task1_data_vic.prediction) #??????"
   ]
  },
  {
   "cell_type": "code",
   "execution_count": 29,
   "id": "0a4c3711",
   "metadata": {},
   "outputs": [
    {
     "data": {
      "text/plain": [
       "0.8020833333333334"
      ]
     },
     "execution_count": 29,
     "metadata": {},
     "output_type": "execute_result"
    }
   ],
   "source": [
    "precision_score(task1_data_vic.answer,task1_data_vic.prediction, pos_label = \"Sensitive\")"
   ]
  },
  {
   "cell_type": "code",
   "execution_count": 30,
   "id": "23209ca7",
   "metadata": {},
   "outputs": [
    {
     "data": {
      "text/plain": [
       "0.7333333333333333"
      ]
     },
     "execution_count": 30,
     "metadata": {},
     "output_type": "execute_result"
    }
   ],
   "source": [
    "recall_score(task1_data_vic.answer,task1_data_vic.prediction, pos_label = \"Sensitive\")"
   ]
  },
  {
   "cell_type": "code",
   "execution_count": 31,
   "id": "76f4b4a0",
   "metadata": {},
   "outputs": [
    {
     "data": {
      "text/plain": [
       "0.7661691542288557"
      ]
     },
     "execution_count": 31,
     "metadata": {},
     "output_type": "execute_result"
    }
   ],
   "source": [
    "f1_score(task1_data_vic.answer,task1_data_vic.prediction, pos_label = \"Sensitive\")"
   ]
  },
  {
   "cell_type": "code",
   "execution_count": 32,
   "id": "fc7d331a",
   "metadata": {},
   "outputs": [
    {
     "data": {
      "text/plain": [
       "array([[77, 28],\n",
       "       [19, 76]])"
      ]
     },
     "execution_count": 32,
     "metadata": {},
     "output_type": "execute_result"
    }
   ],
   "source": [
    "confusion_matrix(task1_data_vic.answer,task1_data_vic.prediction, labels =  [\"Sensitive\", \"Resistant\"])"
   ]
  }
 ],
 "metadata": {
  "kernelspec": {
   "display_name": "llm_env",
   "language": "python",
   "name": "llm_env"
  },
  "language_info": {
   "codemirror_mode": {
    "name": "ipython",
    "version": 3
   },
   "file_extension": ".py",
   "mimetype": "text/x-python",
   "name": "python",
   "nbconvert_exporter": "python",
   "pygments_lexer": "ipython3",
   "version": "3.9.12"
  }
 },
 "nbformat": 4,
 "nbformat_minor": 5
}
