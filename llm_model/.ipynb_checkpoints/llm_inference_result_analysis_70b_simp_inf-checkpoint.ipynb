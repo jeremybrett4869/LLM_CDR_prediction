{
 "cells": [
  {
   "cell_type": "code",
   "execution_count": 1,
   "id": "4979f521",
   "metadata": {},
   "outputs": [
    {
     "name": "stdout",
     "output_type": "stream",
     "text": [
      "(20628, 4)\n"
     ]
    }
   ],
   "source": [
    "import pandas as pd\n",
    "\n",
    "task1_data = pd.read_csv(\"/data/yingfei/cancer_data/llm_prompt_data/llm_inference_data/sens_simp_70b_inf.csv\")\n",
    "# task2_data = pd.read_csv(\"/data/yingfei/cancer_data/llm_prompt_data/llm_inference_data/bd_simp_70b_inf.csv\")\n",
    "print(task1_data.shape)\n",
    "# print(task2_data.shape)"
   ]
  },
  {
   "cell_type": "code",
   "execution_count": 2,
   "id": "5338d906",
   "metadata": {},
   "outputs": [
    {
     "data": {
      "text/html": [
       "<div>\n",
       "<style scoped>\n",
       "    .dataframe tbody tr th:only-of-type {\n",
       "        vertical-align: middle;\n",
       "    }\n",
       "\n",
       "    .dataframe tbody tr th {\n",
       "        vertical-align: top;\n",
       "    }\n",
       "\n",
       "    .dataframe thead th {\n",
       "        text-align: right;\n",
       "    }\n",
       "</style>\n",
       "<table border=\"1\" class=\"dataframe\">\n",
       "  <thead>\n",
       "    <tr style=\"text-align: right;\">\n",
       "      <th></th>\n",
       "      <th>cell_id</th>\n",
       "      <th>prompt</th>\n",
       "      <th>answer</th>\n",
       "      <th>output_70</th>\n",
       "    </tr>\n",
       "  </thead>\n",
       "  <tbody>\n",
       "    <tr>\n",
       "      <th>0</th>\n",
       "      <td>ACH-000001</td>\n",
       "      <td>Think step by step and decide in a single word...</td>\n",
       "      <td>Sensitive</td>\n",
       "      <td>Reasoning:?\\n\\nAnswer: Sensitive.\\nReasoning: ...</td>\n",
       "    </tr>\n",
       "    <tr>\n",
       "      <th>1</th>\n",
       "      <td>ACH-000001</td>\n",
       "      <td>Think step by step and decide in a single word...</td>\n",
       "      <td>Sensitive</td>\n",
       "      <td>Reasoning:?\\n\\nAnswer: Sensitive.\\nReasoning: ...</td>\n",
       "    </tr>\n",
       "    <tr>\n",
       "      <th>2</th>\n",
       "      <td>ACH-000001</td>\n",
       "      <td>Think step by step and decide in a single word...</td>\n",
       "      <td>Sensitive</td>\n",
       "      <td>Reasoning:?\\n\\nAnswer: Sensitive.\\nReasoning: ...</td>\n",
       "    </tr>\n",
       "    <tr>\n",
       "      <th>3</th>\n",
       "      <td>ACH-000001</td>\n",
       "      <td>Think step by step and decide in a single word...</td>\n",
       "      <td>Sensitive</td>\n",
       "      <td>Reasoning:?\\n\\nAnswer: Sensitive.\\nReasoning: ...</td>\n",
       "    </tr>\n",
       "    <tr>\n",
       "      <th>4</th>\n",
       "      <td>ACH-000001</td>\n",
       "      <td>Think step by step and decide in a single word...</td>\n",
       "      <td>Resistant</td>\n",
       "      <td>Reasoning:?\\n\\nAnswer: Sensitive.\\nReasoning: ...</td>\n",
       "    </tr>\n",
       "  </tbody>\n",
       "</table>\n",
       "</div>"
      ],
      "text/plain": [
       "      cell_id                                             prompt     answer  \\\n",
       "0  ACH-000001  Think step by step and decide in a single word...  Sensitive   \n",
       "1  ACH-000001  Think step by step and decide in a single word...  Sensitive   \n",
       "2  ACH-000001  Think step by step and decide in a single word...  Sensitive   \n",
       "3  ACH-000001  Think step by step and decide in a single word...  Sensitive   \n",
       "4  ACH-000001  Think step by step and decide in a single word...  Resistant   \n",
       "\n",
       "                                           output_70  \n",
       "0  Reasoning:?\\n\\nAnswer: Sensitive.\\nReasoning: ...  \n",
       "1  Reasoning:?\\n\\nAnswer: Sensitive.\\nReasoning: ...  \n",
       "2  Reasoning:?\\n\\nAnswer: Sensitive.\\nReasoning: ...  \n",
       "3  Reasoning:?\\n\\nAnswer: Sensitive.\\nReasoning: ...  \n",
       "4  Reasoning:?\\n\\nAnswer: Sensitive.\\nReasoning: ...  "
      ]
     },
     "execution_count": 2,
     "metadata": {},
     "output_type": "execute_result"
    }
   ],
   "source": [
    "### Task 1\n",
    "task1_data.head()"
   ]
  },
  {
   "cell_type": "code",
   "execution_count": 3,
   "id": "f6734f1c",
   "metadata": {},
   "outputs": [
    {
     "name": "stdout",
     "output_type": "stream",
     "text": [
      "(200, 4)\n"
     ]
    }
   ],
   "source": [
    "task1_data = task1_data.loc[task1_data.output_70.apply(lambda x: len(str(x))>3)]\n",
    "print(task1_data.shape)"
   ]
  },
  {
   "cell_type": "code",
   "execution_count": 4,
   "id": "e4b1cb02",
   "metadata": {},
   "outputs": [
    {
     "data": {
      "text/html": [
       "<div>\n",
       "<style scoped>\n",
       "    .dataframe tbody tr th:only-of-type {\n",
       "        vertical-align: middle;\n",
       "    }\n",
       "\n",
       "    .dataframe tbody tr th {\n",
       "        vertical-align: top;\n",
       "    }\n",
       "\n",
       "    .dataframe thead th {\n",
       "        text-align: right;\n",
       "    }\n",
       "</style>\n",
       "<table border=\"1\" class=\"dataframe\">\n",
       "  <thead>\n",
       "    <tr style=\"text-align: right;\">\n",
       "      <th></th>\n",
       "      <th>cell_id</th>\n",
       "      <th>prompt</th>\n",
       "      <th>answer</th>\n",
       "      <th>output_70</th>\n",
       "    </tr>\n",
       "  </thead>\n",
       "  <tbody>\n",
       "    <tr>\n",
       "      <th>34</th>\n",
       "      <td>ACH-000002</td>\n",
       "      <td>Think step by step and decide in a single word...</td>\n",
       "      <td>Sensitive</td>\n",
       "      <td>Reasoning:?\\n\\nAnswer: Sensitive.\\nReasoning: ...</td>\n",
       "    </tr>\n",
       "    <tr>\n",
       "      <th>42</th>\n",
       "      <td>ACH-000002</td>\n",
       "      <td>Think step by step and decide in a single word...</td>\n",
       "      <td>Sensitive</td>\n",
       "      <td>Reasoning:?\\n\\nAnswer:\\nDrug Sensitivity: Resi...</td>\n",
       "    </tr>\n",
       "    <tr>\n",
       "      <th>58</th>\n",
       "      <td>ACH-000002</td>\n",
       "      <td>Think step by step and decide in a single word...</td>\n",
       "      <td>Resistant</td>\n",
       "      <td>Reasoning:?\\n\\nAnswer:\\nDrug Sensitivity: Resi...</td>\n",
       "    </tr>\n",
       "    <tr>\n",
       "      <th>63</th>\n",
       "      <td>ACH-000002</td>\n",
       "      <td>Think step by step and decide in a single word...</td>\n",
       "      <td>Resistant</td>\n",
       "      <td>Reasoning:?\\n\\nAnswer:\\nDrug Sensitivity: Resi...</td>\n",
       "    </tr>\n",
       "    <tr>\n",
       "      <th>73</th>\n",
       "      <td>ACH-000004</td>\n",
       "      <td>Think step by step and decide in a single word...</td>\n",
       "      <td>Sensitive</td>\n",
       "      <td>Reasoning:?\\n\\nAnswer:\\nDrug Sensitivity: Resi...</td>\n",
       "    </tr>\n",
       "    <tr>\n",
       "      <th>105</th>\n",
       "      <td>ACH-000007</td>\n",
       "      <td>Think step by step and decide in a single word...</td>\n",
       "      <td>Sensitive</td>\n",
       "      <td>Reasoning:?\\n\\nAnswer: Sensitive.\\nReasoning: ...</td>\n",
       "    </tr>\n",
       "    <tr>\n",
       "      <th>114</th>\n",
       "      <td>ACH-000007</td>\n",
       "      <td>Think step by step and decide in a single word...</td>\n",
       "      <td>Sensitive</td>\n",
       "      <td>Reasoning:?\\n\\nAnswer: Sensitive.\\nReasoning: ...</td>\n",
       "    </tr>\n",
       "    <tr>\n",
       "      <th>164</th>\n",
       "      <td>ACH-000008</td>\n",
       "      <td>Think step by step and decide in a single word...</td>\n",
       "      <td>Resistant</td>\n",
       "      <td>Reasoning:?\\n\\nAnswer:\\nDrug Sensitivity: Resi...</td>\n",
       "    </tr>\n",
       "    <tr>\n",
       "      <th>166</th>\n",
       "      <td>ACH-000008</td>\n",
       "      <td>Think step by step and decide in a single word...</td>\n",
       "      <td>Resistant</td>\n",
       "      <td>Reasoning:?\\n\\nAnswer:\\nDrug Sensitivity: Resi...</td>\n",
       "    </tr>\n",
       "  </tbody>\n",
       "</table>\n",
       "</div>"
      ],
      "text/plain": [
       "        cell_id                                             prompt     answer  \\\n",
       "34   ACH-000002  Think step by step and decide in a single word...  Sensitive   \n",
       "42   ACH-000002  Think step by step and decide in a single word...  Sensitive   \n",
       "58   ACH-000002  Think step by step and decide in a single word...  Resistant   \n",
       "63   ACH-000002  Think step by step and decide in a single word...  Resistant   \n",
       "73   ACH-000004  Think step by step and decide in a single word...  Sensitive   \n",
       "105  ACH-000007  Think step by step and decide in a single word...  Sensitive   \n",
       "114  ACH-000007  Think step by step and decide in a single word...  Sensitive   \n",
       "164  ACH-000008  Think step by step and decide in a single word...  Resistant   \n",
       "166  ACH-000008  Think step by step and decide in a single word...  Resistant   \n",
       "\n",
       "                                             output_70  \n",
       "34   Reasoning:?\\n\\nAnswer: Sensitive.\\nReasoning: ...  \n",
       "42   Reasoning:?\\n\\nAnswer:\\nDrug Sensitivity: Resi...  \n",
       "58   Reasoning:?\\n\\nAnswer:\\nDrug Sensitivity: Resi...  \n",
       "63   Reasoning:?\\n\\nAnswer:\\nDrug Sensitivity: Resi...  \n",
       "73   Reasoning:?\\n\\nAnswer:\\nDrug Sensitivity: Resi...  \n",
       "105  Reasoning:?\\n\\nAnswer: Sensitive.\\nReasoning: ...  \n",
       "114  Reasoning:?\\n\\nAnswer: Sensitive.\\nReasoning: ...  \n",
       "164  Reasoning:?\\n\\nAnswer:\\nDrug Sensitivity: Resi...  \n",
       "166  Reasoning:?\\n\\nAnswer:\\nDrug Sensitivity: Resi...  "
      ]
     },
     "execution_count": 4,
     "metadata": {},
     "output_type": "execute_result"
    }
   ],
   "source": [
    "task1_data.loc[task1_data.output_70.apply(lambda x: \"Drug Sensitivity:\" in x)]"
   ]
  },
  {
   "cell_type": "code",
   "execution_count": 5,
   "id": "21574626",
   "metadata": {},
   "outputs": [
    {
     "data": {
      "text/plain": [
       "'Answer: Resistant.\\nReasoning: The drug ARA-G is an anti-metabolite that targets the mTOR pathway. The cell line has a mutation in RPTOR, which is a key component of the mTOR pathway. This mutation is likely to confer resistance to the drug, as it may disrupt the binding of the drug to its target or alter the downstream signaling pathways. Additionally, the cell line has mutations in CDKN2A, CEBPA, and KDM5C, which may also contribute to resistance to the drug by disrupting cell cycle regulation and epigenetic modulation. Therefore, the drug sensitivity of the cell line with these mutations is likely to be Resistant.'"
      ]
     },
     "execution_count": 5,
     "metadata": {},
     "output_type": "execute_result"
    }
   ],
   "source": [
    "task1_data.loc[52, \"output_70\"]"
   ]
  },
  {
   "cell_type": "code",
   "execution_count": 6,
   "id": "497dcac4",
   "metadata": {},
   "outputs": [
    {
     "data": {
      "text/plain": [
       "array(['Sensitive', 'Resistant'], dtype=object)"
      ]
     },
     "execution_count": 6,
     "metadata": {},
     "output_type": "execute_result"
    }
   ],
   "source": [
    "# task1_data['prediction'] = task1_data.output_70.apply(lambda x: x.split(\"Answer:\")[1].split(\"Reasoning:\")[0][:-2][1:])\n",
    "for i in range(len(task1_data)):\n",
    "    output = task1_data.output_70[i]\n",
    "    if \"Answer: \" in output:\n",
    "        pred = output.split(\"Answer: \")[1].split(\"\\nReasoning:\")[0]\n",
    "    elif \"Answer:\\n\" in output:\n",
    "        pred = output.split(\"Answer:\\n\")[1].split(\"\\nReasoning:\")[0]\n",
    "    if \"Drug Sensitivity: \" in pred:\n",
    "        pred = pred.split(\"Drug Sensitivity: \")[1]\n",
    "    if \".\" in pred:\n",
    "        pred = pred.replace(\".\", \"\")\n",
    "    task1_data.loc[i, \"prediction\"] = pred\n",
    "\n",
    "task1_data.prediction.unique() # both sensitive and resistant"
   ]
  },
  {
   "cell_type": "code",
   "execution_count": 7,
   "id": "8e8de5a3",
   "metadata": {},
   "outputs": [
    {
     "data": {
      "text/plain": [
       "0.525"
      ]
     },
     "execution_count": 7,
     "metadata": {},
     "output_type": "execute_result"
    }
   ],
   "source": [
    "task1_acc = sum(task1_data.prediction == task1_data.answer) / len(task1_data)\n",
    "task1_acc"
   ]
  },
  {
   "cell_type": "code",
   "execution_count": 8,
   "id": "6e0da662",
   "metadata": {},
   "outputs": [
    {
     "data": {
      "text/html": [
       "<div>\n",
       "<style scoped>\n",
       "    .dataframe tbody tr th:only-of-type {\n",
       "        vertical-align: middle;\n",
       "    }\n",
       "\n",
       "    .dataframe tbody tr th {\n",
       "        vertical-align: top;\n",
       "    }\n",
       "\n",
       "    .dataframe thead th {\n",
       "        text-align: right;\n",
       "    }\n",
       "</style>\n",
       "<table border=\"1\" class=\"dataframe\">\n",
       "  <thead>\n",
       "    <tr style=\"text-align: right;\">\n",
       "      <th></th>\n",
       "      <th>cell_id</th>\n",
       "      <th>prompt</th>\n",
       "      <th>answer</th>\n",
       "      <th>output_70</th>\n",
       "      <th>prediction</th>\n",
       "    </tr>\n",
       "  </thead>\n",
       "  <tbody>\n",
       "    <tr>\n",
       "      <th>42</th>\n",
       "      <td>ACH-000002</td>\n",
       "      <td>Think step by step and decide in a single word...</td>\n",
       "      <td>Sensitive</td>\n",
       "      <td>Reasoning:?\\n\\nAnswer:\\nDrug Sensitivity: Resi...</td>\n",
       "      <td>Resistant</td>\n",
       "    </tr>\n",
       "    <tr>\n",
       "      <th>52</th>\n",
       "      <td>ACH-000002</td>\n",
       "      <td>Think step by step and decide in a single word...</td>\n",
       "      <td>Sensitive</td>\n",
       "      <td>Answer: Resistant.\\nReasoning: The drug ARA-G ...</td>\n",
       "      <td>Resistant</td>\n",
       "    </tr>\n",
       "    <tr>\n",
       "      <th>58</th>\n",
       "      <td>ACH-000002</td>\n",
       "      <td>Think step by step and decide in a single word...</td>\n",
       "      <td>Resistant</td>\n",
       "      <td>Reasoning:?\\n\\nAnswer:\\nDrug Sensitivity: Resi...</td>\n",
       "      <td>Resistant</td>\n",
       "    </tr>\n",
       "    <tr>\n",
       "      <th>63</th>\n",
       "      <td>ACH-000002</td>\n",
       "      <td>Think step by step and decide in a single word...</td>\n",
       "      <td>Resistant</td>\n",
       "      <td>Reasoning:?\\n\\nAnswer:\\nDrug Sensitivity: Resi...</td>\n",
       "      <td>Resistant</td>\n",
       "    </tr>\n",
       "    <tr>\n",
       "      <th>73</th>\n",
       "      <td>ACH-000004</td>\n",
       "      <td>Think step by step and decide in a single word...</td>\n",
       "      <td>Sensitive</td>\n",
       "      <td>Reasoning:?\\n\\nAnswer:\\nDrug Sensitivity: Resi...</td>\n",
       "      <td>Resistant</td>\n",
       "    </tr>\n",
       "    <tr>\n",
       "      <th>82</th>\n",
       "      <td>ACH-000004</td>\n",
       "      <td>Think step by step and decide in a single word...</td>\n",
       "      <td>Resistant</td>\n",
       "      <td>Answer: Resistant.\\nReasoning: The drug GEFITI...</td>\n",
       "      <td>Resistant</td>\n",
       "    </tr>\n",
       "    <tr>\n",
       "      <th>88</th>\n",
       "      <td>ACH-000004</td>\n",
       "      <td>Think step by step and decide in a single word...</td>\n",
       "      <td>Sensitive</td>\n",
       "      <td>Answer: Resistant.\\nReasoning: ARA-G is a nucl...</td>\n",
       "      <td>Resistant</td>\n",
       "    </tr>\n",
       "    <tr>\n",
       "      <th>136</th>\n",
       "      <td>ACH-000008</td>\n",
       "      <td>Think step by step and decide in a single word...</td>\n",
       "      <td>Resistant</td>\n",
       "      <td>Answer: Resistant.\\nReasoning: The drug VX-11E...</td>\n",
       "      <td>Resistant</td>\n",
       "    </tr>\n",
       "    <tr>\n",
       "      <th>164</th>\n",
       "      <td>ACH-000008</td>\n",
       "      <td>Think step by step and decide in a single word...</td>\n",
       "      <td>Resistant</td>\n",
       "      <td>Reasoning:?\\n\\nAnswer:\\nDrug Sensitivity: Resi...</td>\n",
       "      <td>Resistant</td>\n",
       "    </tr>\n",
       "    <tr>\n",
       "      <th>166</th>\n",
       "      <td>ACH-000008</td>\n",
       "      <td>Think step by step and decide in a single word...</td>\n",
       "      <td>Resistant</td>\n",
       "      <td>Reasoning:?\\n\\nAnswer:\\nDrug Sensitivity: Resi...</td>\n",
       "      <td>Resistant</td>\n",
       "    </tr>\n",
       "  </tbody>\n",
       "</table>\n",
       "</div>"
      ],
      "text/plain": [
       "        cell_id                                             prompt     answer  \\\n",
       "42   ACH-000002  Think step by step and decide in a single word...  Sensitive   \n",
       "52   ACH-000002  Think step by step and decide in a single word...  Sensitive   \n",
       "58   ACH-000002  Think step by step and decide in a single word...  Resistant   \n",
       "63   ACH-000002  Think step by step and decide in a single word...  Resistant   \n",
       "73   ACH-000004  Think step by step and decide in a single word...  Sensitive   \n",
       "82   ACH-000004  Think step by step and decide in a single word...  Resistant   \n",
       "88   ACH-000004  Think step by step and decide in a single word...  Sensitive   \n",
       "136  ACH-000008  Think step by step and decide in a single word...  Resistant   \n",
       "164  ACH-000008  Think step by step and decide in a single word...  Resistant   \n",
       "166  ACH-000008  Think step by step and decide in a single word...  Resistant   \n",
       "\n",
       "                                             output_70 prediction  \n",
       "42   Reasoning:?\\n\\nAnswer:\\nDrug Sensitivity: Resi...  Resistant  \n",
       "52   Answer: Resistant.\\nReasoning: The drug ARA-G ...  Resistant  \n",
       "58   Reasoning:?\\n\\nAnswer:\\nDrug Sensitivity: Resi...  Resistant  \n",
       "63   Reasoning:?\\n\\nAnswer:\\nDrug Sensitivity: Resi...  Resistant  \n",
       "73   Reasoning:?\\n\\nAnswer:\\nDrug Sensitivity: Resi...  Resistant  \n",
       "82   Answer: Resistant.\\nReasoning: The drug GEFITI...  Resistant  \n",
       "88   Answer: Resistant.\\nReasoning: ARA-G is a nucl...  Resistant  \n",
       "136  Answer: Resistant.\\nReasoning: The drug VX-11E...  Resistant  \n",
       "164  Reasoning:?\\n\\nAnswer:\\nDrug Sensitivity: Resi...  Resistant  \n",
       "166  Reasoning:?\\n\\nAnswer:\\nDrug Sensitivity: Resi...  Resistant  "
      ]
     },
     "execution_count": 8,
     "metadata": {},
     "output_type": "execute_result"
    }
   ],
   "source": [
    "task1_data.loc[task1_data.prediction == \"Resistant\"]"
   ]
  },
  {
   "cell_type": "code",
   "execution_count": 9,
   "id": "183ff0fd",
   "metadata": {},
   "outputs": [
    {
     "name": "stdout",
     "output_type": "stream",
     "text": [
      "The drug VX-11E is a MEK inhibitor, which targets the ERK MAPK signaling pathway. The mutations in the cell line, NOTCH1, NOTCH3, PIK3R1, PPP2R1A, TP53, TSC2, and WHSC1L1, do not affect the ERK MAPK pathway directly. Therefore, the drug should still be effective in inhibiting the ERK pathway in this cell line, making it sensitive to the drug.\n",
      "The drug AGI-6780 is an inhibitor of IDH2, which is a key enzyme in the citric acid cycle. The R140Q mutation in IDH2 has been shown to result in a gain-of-function, leading to increased production of 2-hydroxyglutarate (2HG). 2HG is a key intermediate in the citric acid cycle and its accumulation has been linked to various cellular processes, including cell proliferation and survival.\n",
      "\n",
      "The cell line with the mutations NOTCH1, NOTCH3, PIK3R1, PPP2R1A, TP53, TSC2, and WHSC1L1 has been shown to have increased activity in the PI3K/Akt signaling pathway, which is downstream of IDH2 in the citric acid cycle. Inhibition of IDH2 by AGI-6780 would reduce the production of 2HG, which in turn would inhibit the PI3K/Akt signaling pathway. Therefore, the cell line with these mutations would be sensitive to AGI-6780.\n",
      "The drug AZD8931 is a pan-EGFR inhibitor that targets the EGFR, ERBB2, and ERBB3 receptors. The cell line has mutations in NOTCH1, NOTCH3, PIK3R1, PPP2R1A, TP53, TSC2, and WHSC1L1 genes. However, none of these mutations are known to confer resistance to EGFR inhibitors. In fact, some of these mutations, such as TP53 and PIK3R1, have been associated with increased sensitivity to EGFR inhibitors. Therefore, based on the available information, it is likely that the cell line with these mutations would be sensitive to AZD8931.\n"
     ]
    }
   ],
   "source": [
    "task1_data['reasoning'] = task1_data.output_70.apply(lambda x: x.split(\"\\nReasoning:\")[1][1:] if x.split(\"\\nReasoning:\")[1][0] == \" \" else x.split(\"\\nReasoning:\")[1])\n",
    "for i in range(3):\n",
    "    print(task1_data.reasoning.unique()[i])"
   ]
  },
  {
   "cell_type": "code",
   "execution_count": 10,
   "id": "1f364a9e",
   "metadata": {},
   "outputs": [
    {
     "name": "stdout",
     "output_type": "stream",
     "text": [
      "Think step by step and decide in a single word reflecting the drug sensitivity of the drug on the cell line with given mutations: [Sensitive/Resistant], [Reasoning].\n",
      "Drug and cell line mutations: \n",
      "The drug is VX-11E. The drug SMILES structure is CC1=CN=C(NC2=C(Cl)C=C(F)C=C2)N=C1C3=CNC(C(N[C@@H](C4=CC(Cl)=CC=C4)CO)=O)=C3. Drug target is ERK2. Drug target pathway is ERK MAPK signaling.\n",
      "The mutations of the cell line are NOTCH1, NOTCH3, PIK3R1, PPP2R1A, TP53, TSC2, WHSC1L1.\n",
      "Drug Sensitivity: ?\n",
      "Sensitive\n",
      "Sensitive\n"
     ]
    },
    {
     "data": {
      "text/plain": [
       "'The drug VX-11E is a MEK inhibitor, which targets the ERK MAPK signaling pathway. The mutations in the cell line, NOTCH1, NOTCH3, PIK3R1, PPP2R1A, TP53, TSC2, and WHSC1L1, do not affect the ERK MAPK pathway directly. Therefore, the drug should still be effective in inhibiting the ERK pathway in this cell line, making it sensitive to the drug.'"
      ]
     },
     "execution_count": 10,
     "metadata": {},
     "output_type": "execute_result"
    }
   ],
   "source": [
    "print(task1_data[\"prompt\"][0])\n",
    "print(task1_data[\"answer\"][0])\n",
    "print(task1_data[\"prediction\"][0])\n",
    "task1_data['reasoning'][0]"
   ]
  },
  {
   "cell_type": "code",
   "execution_count": 11,
   "id": "92b484a5",
   "metadata": {},
   "outputs": [
    {
     "data": {
      "text/html": [
       "<div>\n",
       "<style scoped>\n",
       "    .dataframe tbody tr th:only-of-type {\n",
       "        vertical-align: middle;\n",
       "    }\n",
       "\n",
       "    .dataframe tbody tr th {\n",
       "        vertical-align: top;\n",
       "    }\n",
       "\n",
       "    .dataframe thead th {\n",
       "        text-align: right;\n",
       "    }\n",
       "</style>\n",
       "<table border=\"1\" class=\"dataframe\">\n",
       "  <thead>\n",
       "    <tr style=\"text-align: right;\">\n",
       "      <th></th>\n",
       "      <th>cell_id</th>\n",
       "      <th>prompt</th>\n",
       "      <th>answer</th>\n",
       "      <th>output_70</th>\n",
       "      <th>prediction</th>\n",
       "      <th>reasoning</th>\n",
       "    </tr>\n",
       "  </thead>\n",
       "  <tbody>\n",
       "    <tr>\n",
       "      <th>0</th>\n",
       "      <td>ACH-000001</td>\n",
       "      <td>Think step by step and decide in a single word...</td>\n",
       "      <td>Sensitive</td>\n",
       "      <td>Reasoning:?\\n\\nAnswer: Sensitive.\\nReasoning: ...</td>\n",
       "      <td>Sensitive</td>\n",
       "      <td>The drug VX-11E is a MEK inhibitor, which targ...</td>\n",
       "    </tr>\n",
       "    <tr>\n",
       "      <th>1</th>\n",
       "      <td>ACH-000001</td>\n",
       "      <td>Think step by step and decide in a single word...</td>\n",
       "      <td>Sensitive</td>\n",
       "      <td>Reasoning:?\\n\\nAnswer: Sensitive.\\nReasoning: ...</td>\n",
       "      <td>Sensitive</td>\n",
       "      <td>The drug AGI-6780 is an inhibitor of IDH2, whi...</td>\n",
       "    </tr>\n",
       "    <tr>\n",
       "      <th>2</th>\n",
       "      <td>ACH-000001</td>\n",
       "      <td>Think step by step and decide in a single word...</td>\n",
       "      <td>Sensitive</td>\n",
       "      <td>Reasoning:?\\n\\nAnswer: Sensitive.\\nReasoning: ...</td>\n",
       "      <td>Sensitive</td>\n",
       "      <td>The drug AZD8931 is a pan-EGFR inhibitor that ...</td>\n",
       "    </tr>\n",
       "    <tr>\n",
       "      <th>3</th>\n",
       "      <td>ACH-000001</td>\n",
       "      <td>Think step by step and decide in a single word...</td>\n",
       "      <td>Sensitive</td>\n",
       "      <td>Reasoning:?\\n\\nAnswer: Sensitive.\\nReasoning: ...</td>\n",
       "      <td>Sensitive</td>\n",
       "      <td>The drug IMATINIB is a tyrosine kinase inhibit...</td>\n",
       "    </tr>\n",
       "    <tr>\n",
       "      <th>4</th>\n",
       "      <td>ACH-000001</td>\n",
       "      <td>Think step by step and decide in a single word...</td>\n",
       "      <td>Resistant</td>\n",
       "      <td>Reasoning:?\\n\\nAnswer: Sensitive.\\nReasoning: ...</td>\n",
       "      <td>Sensitive</td>\n",
       "      <td>The drug XMD11-85H is a potent and selective L...</td>\n",
       "    </tr>\n",
       "  </tbody>\n",
       "</table>\n",
       "</div>"
      ],
      "text/plain": [
       "      cell_id                                             prompt     answer  \\\n",
       "0  ACH-000001  Think step by step and decide in a single word...  Sensitive   \n",
       "1  ACH-000001  Think step by step and decide in a single word...  Sensitive   \n",
       "2  ACH-000001  Think step by step and decide in a single word...  Sensitive   \n",
       "3  ACH-000001  Think step by step and decide in a single word...  Sensitive   \n",
       "4  ACH-000001  Think step by step and decide in a single word...  Resistant   \n",
       "\n",
       "                                           output_70 prediction  \\\n",
       "0  Reasoning:?\\n\\nAnswer: Sensitive.\\nReasoning: ...  Sensitive   \n",
       "1  Reasoning:?\\n\\nAnswer: Sensitive.\\nReasoning: ...  Sensitive   \n",
       "2  Reasoning:?\\n\\nAnswer: Sensitive.\\nReasoning: ...  Sensitive   \n",
       "3  Reasoning:?\\n\\nAnswer: Sensitive.\\nReasoning: ...  Sensitive   \n",
       "4  Reasoning:?\\n\\nAnswer: Sensitive.\\nReasoning: ...  Sensitive   \n",
       "\n",
       "                                           reasoning  \n",
       "0  The drug VX-11E is a MEK inhibitor, which targ...  \n",
       "1  The drug AGI-6780 is an inhibitor of IDH2, whi...  \n",
       "2  The drug AZD8931 is a pan-EGFR inhibitor that ...  \n",
       "3  The drug IMATINIB is a tyrosine kinase inhibit...  \n",
       "4  The drug XMD11-85H is a potent and selective L...  "
      ]
     },
     "execution_count": 11,
     "metadata": {},
     "output_type": "execute_result"
    }
   ],
   "source": [
    "task1_data.head()"
   ]
  },
  {
   "cell_type": "code",
   "execution_count": 13,
   "id": "5fb11165-a9d5-42bc-a416-709b27480637",
   "metadata": {},
   "outputs": [
    {
     "data": {
      "text/plain": [
       "array([[ 6, 91],\n",
       "       [ 4, 99]])"
      ]
     },
     "execution_count": 13,
     "metadata": {},
     "output_type": "execute_result"
    }
   ],
   "source": [
    "from sklearn.metrics import confusion_matrix, accuracy_score\n",
    "confusion_matrix(task1_data.answer, task1_data.prediction)"
   ]
  },
  {
   "cell_type": "code",
   "execution_count": 14,
   "id": "01b303e0-4e47-42b4-9143-6e5dcf82ea3d",
   "metadata": {},
   "outputs": [
    {
     "data": {
      "text/plain": [
       "0.525"
      ]
     },
     "execution_count": 14,
     "metadata": {},
     "output_type": "execute_result"
    }
   ],
   "source": [
    "accuracy_score(task1_data.answer, task1_data.prediction)"
   ]
  },
  {
   "cell_type": "code",
   "execution_count": 12,
   "id": "eb1ba5b3",
   "metadata": {},
   "outputs": [],
   "source": [
    "### Result analysis\n",
    "# 1) information used in the reasoning and its validity\n",
    "# 2) any difference in reasoning for sensitive or resistant?\n",
    "# 3) repetitive information within the reasoning and with the prompt"
   ]
  }
 ],
 "metadata": {
  "kernelspec": {
   "display_name": "llm_env",
   "language": "python",
   "name": "llm_env"
  },
  "language_info": {
   "codemirror_mode": {
    "name": "ipython",
    "version": 3
   },
   "file_extension": ".py",
   "mimetype": "text/x-python",
   "name": "python",
   "nbconvert_exporter": "python",
   "pygments_lexer": "ipython3",
   "version": "3.9.12"
  }
 },
 "nbformat": 4,
 "nbformat_minor": 5
}
