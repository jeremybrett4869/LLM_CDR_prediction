{
 "cells": [
  {
   "cell_type": "code",
   "execution_count": 2,
   "id": "4979f521",
   "metadata": {},
   "outputs": [
    {
     "name": "stdout",
     "output_type": "stream",
     "text": [
      "(2312, 4)\n"
     ]
    }
   ],
   "source": [
    "import pandas as pd\n",
    "\n",
    "task1_data = pd.read_csv(\"/data/yingfei/cancer_data/llm_prompt_data/llm_inference_data/sens_simp_7b_inf_test.csv\")\n",
    "# task2_data = pd.read_csv(\"/data/yingfei/cancer_data/llm_prompt_data/llm_inference_data/bd_diff_70b_inf.csv\")\n",
    "print(task1_data.shape)\n",
    "# print(task2_data.shape)"
   ]
  },
  {
   "cell_type": "code",
   "execution_count": 7,
   "id": "5338d906",
   "metadata": {},
   "outputs": [
    {
     "name": "stdout",
     "output_type": "stream",
     "text": [
      "(139, 4)\n"
     ]
    },
    {
     "data": {
      "text/html": [
       "<div>\n",
       "<style scoped>\n",
       "    .dataframe tbody tr th:only-of-type {\n",
       "        vertical-align: middle;\n",
       "    }\n",
       "\n",
       "    .dataframe tbody tr th {\n",
       "        vertical-align: top;\n",
       "    }\n",
       "\n",
       "    .dataframe thead th {\n",
       "        text-align: right;\n",
       "    }\n",
       "</style>\n",
       "<table border=\"1\" class=\"dataframe\">\n",
       "  <thead>\n",
       "    <tr style=\"text-align: right;\">\n",
       "      <th></th>\n",
       "      <th>cell_id</th>\n",
       "      <th>prompt</th>\n",
       "      <th>answer</th>\n",
       "      <th>output_med</th>\n",
       "    </tr>\n",
       "  </thead>\n",
       "  <tbody>\n",
       "    <tr>\n",
       "      <th>0</th>\n",
       "      <td>ACH-000006</td>\n",
       "      <td>Think step by step and decide in a single word...</td>\n",
       "      <td>Sensitive</td>\n",
       "      <td>I'm sorry, but I don't understand your questio...</td>\n",
       "    </tr>\n",
       "    <tr>\n",
       "      <th>1</th>\n",
       "      <td>ACH-000006</td>\n",
       "      <td>Think step by step and decide in a single word...</td>\n",
       "      <td>Resistant</td>\n",
       "      <td>Reasoning: \\nI'm sorry, but I don't understand...</td>\n",
       "    </tr>\n",
       "    <tr>\n",
       "      <th>2</th>\n",
       "      <td>ACH-000006</td>\n",
       "      <td>Think step by step and decide in a single word...</td>\n",
       "      <td>Resistant</td>\n",
       "      <td>I'm sorry, but I don't understand your questio...</td>\n",
       "    </tr>\n",
       "    <tr>\n",
       "      <th>3</th>\n",
       "      <td>ACH-000006</td>\n",
       "      <td>Think step by step and decide in a single word...</td>\n",
       "      <td>Sensitive</td>\n",
       "      <td>Reasoning: \\nThe cell line is sensitive to the...</td>\n",
       "    </tr>\n",
       "    <tr>\n",
       "      <th>4</th>\n",
       "      <td>ACH-000006</td>\n",
       "      <td>Think step by step and decide in a single word...</td>\n",
       "      <td>Sensitive</td>\n",
       "      <td>I'm sorry, but I don't understand your questio...</td>\n",
       "    </tr>\n",
       "  </tbody>\n",
       "</table>\n",
       "</div>"
      ],
      "text/plain": [
       "      cell_id                                             prompt     answer  \\\n",
       "0  ACH-000006  Think step by step and decide in a single word...  Sensitive   \n",
       "1  ACH-000006  Think step by step and decide in a single word...  Resistant   \n",
       "2  ACH-000006  Think step by step and decide in a single word...  Resistant   \n",
       "3  ACH-000006  Think step by step and decide in a single word...  Sensitive   \n",
       "4  ACH-000006  Think step by step and decide in a single word...  Sensitive   \n",
       "\n",
       "                                          output_med  \n",
       "0  I'm sorry, but I don't understand your questio...  \n",
       "1  Reasoning: \\nI'm sorry, but I don't understand...  \n",
       "2  I'm sorry, but I don't understand your questio...  \n",
       "3  Reasoning: \\nThe cell line is sensitive to the...  \n",
       "4  I'm sorry, but I don't understand your questio...  "
      ]
     },
     "execution_count": 7,
     "metadata": {},
     "output_type": "execute_result"
    }
   ],
   "source": [
    "### Task 1 - zero shot\n",
    "print(task1_data.shape)\n",
    "task1_data.head()"
   ]
  },
  {
   "cell_type": "code",
   "execution_count": 5,
   "id": "7ef95718",
   "metadata": {},
   "outputs": [
    {
     "name": "stdout",
     "output_type": "stream",
     "text": [
      "(139, 4)\n"
     ]
    }
   ],
   "source": [
    "task1_data = task1_data.loc[task1_data.output_med.apply(lambda x: len(str(x))>3)]\n",
    "print(task1_data.shape)"
   ]
  },
  {
   "cell_type": "code",
   "execution_count": 8,
   "id": "52d08823",
   "metadata": {},
   "outputs": [
    {
     "name": "stderr",
     "output_type": "stream",
     "text": [
      "/tmp/ipykernel_27235/4212682502.py:1: SettingWithCopyWarning: \n",
      "A value is trying to be set on a copy of a slice from a DataFrame.\n",
      "Try using .loc[row_indexer,col_indexer] = value instead\n",
      "\n",
      "See the caveats in the documentation: https://pandas.pydata.org/pandas-docs/stable/user_guide/indexing.html#returning-a-view-versus-a-copy\n",
      "  task1_data['prediction'] = task1_data['output_med'].apply(lambda x: \"Check\" if \"sensitive\" in x.lower() and \"resistant\" in x.lower() else \\\n"
     ]
    },
    {
     "data": {
      "text/plain": [
       "prediction\n",
       "None         52\n",
       "Sensitive    43\n",
       "Check        41\n",
       "Resistant     3\n",
       "Name: count, dtype: int64"
      ]
     },
     "execution_count": 8,
     "metadata": {},
     "output_type": "execute_result"
    }
   ],
   "source": [
    "task1_data['prediction'] = task1_data['output_med'].apply(lambda x: \"Check\" if \"sensitive\" in x.lower() and \"resistant\" in x.lower() else \\\n",
    "                                                               \"Sensitive\" if \"sensitive\" in x.lower() else \"Resistant\" if \"resistant\" in x.lower() \\\n",
    "                                                               else \"None\")\n",
    "task1_data['prediction'].value_counts()"
   ]
  },
  {
   "cell_type": "code",
   "execution_count": 12,
   "id": "ab0635f0",
   "metadata": {
    "scrolled": false
   },
   "outputs": [
    {
     "name": "stdout",
     "output_type": "stream",
     "text": [
      "0 Check\n",
      "I'm sorry, but I don't understand your question. Are you asking whether the cell line is sensitive or resistant to the drug? If so, please provide more information about the drug and cell line.\n",
      "\n",
      "1 None\n",
      "Reasoning: \n",
      "I'm sorry, but I don't understand your reasoning. Please provide more details.\n",
      "\n",
      "2 None\n",
      "I'm sorry, but I don't understand your question. Are you asking whether the drug will work on the cell line with the given mutations? If so, I don't have the information to answer that question. If you could please rephrase your question or provide more details, I would be happy to try to help you.\n",
      "\n",
      "4 Check\n",
      "I'm sorry, but I don't understand your question. Are you asking whether the cell line is sensitive or resistant to the drug? If so, please provide more details about the drug and cell line.\n",
      "\n",
      "9 Check\n",
      "I'm sorry, but I don't understand your question. Are you asking whether the cell line is sensitive or resistant to the drug? If so, please provide more information about the drug and cell line.\n",
      "\n",
      "11 Check\n",
      "I'm sorry, but I don't understand your question. Are you asking whether the cell line is sensitive or resistant to the drug? If so, please provide more information about the drug and cell line.\n",
      "\n",
      "12 Check\n",
      "I'm sorry, but I don't understand your question. What are you asking me to decide? Are you asking me to decide whether the drug is sensitive or resistant to the cell line with the given mutations? If so, I don't have enough information to make that decision. You need to provide more information about the cell line, such as its p53 status and its CDKN2A status.\n",
      "\n",
      "14 None\n",
      "Reasoning:?\n",
      "\n",
      "15 None\n",
      "Reasoning:?\n",
      "\n",
      "16 None\n",
      "??\n",
      "Reasoning: \n",
      "I'm sorry, but I don't understand your reasoning. Can you explain it to me?\n",
      "\n",
      "20 Check\n",
      "I'm sorry, but I don't understand your question. Are you asking whether the cell line is sensitive or resistant to the drug? If so, please provide more information about the drug and the cell line.\n",
      "\n",
      "22 Check\n",
      "I'm sorry, but I don't understand your question. What are you asking me to decide? Are you asking me to predict whether the drug will be sensitive or resistant to the cell line with the given mutations? If so, please provide more details about the drug and cell line.\n",
      "\n",
      "23 None\n",
      "I'm not sure how to proceed. I'm thinking of starting with the drug and working my way down to the cell line. Any advice?\n",
      "\n",
      "25 None\n",
      "I'm not sure how to proceed. I'm thinking of starting with the most common mutation and then proceeding to the least common. Any advice?\n",
      "\n",
      "26 Check\n",
      "I'm sorry, but I don't understand your question. Are you asking whether the cell line is sensitive or resistant to the drug? If so, please provide more details about the drug and cell line.\n",
      "\n",
      "27 Check\n",
      "I'm sorry, but I don't understand your question. What do you mean by \"drug sensitivity of the drug on the cell line with given mutations\"? Do you mean whether the cell line is sensitive or resistant to the drug? If so, please provide more details about the drug and cell line.\n",
      "\n",
      "29 Check\n",
      "I'm sorry, but I don't understand your question. Are you asking whether the cell line is sensitive or resistant to the drug? If so, please provide more details about the drug and cell line.\n",
      "\n",
      "35 None\n",
      "??\n",
      "Reasoning:???\n",
      "\n",
      "38 None\n",
      "Reasoning:?\n",
      "\n",
      "47 None\n",
      "??\n",
      "Reasoning:???\n",
      "\n",
      "48 None\n",
      "??\n",
      "Reasoning:???\n",
      "\n",
      "54 None\n",
      "Reasoning:?\n",
      "\n",
      "55 Check\n",
      "[Sensitive/Resistant]\n",
      "Reasoning: The drug is known to be sensitive to cells with mutations in the DNA repair pathway. However, the drug may still be effective in cells with mutations in other pathways.\n",
      "\n",
      "64 Check\n",
      "I'm sorry, but I don't understand your question. What are you asking me to decide? Are you asking me to decide whether the drug is sensitive or resistant to the cell line with the given mutations? If so, I don't have enough information to make that decision. You need to provide more information about the drug and the cell line, such as the mechanism of action of the drug and the nature of the mutations.\n",
      "\n",
      "65 None\n",
      "I'm sorry, but I don't understand your question. What are you asking me to decide?\n",
      "\n",
      "67 Check\n",
      "I'm sorry, but I don't understand your question. Are you asking whether the cell line is sensitive or resistant to the drug? If so, please provide more information about the drug and cell line.\n",
      "\n",
      "69 Check\n",
      "I'm sorry, but I don't understand your question. Are you asking whether the cell line is sensitive or resistant to the drug? If so, please provide more information about the drug and cell line.\n",
      "\n",
      "70 None\n",
      "??\n",
      "Reasoning: \n",
      "I'm sorry, but I don't understand the reasoning behind the drug sensitivity of the cell line with given mutations. Can you help me with that?\n",
      "\n",
      "71 None\n",
      "Reasoning:\n",
      "I'm sorry, but I don't understand your reasoning. Could you please explain it in more detail?\n",
      "\n",
      "72 None\n",
      "Reasoning:?\n",
      "\n",
      "73 Check\n",
      "I'm sorry, but I don't understand your question. Are you asking whether the cell line is sensitive or resistant to the drug? If so, please provide more information about the drug and cell line.\n",
      "\n",
      "74 Check\n",
      "[Sensitive/Resistant]\n",
      "Reasoning: The cell line is sensitive to the drug.\n",
      "\n",
      "76 None\n",
      "Reasoning: \n",
      "I'm sorry, but I don't understand your reasoning. Please provide more details.\n",
      "\n",
      "78 None\n",
      "I'm sorry, but I don't understand your question. Could you please rephrase it?\n",
      "\n",
      "81 Check\n",
      "I'm sorry, but I don't understand your question. What do you mean by \"drug sensitivity of the drug on the cell line with given mutations\"? Do you mean whether the cell line is sensitive or resistant to the drug? If so, please provide more details about the drug and cell line.\n",
      "\n",
      "82 None\n",
      "??\n",
      "Reasoning:???\n",
      "\n",
      "83 Check\n",
      "[Sensitive/Resistant]\n",
      "Reasoning: The cell line is resistant to the drug.\n",
      "\n",
      "87 None\n",
      "??\n",
      "Reasoning: \n",
      "I'm not sure what you're asking here. If you could clarify, I'd be happy to try and help you.\n",
      "\n",
      "88 Check\n",
      "I'm sorry, but I don't understand your question. What do you mean by \"drug sensitivity of the drug on the cell line with given mutations\"? Do you mean whether the cell line is sensitive or resistant to the drug? If so, please provide more details about the reasoning.\n",
      "\n",
      "89 None\n",
      "Reasoning:?\n",
      "\n",
      "91 None\n",
      "Reasoning: \n",
      "I'm sorry, but I don't understand your reasoning. Could you please explain it to me?\n",
      "\n",
      "92 Check\n",
      "I'm sorry, but I don't understand your question. Are you asking whether the cell line is sensitive or resistant to the drug? If so, please provide more information about the drug and cell line.\n",
      "\n",
      "93 None\n",
      "??\n",
      "Reasoning:???\n",
      "\n",
      "95 None\n",
      "Reasoning: \n",
      "I'm sorry, but I don't understand your reasoning. Could you please explain it in more detail?\n",
      "\n",
      "96 Check\n",
      "I'm sorry, but I don't understand your question. Are you asking whether the cell line is sensitive or resistant to the drug? If so, please provide more information about the drug and cell line.\n",
      "\n",
      "97 None\n",
      "Reasoning: \n",
      "I'm sorry, but I don't understand your reasoning. Could you please explain it to me?\n",
      "\n",
      "98 None\n",
      "Reasoning: The drug is a CDK4/6 inhibitor. The cell line has mutations in the pathway that the drug targets. However, the sensitivity of the cell line to the drug is unknown.\n",
      "\n",
      "104 None\n",
      "??\n",
      "Reasoning:???\n",
      "\n",
      "119 Check\n",
      "I'm sorry, but I don't understand your question. Are you asking whether the cell line is sensitive or resistant to the drug? If so, please provide more details about the drug and cell line.\n",
      "\n",
      "125 Check\n",
      "I'm sorry, but I don't understand your question. Are you asking whether the cell line is sensitive or resistant to the drug? If so, please provide more information about the drug and cell line mutations.\n",
      "\n",
      "126 Check\n",
      "I'm sorry, but I don't understand your question. Are you asking whether the cell line is sensitive or resistant to the drug? If so, please provide more information about the drug and the cell line.\n",
      "\n",
      "129 None\n",
      "Reasoning:?\n",
      "\n",
      "131 None\n",
      "I'm sorry, but I don't understand your question. What are you asking me to decide?\n",
      "\n",
      "133 None\n",
      "Reasoning: The sensitivity of the drug on the cell line with given mutations is unknown.\n",
      "\n",
      "135 Check\n",
      "I'm sorry, but I don't understand your question. Are you asking whether the cell line is sensitive or resistant to the drug? If so, please provide more details about the drug and cell line.\n",
      "\n",
      "137 Check\n",
      "I'm sorry, but I don't understand your question. Are you asking whether the cell line is sensitive or resistant to the drug? If so, please provide more information about the drug and cell line.\n",
      "\n",
      "138 None\n",
      "I'm sorry, but I don't understand your question. What are you asking me to decide?\n",
      "\n",
      "139 Check\n",
      "I'm sorry, but I don't understand your question. What do you mean by \"drug sensitivity of the drug on the cell line with given mutations\"? Do you mean whether the cell line is sensitive or resistant to the drug? If so, please provide more details about the drug and cell line.\n",
      "\n",
      "140 Check\n",
      "I'm sorry, but I don't understand your question. Are you asking whether the cell line is sensitive or resistant to the drug? If so, please provide more details about the drug and cell line mutations.\n",
      "\n",
      "141 None\n",
      "Reasoning:?\n",
      "\n",
      "146 None\n",
      "Reasoning: \n",
      "I'm sorry, but I don't understand your reasoning. Could you please explain it in more detail?\n",
      "\n",
      "147 Check\n",
      "I'm sorry, but I don't understand your question. Are you asking whether the cell line is sensitive or resistant to the drug? If so, please provide more details about the drug and cell line.\n",
      "\n",
      "148 Check\n",
      "I'm sorry, but I don't understand your question. Are you asking whether the cell line is sensitive or resistant to the drug? If so, please provide more information about the drug and cell line.\n",
      "\n",
      "150 None\n",
      "Reasoning: \n",
      "I'm sorry, but I don't understand your reasoning. Can you please explain it to me?\n",
      "\n",
      "151 Check\n",
      "I'm sorry, but I don't understand your question. Are you asking whether the cell line is sensitive or resistant to the drug? If so, please provide more information about the drug and cell line.\n",
      "\n",
      "152 None\n",
      "Reasoning:?\n",
      "\n",
      "154 None\n",
      "Reasoning:?\n",
      "\n",
      "155 None\n",
      "Reasoning:?\n",
      "\n",
      "159 None\n",
      "Reasoning: \n",
      "I'm sorry, but I don't understand your reasoning. Can you please explain it to me?\n",
      "\n",
      "161 None\n",
      "I'm sorry, but I don't understand your question. Are you asking me to predict the sensitivity of the cell line to the drug? If so, I would need more information about the cell line, such as its pH, temperature, and other metabolic conditions.\n",
      "\n",
      "162 Check\n",
      "I'm sorry, but I don't understand your question. Are you asking whether the cell line is sensitive or resistant to the drug? If so, please provide more details about the drug and cell line.\n",
      "\n",
      "163 Check\n",
      "I'm sorry, but I don't understand your question. Are you asking whether the cell line is sensitive or resistant to the drug? If so, please provide more details about the drug and cell line.\n",
      "\n",
      "166 None\n",
      "Reasoning: \n",
      "I'm sorry, but I don't understand your reasoning. Could you please explain it to me?\n",
      "\n",
      "168 Check\n",
      "I'm sorry, but I don't understand your question. Are you asking whether the cell line is sensitive or resistant to the drug? If so, please provide more details about the drug and cell line.\n",
      "\n",
      "170 None\n",
      "Reasoning:?\n",
      "\n",
      "173 None\n",
      "Reasoning:?\n",
      "\n",
      "175 None\n",
      "Reasoning: \n",
      "I'm sorry, but I don't understand your reasoning. Please explain in more detail.\n",
      "\n",
      "176 Check\n",
      "I'm sorry, but I don't understand your question. Are you asking whether the cell line is sensitive or resistant to the drug? If so, please provide more details about the drug and cell line.\n",
      "\n",
      "177 None\n",
      "Reasoning: \n",
      "I'm sorry, but I don't understand your reasoning. Could you please explain it to me?\n",
      "\n",
      "179 Check\n",
      "I'm sorry, but I don't understand your question. Are you asking whether the cell line is sensitive or resistant to the drug? If so, please provide more details about the drug and cell line.\n",
      "\n",
      "180 None\n",
      "Reasoning:?\n",
      "\n",
      "181 None\n",
      "Reasoning:?\n",
      "\n",
      "183 Check\n",
      "I'm sorry, but I don't understand your question. Are you asking whether the cell line is sensitive or resistant to the drug? If so, please provide more details about the drug and cell line.\n",
      "\n",
      "184 None\n",
      "I'm sorry, but I don't understand your question. What are you asking me to decide?\n",
      "\n",
      "185 Check\n",
      "I'm sorry, but I don't understand your question. Are you asking whether the cell line is sensitive or resistant to the drug? If so, please provide more information about the drug and cell line.\n",
      "\n",
      "186 None\n",
      "Reasoning: \n",
      "I'm sorry, but I don't understand your reasoning. Please provide more details.\n",
      "\n",
      "187 None\n",
      "Reasoning:?\n",
      "\n",
      "188 Check\n",
      "I'm sorry, but I don't understand your question. What do you mean by \"drug sensitivity of the drug on the cell line with given mutations\"? Do you mean whether the cell line is sensitive or resistant to the drug? If so, please provide the reasoning.\n",
      "\n",
      "190 None\n",
      "Reasoning:?\n",
      "\n",
      "192 None\n",
      "Reasoning:?\n",
      "\n",
      "194 None\n",
      "Reasoning:?\n",
      "\n",
      "196 Check\n",
      "I'm sorry, but I don't understand your question. Are you asking whether the cell line is sensitive or resistant to the drug? If so, please provide more details about the drug and cell line.\n",
      "\n",
      "199 Check\n",
      "I'm sorry, but I don't understand your question. What are you asking me to decide? Are you asking me to decide whether the drug is sensitive or resistant to the cell line with the given mutations? If so, I don't have enough information to make that decision. You need to provide more information about the drug and the cell line, such as the mechanism of action of the drug and the effect of the mutations on the activity of the drug target.\n",
      "\n"
     ]
    }
   ],
   "source": [
    "check_df = task1_data.loc[task1_data.prediction.isin([\"Check\", \"None\"])]\n",
    "for i in range(len(check_df)):\n",
    "    print(check_df.index.values[i], check_df.prediction.values[i])\n",
    "    print(check_df.output_med.values[i])\n",
    "    print()"
   ]
  },
  {
   "cell_type": "code",
   "execution_count": 26,
   "id": "8f28f4c5",
   "metadata": {},
   "outputs": [
    {
     "data": {
      "text/plain": [
       "0.46511627906976744"
      ]
     },
     "execution_count": 26,
     "metadata": {},
     "output_type": "execute_result"
    }
   ],
   "source": [
    "from sklearn.metrics import confusion_matrix, accuracy_score, precision_score, recall_score, f1_score\n",
    "precision_score(task1_data.loc[task1_data.prediction.isin([\"Sensitive\", \"Resistant\"]), 'answer'],\\\n",
    "                task1_data.loc[task1_data.prediction.isin([\"Sensitive\", \"Resistant\"]), 'prediction'], pos_label = \"Sensitive\")"
   ]
  },
  {
   "cell_type": "code",
   "execution_count": 15,
   "id": "ea07e3c3",
   "metadata": {},
   "outputs": [
    {
     "data": {
      "text/plain": [
       "0.9090909090909091"
      ]
     },
     "execution_count": 15,
     "metadata": {},
     "output_type": "execute_result"
    }
   ],
   "source": [
    "recall_score(task1_data.loc[task1_data.prediction.isin([\"Sensitive\", \"Resistant\"]), 'answer'],\\\n",
    "                task1_data.loc[task1_data.prediction.isin([\"Sensitive\", \"Resistant\"]), 'prediction'], pos_label = \"Sensitive\")"
   ]
  },
  {
   "cell_type": "code",
   "execution_count": 17,
   "id": "49e1e528",
   "metadata": {},
   "outputs": [
    {
     "data": {
      "text/plain": [
       "array([[20,  2],\n",
       "       [23,  1]])"
      ]
     },
     "execution_count": 17,
     "metadata": {},
     "output_type": "execute_result"
    }
   ],
   "source": [
    "confusion_matrix(task1_data.answer, task1_data.prediction, labels =  [\"Sensitive\", \"Resistant\"])"
   ]
  },
  {
   "cell_type": "code",
   "execution_count": 18,
   "id": "c7d4f093",
   "metadata": {},
   "outputs": [
    {
     "data": {
      "text/plain": [
       "0.1510791366906475"
      ]
     },
     "execution_count": 18,
     "metadata": {},
     "output_type": "execute_result"
    }
   ],
   "source": [
    "accuracy_score(task1_data.answer, task1_data.prediction)"
   ]
  },
  {
   "cell_type": "code",
   "execution_count": 19,
   "id": "f5c162a6",
   "metadata": {},
   "outputs": [
    {
     "data": {
      "text/plain": [
       "0.45652173913043476"
      ]
     },
     "execution_count": 19,
     "metadata": {},
     "output_type": "execute_result"
    }
   ],
   "source": [
    "accuracy_score(task1_data.loc[task1_data.prediction.isin([\"Sensitive\", \"Resistant\"]), 'answer'],\\\n",
    "                task1_data.loc[task1_data.prediction.isin([\"Sensitive\", \"Resistant\"]), 'prediction'])"
   ]
  },
  {
   "cell_type": "code",
   "execution_count": 28,
   "id": "ae3f915f",
   "metadata": {},
   "outputs": [
    {
     "data": {
      "text/plain": [
       "0.6153846153846154"
      ]
     },
     "execution_count": 28,
     "metadata": {},
     "output_type": "execute_result"
    }
   ],
   "source": [
    "f1_score(task1_data.loc[task1_data.prediction.isin([\"Sensitive\", \"Resistant\"]), 'answer'],\\\n",
    "                task1_data.loc[task1_data.prediction.isin([\"Sensitive\", \"Resistant\"]), 'prediction'], pos_label = \"Sensitive\")"
   ]
  },
  {
   "cell_type": "code",
   "execution_count": 23,
   "id": "b14de664",
   "metadata": {},
   "outputs": [
    {
     "data": {
      "text/plain": [
       "answer\n",
       "Resistant    23\n",
       "Sensitive    20\n",
       "Name: count, dtype: int64"
      ]
     },
     "execution_count": 23,
     "metadata": {},
     "output_type": "execute_result"
    }
   ],
   "source": [
    "task1_data.loc[task1_data.prediction.isin([\"Sensitive\"])].answer.value_counts()"
   ]
  },
  {
   "cell_type": "code",
   "execution_count": 24,
   "id": "7477d64a",
   "metadata": {},
   "outputs": [
    {
     "data": {
      "text/plain": [
       "prediction\n",
       "None         29\n",
       "Check        21\n",
       "Sensitive    20\n",
       "Resistant     2\n",
       "Name: count, dtype: int64"
      ]
     },
     "execution_count": 24,
     "metadata": {},
     "output_type": "execute_result"
    }
   ],
   "source": [
    "task1_data.loc[task1_data.answer.isin([\"Sensitive\"])].prediction.value_counts()"
   ]
  },
  {
   "cell_type": "code",
   "execution_count": 25,
   "id": "36e22ea5",
   "metadata": {},
   "outputs": [
    {
     "data": {
      "text/plain": [
       "answer\n",
       "Sensitive    50\n",
       "Resistant    43\n",
       "Name: count, dtype: int64"
      ]
     },
     "execution_count": 25,
     "metadata": {},
     "output_type": "execute_result"
    }
   ],
   "source": [
    "task1_data.loc[task1_data.prediction.isin([\"None\", \"Check\"])].answer.value_counts()"
   ]
  }
 ],
 "metadata": {
  "kernelspec": {
   "display_name": "llm_env",
   "language": "python",
   "name": "llm_env"
  },
  "language_info": {
   "codemirror_mode": {
    "name": "ipython",
    "version": 3
   },
   "file_extension": ".py",
   "mimetype": "text/x-python",
   "name": "python",
   "nbconvert_exporter": "python",
   "pygments_lexer": "ipython3",
   "version": "3.9.12"
  }
 },
 "nbformat": 4,
 "nbformat_minor": 5
}
