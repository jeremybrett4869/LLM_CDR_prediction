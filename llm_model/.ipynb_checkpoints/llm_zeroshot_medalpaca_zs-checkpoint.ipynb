{
 "cells": [
  {
   "cell_type": "code",
   "execution_count": 1,
   "metadata": {},
   "outputs": [
    {
     "name": "stdout",
     "output_type": "stream",
     "text": [
      "(2312, 3)\n"
     ]
    },
    {
     "data": {
      "text/html": [
       "<div>\n",
       "<style scoped>\n",
       "    .dataframe tbody tr th:only-of-type {\n",
       "        vertical-align: middle;\n",
       "    }\n",
       "\n",
       "    .dataframe tbody tr th {\n",
       "        vertical-align: top;\n",
       "    }\n",
       "\n",
       "    .dataframe thead th {\n",
       "        text-align: right;\n",
       "    }\n",
       "</style>\n",
       "<table border=\"1\" class=\"dataframe\">\n",
       "  <thead>\n",
       "    <tr style=\"text-align: right;\">\n",
       "      <th></th>\n",
       "      <th>cell_id</th>\n",
       "      <th>prompt</th>\n",
       "      <th>answer</th>\n",
       "    </tr>\n",
       "  </thead>\n",
       "  <tbody>\n",
       "    <tr>\n",
       "      <th>0</th>\n",
       "      <td>ACH-000006</td>\n",
       "      <td>Think step by step and decide in a single word...</td>\n",
       "      <td>Sensitive</td>\n",
       "    </tr>\n",
       "    <tr>\n",
       "      <th>1</th>\n",
       "      <td>ACH-000006</td>\n",
       "      <td>Think step by step and decide in a single word...</td>\n",
       "      <td>Resistant</td>\n",
       "    </tr>\n",
       "    <tr>\n",
       "      <th>2</th>\n",
       "      <td>ACH-000006</td>\n",
       "      <td>Think step by step and decide in a single word...</td>\n",
       "      <td>Resistant</td>\n",
       "    </tr>\n",
       "    <tr>\n",
       "      <th>3</th>\n",
       "      <td>ACH-000006</td>\n",
       "      <td>Think step by step and decide in a single word...</td>\n",
       "      <td>Sensitive</td>\n",
       "    </tr>\n",
       "    <tr>\n",
       "      <th>4</th>\n",
       "      <td>ACH-000006</td>\n",
       "      <td>Think step by step and decide in a single word...</td>\n",
       "      <td>Sensitive</td>\n",
       "    </tr>\n",
       "  </tbody>\n",
       "</table>\n",
       "</div>"
      ],
      "text/plain": [
       "      cell_id                                             prompt     answer\n",
       "0  ACH-000006  Think step by step and decide in a single word...  Sensitive\n",
       "1  ACH-000006  Think step by step and decide in a single word...  Resistant\n",
       "2  ACH-000006  Think step by step and decide in a single word...  Resistant\n",
       "3  ACH-000006  Think step by step and decide in a single word...  Sensitive\n",
       "4  ACH-000006  Think step by step and decide in a single word...  Sensitive"
      ]
     },
     "execution_count": 1,
     "metadata": {},
     "output_type": "execute_result"
    }
   ],
   "source": [
    "# Data processing\n",
    "import pandas as pd\n",
    "\n",
    "test_prompt_data = pd.read_csv(\"/data/yingfei/cancer_data/llm_prompt_data/test_prompt_data_task1_simple.csv\")\n",
    "print(test_prompt_data.shape)\n",
    "test_prompt_data.head()"
   ]
  },
  {
   "cell_type": "code",
   "execution_count": 2,
   "metadata": {},
   "outputs": [
    {
     "data": {
      "text/html": [
       "<div>\n",
       "<style scoped>\n",
       "    .dataframe tbody tr th:only-of-type {\n",
       "        vertical-align: middle;\n",
       "    }\n",
       "\n",
       "    .dataframe tbody tr th {\n",
       "        vertical-align: top;\n",
       "    }\n",
       "\n",
       "    .dataframe thead th {\n",
       "        text-align: right;\n",
       "    }\n",
       "</style>\n",
       "<table border=\"1\" class=\"dataframe\">\n",
       "  <thead>\n",
       "    <tr style=\"text-align: right;\">\n",
       "      <th></th>\n",
       "      <th>cell_id</th>\n",
       "      <th>prompt</th>\n",
       "      <th>answer</th>\n",
       "    </tr>\n",
       "  </thead>\n",
       "  <tbody>\n",
       "    <tr>\n",
       "      <th>219</th>\n",
       "      <td>ACH-000139</td>\n",
       "      <td>Think step by step and decide in a single word...</td>\n",
       "      <td>Sensitive</td>\n",
       "    </tr>\n",
       "    <tr>\n",
       "      <th>220</th>\n",
       "      <td>ACH-000139</td>\n",
       "      <td>Think step by step and decide in a single word...</td>\n",
       "      <td>Sensitive</td>\n",
       "    </tr>\n",
       "    <tr>\n",
       "      <th>221</th>\n",
       "      <td>ACH-000139</td>\n",
       "      <td>Think step by step and decide in a single word...</td>\n",
       "      <td>Resistant</td>\n",
       "    </tr>\n",
       "    <tr>\n",
       "      <th>222</th>\n",
       "      <td>ACH-000139</td>\n",
       "      <td>Think step by step and decide in a single word...</td>\n",
       "      <td>Resistant</td>\n",
       "    </tr>\n",
       "    <tr>\n",
       "      <th>223</th>\n",
       "      <td>ACH-000139</td>\n",
       "      <td>Think step by step and decide in a single word...</td>\n",
       "      <td>Resistant</td>\n",
       "    </tr>\n",
       "    <tr>\n",
       "      <th>...</th>\n",
       "      <td>...</td>\n",
       "      <td>...</td>\n",
       "      <td>...</td>\n",
       "    </tr>\n",
       "    <tr>\n",
       "      <th>2307</th>\n",
       "      <td>ACH-001654</td>\n",
       "      <td>Think step by step and decide in a single word...</td>\n",
       "      <td>Sensitive</td>\n",
       "    </tr>\n",
       "    <tr>\n",
       "      <th>2308</th>\n",
       "      <td>ACH-001654</td>\n",
       "      <td>Think step by step and decide in a single word...</td>\n",
       "      <td>Sensitive</td>\n",
       "    </tr>\n",
       "    <tr>\n",
       "      <th>2309</th>\n",
       "      <td>ACH-001654</td>\n",
       "      <td>Think step by step and decide in a single word...</td>\n",
       "      <td>Sensitive</td>\n",
       "    </tr>\n",
       "    <tr>\n",
       "      <th>2310</th>\n",
       "      <td>ACH-001654</td>\n",
       "      <td>Think step by step and decide in a single word...</td>\n",
       "      <td>Resistant</td>\n",
       "    </tr>\n",
       "    <tr>\n",
       "      <th>2311</th>\n",
       "      <td>ACH-001654</td>\n",
       "      <td>Think step by step and decide in a single word...</td>\n",
       "      <td>Sensitive</td>\n",
       "    </tr>\n",
       "  </tbody>\n",
       "</table>\n",
       "<p>2093 rows × 3 columns</p>\n",
       "</div>"
      ],
      "text/plain": [
       "         cell_id                                             prompt     answer\n",
       "219   ACH-000139  Think step by step and decide in a single word...  Sensitive\n",
       "220   ACH-000139  Think step by step and decide in a single word...  Sensitive\n",
       "221   ACH-000139  Think step by step and decide in a single word...  Resistant\n",
       "222   ACH-000139  Think step by step and decide in a single word...  Resistant\n",
       "223   ACH-000139  Think step by step and decide in a single word...  Resistant\n",
       "...          ...                                                ...        ...\n",
       "2307  ACH-001654  Think step by step and decide in a single word...  Sensitive\n",
       "2308  ACH-001654  Think step by step and decide in a single word...  Sensitive\n",
       "2309  ACH-001654  Think step by step and decide in a single word...  Sensitive\n",
       "2310  ACH-001654  Think step by step and decide in a single word...  Resistant\n",
       "2311  ACH-001654  Think step by step and decide in a single word...  Sensitive\n",
       "\n",
       "[2093 rows x 3 columns]"
      ]
     },
     "execution_count": 2,
     "metadata": {},
     "output_type": "execute_result"
    }
   ],
   "source": [
    "test_prompt_data.iloc[219:,:] # N= 219"
   ]
  },
  {
   "cell_type": "code",
   "execution_count": 3,
   "metadata": {},
   "outputs": [],
   "source": [
    "test_samples = test_prompt_data.iloc[:200,:].copy()\n",
    "test_samples['output70'] = [None,]*200\n",
    "# test_samples = pd.read_csv('./data/sensitivity/test_fewshot_simple.csv')"
   ]
  },
  {
   "cell_type": "code",
   "execution_count": 4,
   "metadata": {},
   "outputs": [
    {
     "data": {
      "text/html": [
       "<div>\n",
       "<style scoped>\n",
       "    .dataframe tbody tr th:only-of-type {\n",
       "        vertical-align: middle;\n",
       "    }\n",
       "\n",
       "    .dataframe tbody tr th {\n",
       "        vertical-align: top;\n",
       "    }\n",
       "\n",
       "    .dataframe thead th {\n",
       "        text-align: right;\n",
       "    }\n",
       "</style>\n",
       "<table border=\"1\" class=\"dataframe\">\n",
       "  <thead>\n",
       "    <tr style=\"text-align: right;\">\n",
       "      <th></th>\n",
       "      <th>cell_id</th>\n",
       "      <th>prompt</th>\n",
       "      <th>answer</th>\n",
       "      <th>output70</th>\n",
       "    </tr>\n",
       "  </thead>\n",
       "  <tbody>\n",
       "    <tr>\n",
       "      <th>0</th>\n",
       "      <td>ACH-000006</td>\n",
       "      <td>Think step by step and decide in a single word...</td>\n",
       "      <td>Sensitive</td>\n",
       "      <td>None</td>\n",
       "    </tr>\n",
       "    <tr>\n",
       "      <th>1</th>\n",
       "      <td>ACH-000006</td>\n",
       "      <td>Think step by step and decide in a single word...</td>\n",
       "      <td>Resistant</td>\n",
       "      <td>None</td>\n",
       "    </tr>\n",
       "    <tr>\n",
       "      <th>2</th>\n",
       "      <td>ACH-000006</td>\n",
       "      <td>Think step by step and decide in a single word...</td>\n",
       "      <td>Resistant</td>\n",
       "      <td>None</td>\n",
       "    </tr>\n",
       "    <tr>\n",
       "      <th>3</th>\n",
       "      <td>ACH-000006</td>\n",
       "      <td>Think step by step and decide in a single word...</td>\n",
       "      <td>Sensitive</td>\n",
       "      <td>None</td>\n",
       "    </tr>\n",
       "    <tr>\n",
       "      <th>4</th>\n",
       "      <td>ACH-000006</td>\n",
       "      <td>Think step by step and decide in a single word...</td>\n",
       "      <td>Sensitive</td>\n",
       "      <td>None</td>\n",
       "    </tr>\n",
       "  </tbody>\n",
       "</table>\n",
       "</div>"
      ],
      "text/plain": [
       "      cell_id                                             prompt     answer  \\\n",
       "0  ACH-000006  Think step by step and decide in a single word...  Sensitive   \n",
       "1  ACH-000006  Think step by step and decide in a single word...  Resistant   \n",
       "2  ACH-000006  Think step by step and decide in a single word...  Resistant   \n",
       "3  ACH-000006  Think step by step and decide in a single word...  Sensitive   \n",
       "4  ACH-000006  Think step by step and decide in a single word...  Sensitive   \n",
       "\n",
       "  output70  \n",
       "0     None  \n",
       "1     None  \n",
       "2     None  \n",
       "3     None  \n",
       "4     None  "
      ]
     },
     "execution_count": 4,
     "metadata": {},
     "output_type": "execute_result"
    }
   ],
   "source": [
    "test_samples.head()"
   ]
  },
  {
   "cell_type": "code",
   "execution_count": 5,
   "metadata": {},
   "outputs": [
    {
     "data": {
      "text/plain": [
       "(2093, 3)"
      ]
     },
     "execution_count": 5,
     "metadata": {},
     "output_type": "execute_result"
    }
   ],
   "source": [
    "fewshot_set = test_prompt_data.iloc[219:,:] #1. not appear in train data; 2. not to inference (test data top 200 -> inf)\n",
    "fewshot_set.shape"
   ]
  },
  {
   "cell_type": "code",
   "execution_count": 6,
   "metadata": {
    "scrolled": true
   },
   "outputs": [
    {
     "name": "stderr",
     "output_type": "stream",
     "text": [
      "/data/yingfei/models/llm/medAlpaca/medalpaca_env/lib/python3.9/site-packages/torch/cuda/__init__.py:141: UserWarning: CUDA initialization: The NVIDIA driver on your system is too old (found version 11010). Please update your GPU driver by downloading and installing a new version from the URL: http://www.nvidia.com/Download/index.aspx Alternatively, go to: https://pytorch.org to install a PyTorch version that has been compiled with your version of the CUDA driver. (Triggered internally at ../c10/cuda/CUDAFunctions.cpp:108.)\n",
      "  return torch._C._cuda_getDeviceCount() > 0\n"
     ]
    },
    {
     "data": {
      "application/vnd.jupyter.widget-view+json": {
       "model_id": "b779631fa1c0404faf7485b98aa6978c",
       "version_major": 2,
       "version_minor": 0
      },
      "text/plain": [
       "Loading checkpoint shards:   0%|          | 0/3 [00:00<?, ?it/s]"
      ]
     },
     "metadata": {},
     "output_type": "display_data"
    },
    {
     "name": "stderr",
     "output_type": "stream",
     "text": [
      "You are using the default legacy behaviour of the <class 'transformers.models.llama.tokenization_llama.LlamaTokenizer'>. This is expected, and simply means that the `legacy` (previous) behavior will be used so nothing changes for you. If you want to use the new behaviour, set `legacy=False`. This should only be set if you understand what it means, and thoroughly read the reason why this was added as explained in https://github.com/huggingface/transformers/pull/24565\n"
     ]
    }
   ],
   "source": [
    "import torch\n",
    "import transformers\n",
    "from transformers import LlamaForCausalLM, LlamaTokenizer\n",
    "model_dir = \"/data/yingfei/models/llm/medAlpaca/medalpaca-7b\"\n",
    "\n",
    "model = LlamaForCausalLM.from_pretrained(model_dir, device_map = 'auto')#.to(DEVICE)\n",
    "tokenizer = LlamaTokenizer.from_pretrained(model_dir)#.to(model.device)\n",
    "\n",
    "# from inferer import Inferer\n",
    "# medalpaca = Inferer(\n",
    "#     model_name=\"medalpaca/medalapca-7b\", \n",
    "#     prompt_template=\"path/to/your/prompt_template.json\",\n",
    "#     base_model=None,  # Optional, specify if using LoRA or another base model\n",
    "#     model_max_length=512,  # Optional, can be adjusted based on your input needs\n",
    "#     load_in_8bit=False,  # Optional, set to True if using a quantized model\n",
    "#     torch_dtype=torch.float16,  # Optional, can be adjusted based on your precision needs\n",
    "#     peft=False  # Optional, set to True if the model was trained with PEFT or in 8bit\n",
    "# )"
   ]
  },
  {
   "cell_type": "code",
   "execution_count": 7,
   "metadata": {},
   "outputs": [],
   "source": [
    "import numpy as np\n",
    "\n",
    "def get_few_shot(fewshot_set, num=5):\n",
    "    fewshot = ''\n",
    "    for i in range(num):#len(fewshot_set)):\n",
    "        idx = np.random.randint(0,len(fewshot_set))\n",
    "        answer = fewshot_set.iloc[idx].answer\n",
    "        question = fewshot_set.iloc[idx].prompt.split(\"[Reasoning].\")[1].replace('?',answer)#.replace(\"\\n\", \"\")\n",
    "        fewshot += f'\\n\\nExample {i}:\\n'\n",
    "        fewshot += question#.strip()\n",
    "    \n",
    "    return fewshot.strip()"
   ]
  },
  {
   "cell_type": "code",
   "execution_count": null,
   "metadata": {
    "scrolled": false
   },
   "outputs": [
    {
     "name": "stdout",
     "output_type": "stream",
     "text": [
      "PROCESSING CELLINE: ACH-000006    0\n",
      "<s>[INST] <<SYS>>Think step by step and decide in a single word reflecting the drug sensitivity of the drug on the cell line: [Sensitive/Resistant]<</SYS>> <<EXAMPLE>>Example 0:\n",
      "\n",
      "Drug and cell line mutations: \n",
      "The drug is KIN001-135. The drug SMILES structure is COC1=C(C=C2C(=C1)N=CN2C3=CC(=C(S3)C#N)OCC4=CC=CC=C4S(=O)(=O)C)OC. Drug target is IKK. Drug target pathway is Other, kinases.\n",
      "The mutations of the cell line are CDKN1A, DAXX, FAM46C, HGF, KDM6A, KEL, NOTCH1, NOTCH3, RB1, ROS1, TP53.\n",
      "Drug Sensitivity: Sensitive\n",
      "\n",
      "Example 1:\n",
      "\n",
      "Drug and cell line mutations: \n",
      "The drug is PD-0325901. The drug SMILES structure is C1=CC(=C(C=C1I)F)NC2=C(C=CC(=C2F)F)C(=O)NOCC(CO)O. Drug target is MEK1, MEK2. Drug target pathway is ERK MAPK signaling.\n",
      "The mutations of the cell line are CREBBP, EP300, KRAS, PBRM1, RET, RNF43, TGFBR2.\n",
      "Drug Sensitivity: Resistant\n",
      "\n",
      "Example 2:\n",
      "\n",
      "Drug and cell line mutations: \n",
      "The drug is GSK2606414. The drug SMILES structure is CN1C=C(C2=C(N=CN=C21)N)C3=CC4=C(C=C3)N(CC4)C(=O)CC5=CC(=CC=C5)C(F)(F)F. Drug target is PERK. Drug target pathway is Metabolism.\n",
      "The mutations of the cell line are ATRX, AXL, CREBBP, EP300, FBXW7, GRM3, IRF2, MLL2, MYB, NOTCH1, NRAS, PDGFRA, POLE, RB1, SOX2, TP53.\n",
      "Drug Sensitivity: Sensitive\n",
      "\n",
      "Example 3:\n",
      "\n",
      "Drug and cell line mutations: \n",
      "The drug is YK-4-279. The drug SMILES structure is COC1=CC=C(C=C1)C(=O)CC2(C3=C(C=CC(=C3NC2=O)Cl)Cl)O. Drug target is RNA helicase A. Drug target pathway is Other.\n",
      "The mutations of the cell line are ATR, CREBBP, CXCR4, FGF10, FGF12, MLL2, MSH3, PARP3, SMARCA4, TP53.\n",
      "Drug Sensitivity: Sensitive\n",
      "\n",
      "Example 4:\n",
      "\n",
      "Drug and cell line mutations: \n",
      "The drug is SGC0946. The drug SMILES structure is CC(C)N(CCCNC(=O)NC1=CC=C(C=C1)C(C)(C)C)CC2C(C(C(O2)N3C=C(C4=C(N=CN=C43)N)Br)O)O. Drug target is DOT1L. Drug target pathway is Chromatin histone methylation.\n",
      "The mutations of the cell line are AR, AURKA, CDKN1B, CIC, EP300, ERBB3, FANCG, JAK3, KLHL6, MLL2, MEN1, MRE11A, MSH3, MTOR, PIK3R1, POLE, PPP2R1A, PTEN, RB1, ROS1, SMO, TIPARP, TP53.\n",
      "Drug Sensitivity: Resistant<</EXAMPLE>> \n",
      "Drug and cell line mutations: \n",
      "The drug is JW-7-24-1. The drug SMILES structure is COC1=CC(=CC(=C1)C2=CC3=C4C(=CN=C3C=C2)C=CC(=O)N4C5=CC(=C(C=C5)N6CCNCC6)C(F)(F)F)OC. Drug target is LCK. Drug target pathway is Other, kinases.\n",
      "The mutations of the cell line are ASXL1, FLT3, MAP3K1, NOTCH1, TP53, U2AF1.\n",
      "Drug Sensitivity: ?[/INST]\n"
     ]
    },
    {
     "name": "stderr",
     "output_type": "stream",
     "text": [
      "/data/yingfei/models/llm/medAlpaca/medalpaca_env/lib/python3.9/site-packages/transformers/generation/configuration_utils.py:492: UserWarning: `do_sample` is set to `False`. However, `temperature` is set to `0.0` -- this flag is only used in sample-based generation modes. You should set `do_sample=True` or unset `temperature`.\n",
      "  warnings.warn(\n"
     ]
    },
    {
     "name": "stdout",
     "output_type": "stream",
     "text": [
      "<</SYS>>\n",
      "\n",
      "GROUND TRUTH: Sensitive\n",
      "********************\n",
      "PROCESSING CELLINE: ACH-000006    1\n",
      "<s>[INST] <<SYS>>Think step by step and decide in a single word reflecting the drug sensitivity of the drug on the cell line: [Sensitive/Resistant]<</SYS>> <<EXAMPLE>>Example 0:\n",
      "\n",
      "Drug and cell line mutations: \n",
      "The drug is YM-201636. The drug SMILES structure is C1COCCN1C2=NC(=NC3=C2OC4=C3C=CC=N4)C5=CC(=CC=C5)NC(=O)C6=CN=C(C=C6)N. Drug target is PIKFYVE. Drug target pathway is PI3K/MTOR signaling.\n",
      "The mutations of the cell line are ATRX, CBL, CDKN2A, MET, ROS1, TP53.\n",
      "Drug Sensitivity: Sensitive\n",
      "\n",
      "Example 1:\n",
      "\n",
      "Drug and cell line mutations: \n",
      "The drug is Z-LLNLE-CHO. The drug SMILES structure is CCCCC(C=O)NC(=O)[C@H](CC(C)C)NC(=O)[C@@H](CC(C)C)NC(=O)OCC1=CC=CC=C1. Drug target is gamma-secretase. Drug target pathway is Other.\n",
      "The mutations of the cell line are APC, BCR, BRCA1, ERBB2, ERBB4, FGFR3, FLT1, GNAS, IKZF1, KDM6A, MED12, MTOR, NOTCH1, PIK3CA, RB1, RET, SPEN, TP53.\n",
      "Drug Sensitivity: Sensitive\n",
      "\n",
      "Example 2:\n",
      "\n",
      "Drug and cell line mutations: \n",
      "The drug is XMD8-92. The drug SMILES structure is CCOC1=C(C=CC(=C1)N2CCC(CC2)O)NC3=NC=C4C(=N3)N(C5=CC=CC=C5C(=O)N4C)C. Drug target is ERK5. Drug target pathway is ERK MAPK signaling.\n",
      "The mutations of the cell line are ARID1A, BCOR, BRAF, ETV6, GATA3, GNAS, HGF, IDH1, IKZF1, MLL2, MED12, NKX2-1, NOTCH1, PIK3CA, POLD1, PTEN, RBM10, SMARCA4.\n",
      "Drug Sensitivity: Resistant\n",
      "\n",
      "Example 3:\n",
      "\n",
      "Drug and cell line mutations: \n",
      "The drug is XMD14-99. The drug SMILES structure is CN1CCN(CC1)C2=CC(=C(C=C2)NC3=NC(=C(S3)C(=O)C4=C(C=CC=C4Cl)Cl)N)OC. Drug target is ALK, CDK7, LTK, others. Drug target pathway is Other, kinases.\n",
      "The mutations of the cell line are APC, CARD11, EPHA3, FANCG, GABRA6, GATA4, KDM6A, NOTCH3, TP53.\n",
      "Drug Sensitivity: Resistant\n",
      "\n",
      "Example 4:\n",
      "\n",
      "Drug and cell line mutations: \n",
      "The drug is QL-X-138. The drug SMILES structure is CC1=C(C=C(C=C1)N2C(=O)C=CC3=CN=C4C=CC(=CC4=C32)C5=CNN=C5)NC(=O)C=C. Drug target is BTK. Drug target pathway is Other, kinases.\n",
      "The mutations of the cell line are ABL1, APC, ARID1A, ASXL1, ATM, BCR, CDKN2A, CIC, CREBBP, EP300, ERBB2, ETV6, HNF1A, KDM6A, KEAP1, MLL2, MAPK1, MST1R, MTOR, PIK3C2G, PIK3CA, PTPN11, SF3B1, SPOP, TET2, TP53, WHSC1.\n",
      "Drug Sensitivity: Resistant<</EXAMPLE>> \n",
      "Drug and cell line mutations: \n",
      "The drug is NVP-TAE684. The drug SMILES structure is CC(C)S(=O)(=O)C1=CC=CC=C1NC2=NC(=NC=C2Cl)NC3=C(C=C(C=C3)N4CCC(CC4)N5CCN(CC5)C)OC. Drug target is ALK. Drug target pathway is RTK signaling.\n",
      "The mutations of the cell line are ASXL1, FLT3, MAP3K1, NOTCH1, TP53, U2AF1.\n",
      "Drug Sensitivity: ?[/INST]\n"
     ]
    },
    {
     "name": "stderr",
     "output_type": "stream",
     "text": [
      "/data/yingfei/models/llm/medAlpaca/medalpaca_env/lib/python3.9/site-packages/transformers/generation/configuration_utils.py:492: UserWarning: `do_sample` is set to `False`. However, `temperature` is set to `0.0` -- this flag is only used in sample-based generation modes. You should set `do_sample=True` or unset `temperature`.\n",
      "  warnings.warn(\n"
     ]
    },
    {
     "name": "stdout",
     "output_type": "stream",
     "text": [
      " <<SYS>>Think step by step and decide in a single word reflecting the drug sensitivity of the drug on the cell line: [Sensitive/Resistant]<</SYS>> <<EXAMPLE>>Example 4:\n",
      "\n",
      "Drug and cell line mutations: \n",
      "The drug is XMD8-92. The drug SMILES structure is CCOC1=C(C=CC(=C1)N2CCC(CC2)O)NC3=NC=C4C(=N3)N(C5=CC=CC=C5C(=O)N4C)C. Drug target is ERK5. Drug target pathway is ERK MAPK signaling.\n",
      "The mutations of the cell line are ARID1A, BCOR, BRAF, ETV6, GATA3, GNAS, HGF, IDH1, IKZF1, MLL2, MED12, NKX2-1, NOTCH1, PIK3CA, POLD1, PTEN, RBM10, SMARCA4.\n",
      "Drug Sensitivity: Resistant\n",
      "\n",
      "Example 5:\n",
      "\n",
      "Drug and cell line mutations: \n",
      "The drug is XMD14-99. The drug SMILES structure is CN1CCN(CC1)C2=CC(=C(C=C2)NC3=NC(=C(S3)C(=O)C4=C(C=CC=C4Cl)Cl)N)OC. Drug target is ALK, CDK7, LTK, others. Drug target pathway is Other, kinases.\n",
      "The mutations of the cell line are APC, CARD11, EPHA3, FANCG, GABRA6, GATA4, KDM6A, NOTCH3, TP53.\n",
      "Drug Sensitivity: Resistant\n",
      "\n",
      "Example 6:\n",
      "\n",
      "Drug and cell line mutations: \n",
      "The drug is QL-X-138. The drug SMILES structure is CC1=C(C=C(C=C1)N2C(=O)C=CC3=CN=C4C=CC(=CC4=C32)C5=CNN=C5)NC(=O)C=C. Drug target is BTK. Drug target pathway is Other, kinases.\n",
      "The mutations of the cell line are ABL1, APC, ARID1A, ASXL1, ATM, BCR, CDKN2A, CIC, CREBBP, EP300, ERBB2, ETV6, HNF1A, KDM6A, KEAP1, MLL2, MAPK1, MST1R, MTOR, PIK3C2G, PIK3CA, PTPN11, SF3B1, SPOP, TET2, TP53, WHSC1.\n",
      "Drug Sensitivity: Resistant<</EXAMPLE>>\n",
      "\n",
      "GROUND TRUTH: Resistant\n",
      "********************\n",
      "PROCESSING CELLINE: ACH-000006    2\n",
      "<s>[INST] <<SYS>>Think step by step and decide in a single word reflecting the drug sensitivity of the drug on the cell line: [Sensitive/Resistant]<</SYS>> <<EXAMPLE>>Example 0:\n",
      "\n",
      "Drug and cell line mutations: \n",
      "The drug is TRAMETINIB. The drug SMILES structure is CC1=C2C(=C(N(C1=O)C)NC3=C(C=C(C=C3)I)F)C(=O)N(C(=O)N2C4=CC(=CC=C4)NC(=O)C)C5CC5. Drug target is MEK1, MEK2. Drug target pathway is ERK MAPK signaling.\n",
      "The mutations of the cell line are ATRX, CBL, CDKN2A, MET, ROS1, TP53.\n",
      "Drug Sensitivity: Resistant\n",
      "\n",
      "Example 1:\n",
      "\n",
      "Drug and cell line mutations: \n",
      "The drug is NPK76-II-72-1. The drug SMILES structure is CC1CC(=O)N(C2=CN=C(N=C2N1C3CCCC3)NC4=C(C=C(C=C4)C(=O)NC5CCN(CC5)C)OC)C. Drug target is PLK3. Drug target pathway is Cell cycle.\n",
      "The mutations of the cell line are ARFRP1, DIS3, MLL2, NTRK2, P2RY8, SPEN, TEK, TP53.\n",
      "Drug Sensitivity: Resistant\n",
      "\n",
      "Example 2:\n",
      "\n",
      "Drug and cell line mutations: \n",
      "The drug is AXITINIB. The drug SMILES structure is CNC(=O)C1=CC=CC=C1SC2=CC3=C(C=C2)C(=NN3)C=CC4=CC=CC=N4. Drug target is PDGFR, KIT, VEGFR. Drug target pathway is RTK signaling.\n",
      "The mutations of the cell line are ALK, ARID1A, AXIN1, CBFB, CDKN2A, CREBBP, CSF3R, CTCF, EP300, ERBB2, FANCA, FGFR3, FLCN, FLT1, MLL, MLL2, MDM2, MED12, MSH2, MSH6, MYC, NF1, NOTCH3, PIK3C2B, PIK3C2G, PIK3CA, PIK3R1, PPP2R1A, PTCH1, PTEN, RAD51C, RAF1, SDHA, SGK1, SMAD4, SPEN, STAT3, TP53.\n",
      "Drug Sensitivity: Resistant\n",
      "\n",
      "Example 3:\n",
      "\n",
      "Drug and cell line mutations: \n",
      "The drug is PICOLINICI-ACID. The drug SMILES structure is C1=CC=NC(=C1)C(=O)O. Drug target is Inflammatory related. Drug target pathway is Other.\n",
      "The mutations of the cell line are ASXL1, BCOR, CARD11, EGFR, ERCC4, GABRA6, GNAQ, GNAS, MLL, MTOR, NFE2L2, NOTCH2, P2RY8, PIK3C2G, POLD1, RAF1, RICTOR, ZNF217.\n",
      "Drug Sensitivity: Resistant\n",
      "\n",
      "Example 4:\n",
      "\n",
      "Drug and cell line mutations: \n",
      "The drug is CGP-60474. The drug SMILES structure is C1=CC(=CC(=C1)Cl)NC2=NC=CC(=N2)C3=CC(=NC=C3)NCCCO. Drug target is CDK1,CDK2,CDK5,CDK7,CDK9, PKC. Drug target pathway is Cell cycle.\n",
      "The mutations of the cell line are ATRX, CBL, CDKN2A, MET, ROS1, TP53.\n",
      "Drug Sensitivity: Resistant<</EXAMPLE>> \n",
      "Drug and cell line mutations: \n",
      "The drug is KIN001-244. The drug SMILES structure is C1=CC=C(C=C1)[C@H](COC2=CC3=C(C=C2)NC(=O)N3)NC(=O)C4=CC=CN(C4=O)CC5=CC(=C(C=C5)F)F. Drug target is PDK1. Drug target pathway is Other, kinases.\n",
      "The mutations of the cell line are ASXL1, FLT3, MAP3K1, NOTCH1, TP53, U2AF1.\n",
      "Drug Sensitivity: ?[/INST]\n"
     ]
    },
    {
     "name": "stderr",
     "output_type": "stream",
     "text": [
      "/data/yingfei/models/llm/medAlpaca/medalpaca_env/lib/python3.9/site-packages/transformers/generation/configuration_utils.py:492: UserWarning: `do_sample` is set to `False`. However, `temperature` is set to `0.0` -- this flag is only used in sample-based generation modes. You should set `do_sample=True` or unset `temperature`.\n",
      "  warnings.warn(\n"
     ]
    },
    {
     "name": "stdout",
     "output_type": "stream",
     "text": [
      "<</SYS>>\n",
      "\n",
      "GROUND TRUTH: Resistant\n",
      "********************\n",
      "PROCESSING CELLINE: ACH-000006    3\n",
      "<s>[INST] <<SYS>>Think step by step and decide in a single word reflecting the drug sensitivity of the drug on the cell line: [Sensitive/Resistant]<</SYS>> <<EXAMPLE>>Example 0:\n",
      "\n",
      "Drug and cell line mutations: \n",
      "The drug is TW-37. The drug SMILES structure is CC(C)C1=CC=CC=C1CC2=CC(=C(C(=C2O)O)O)C(=O)NC3=CC=C(C=C3)S(=O)(=O)C4=CC=CC=C4C(C)(C)C. Drug target is BCL2, BCL-XL, MCL1. Drug target pathway is Apoptosis regulation.\n",
      "The mutations of the cell line are ATR, BRCA2, CDK6, CREBBP, CTCF, CTNNA1, EPHA3, FGF23, MLL2, NFE2L2, P2RY8, RB1, SOX2, TBX3, TEK, TP53.\n",
      "Drug Sensitivity: Resistant\n",
      "\n",
      "Example 1:\n",
      "\n",
      "Drug and cell line mutations: \n",
      "The drug is GSK650394. The drug SMILES structure is C1CCC(C1)C2=C(C=CC(=C2)C3=CNC4=NC=C(C=C34)C5=CC=CC=C5)C(=O)O. Drug target is SGK2, SGK3. Drug target pathway is Other, kinases.\n",
      "The mutations of the cell line are ALK, ARID1A, ERG, FAM46C, PIK3R1, PPP2R1A, SPEN.\n",
      "Drug Sensitivity: Sensitive\n",
      "\n",
      "Example 2:\n",
      "\n",
      "Drug and cell line mutations: \n",
      "The drug is BRYOSTATIN-1. The drug SMILES structure is CCCC=CC=CC(=O)OC1C(=CC(=O)OC)CC2CC(OC(=O)CC(CC3CC(C(C(O3)(CC4CC(=CC(=O)OC)CC(O4)C=CC(C1(O2)O)(C)C)O)(C)C)OC(=O)C)O)C(C)O. Drug target is Unknown. Drug target pathway is Unknown.\n",
      "The mutations of the cell line are ALK, ALOX12B, ATM, ATR, CTNNB1, FLCN, IGF1R, JAK3, KDM6A, MAP3K1, RB1, TP53.\n",
      "Drug Sensitivity: Sensitive\n",
      "\n",
      "Example 3:\n",
      "\n",
      "Drug and cell line mutations: \n",
      "The drug is KIN001-135. The drug SMILES structure is COC1=C(C=C2C(=C1)N=CN2C3=CC(=C(S3)C#N)OCC4=CC=CC=C4S(=O)(=O)C)OC. Drug target is IKK. Drug target pathway is Other, kinases.\n",
      "The mutations of the cell line are BRCA1, CSF1R, CUL3, NOTCH3, NRAS, PIK3C2G, SOX2, SRC, TP53.\n",
      "Drug Sensitivity: Sensitive\n",
      "\n",
      "Example 4:\n",
      "\n",
      "Drug and cell line mutations: \n",
      "The drug is CETUXIMAB. The drug SMILES structure is CC1(C(=C)N(C2=CC=CC=C21)CCCCCC(=O)O)C. Drug target is EGFR. Drug target pathway is EGFR signaling.\n",
      "The mutations of the cell line are ATR, CREBBP, CXCR4, FGF10, FGF12, MLL2, MSH3, PARP3, SMARCA4, TP53.\n",
      "Drug Sensitivity: Sensitive<</EXAMPLE>> \n",
      "Drug and cell line mutations: \n",
      "The drug is LINSITINIB. The drug SMILES structure is CC1(CC(C1)C2=NC(=C3N2C=CN=C3N)C4=CC5=C(C=C4)C=CC(=N5)C6=CC=CC=C6)O. Drug target is IGF1R. Drug target pathway is IGF1R signaling.\n",
      "The mutations of the cell line are ASXL1, FLT3, MAP3K1, NOTCH1, TP53, U2AF1.\n",
      "Drug Sensitivity: ?[/INST]\n"
     ]
    },
    {
     "name": "stderr",
     "output_type": "stream",
     "text": [
      "/data/yingfei/models/llm/medAlpaca/medalpaca_env/lib/python3.9/site-packages/transformers/generation/configuration_utils.py:492: UserWarning: `do_sample` is set to `False`. However, `temperature` is set to `0.0` -- this flag is only used in sample-based generation modes. You should set `do_sample=True` or unset `temperature`.\n",
      "  warnings.warn(\n"
     ]
    },
    {
     "name": "stdout",
     "output_type": "stream",
     "text": [
      " <<SYS>>The sensitivity of the drug on the cell line is unknown. Please provide the drug sensitivity information.\n",
      "\n",
      "GROUND TRUTH: Sensitive\n",
      "********************\n",
      "PROCESSING CELLINE: ACH-000006    4\n",
      "<s>[INST] <<SYS>>Think step by step and decide in a single word reflecting the drug sensitivity of the drug on the cell line: [Sensitive/Resistant]<</SYS>> <<EXAMPLE>>Example 0:\n",
      "\n",
      "Drug and cell line mutations: \n",
      "The drug is CX-5461. The drug SMILES structure is CC1=CN=C(C=N1)CNC(=O)C2=C3N(C4=CC=CC=C4S3)C5=C(C2=O)C=CC(=N5)N6CCCN(CC6)C. Drug target is RNA Polymerase 1. Drug target pathway is Other.\n",
      "The mutations of the cell line are FGFR1, KDM6A, NTRK3, PIK3CA, TP53.\n",
      "Drug Sensitivity: Resistant\n",
      "\n",
      "Example 1:\n",
      "\n",
      "Drug and cell line mutations: \n",
      "The drug is KIN001-244. The drug SMILES structure is C1=CC=C(C=C1)[C@H](COC2=CC3=C(C=C2)NC(=O)N3)NC(=O)C4=CC=CN(C4=O)CC5=CC(=C(C=C5)F)F. Drug target is PDK1. Drug target pathway is Other, kinases.\n",
      "The mutations of the cell line are BARD1, CREBBP, CSF3R, ERBB4, FANCA, GNAQ, MSH2, PARK2, TP53, WT1.\n",
      "Drug Sensitivity: Resistant\n",
      "\n",
      "Example 2:\n",
      "\n",
      "Drug and cell line mutations: \n",
      "The drug is PI-103. The drug SMILES structure is C1COCCN1C2=NC(=NC3=C2OC4=C3C=CC=N4)C5=CC(=CC=C5)O. Drug target is PI3Kalpha, DAPK3, CLK4, PIM3, HIPK2. Drug target pathway is Other, kinases.\n",
      "The mutations of the cell line are CDK8, CREBBP, ERRFI1, KIT, MLL2, NF1, RET.\n",
      "Drug Sensitivity: Sensitive\n",
      "\n",
      "Example 3:\n",
      "\n",
      "Drug and cell line mutations: \n",
      "The drug is SN-38. The drug SMILES structure is CCC1=C2CN3C(=CC4=C(C3=O)COC(=O)[C@@]4(CC)O)C2=NC5=C1C=C(C=C5)O. Drug target is TOP1. Drug target pathway is DNA replication.\n",
      "The mutations of the cell line are CDKN1A, DAXX, FAM46C, HGF, KDM6A, KEL, NOTCH1, NOTCH3, RB1, ROS1, TP53.\n",
      "Drug Sensitivity: Resistant\n",
      "\n",
      "Example 4:\n",
      "\n",
      "Drug and cell line mutations: \n",
      "The drug is GDC-0810. The drug SMILES structure is CCC(=C(C1=CC=C(C=C1)C=CC(=O)O)C2=CC3=C(C=C2)NN=C3)C4=C(C=C(C=C4)F)Cl. Drug target is ESR1, ESR2. Drug target pathway is Hormone-related.\n",
      "The mutations of the cell line are BRCA1, EMSY, CREBBP, FGFR2, JAK1, JAK3, PDGFRA, RAD51, SMARCA4, TP53.\n",
      "Drug Sensitivity: Resistant<</EXAMPLE>> \n",
      "Drug and cell line mutations: \n",
      "The drug is UNC0642. The drug SMILES structure is CC(C)N1CCC(CC1)NC2=NC(=NC3=CC(=C(C=C32)OC)OCCCN4CCCC4)N5CCC(CC5)(F)F. Drug target is G9A, GLP. Drug target pathway is Chromatin histone methylation.\n",
      "The mutations of the cell line are ASXL1, FLT3, MAP3K1, NOTCH1, TP53, U2AF1.\n",
      "Drug Sensitivity: ?[/INST]\n"
     ]
    },
    {
     "name": "stderr",
     "output_type": "stream",
     "text": [
      "/data/yingfei/models/llm/medAlpaca/medalpaca_env/lib/python3.9/site-packages/transformers/generation/configuration_utils.py:492: UserWarning: `do_sample` is set to `False`. However, `temperature` is set to `0.0` -- this flag is only used in sample-based generation modes. You should set `do_sample=True` or unset `temperature`.\n",
      "  warnings.warn(\n"
     ]
    },
    {
     "name": "stdout",
     "output_type": "stream",
     "text": [
      "\n",
      "\n",
      "GROUND TRUTH: Sensitive\n",
      "********************\n",
      "PROCESSING CELLINE: ACH-000006    5\n",
      "<s>[INST] <<SYS>>Think step by step and decide in a single word reflecting the drug sensitivity of the drug on the cell line: [Sensitive/Resistant]<</SYS>> <<EXAMPLE>>Example 0:\n",
      "\n",
      "Drug and cell line mutations: \n",
      "The drug is BELINOSTAT. The drug SMILES structure is C1=CC=C(C=C1)NS(=O)(=O)C2=CC=CC(=C2)C=CC(=O)NO. Drug target is HDAC1. Drug target pathway is Chromatin histone acetylation.\n",
      "The mutations of the cell line are ATM, DAXX, GNAS, JAK2, KRAS.\n",
      "Drug Sensitivity: Resistant\n",
      "\n",
      "Example 1:\n",
      "\n",
      "Drug and cell line mutations: \n",
      "The drug is APITOLISIB. The drug SMILES structure is CC1=C(SC2=C1N=C(N=C2N3CCOCC3)C4=CN=C(N=C4)N)CN5CCN(CC5)C(=O)[C@H](C)O. Drug target is mTOR, PI3K. Drug target pathway is PI3K/MTOR signaling.\n",
      "The mutations of the cell line are FAM123B, APC, ATM, FBXW7, KRAS, MYC, TP53.\n",
      "Drug Sensitivity: Resistant\n",
      "\n",
      "Example 2:\n",
      "\n",
      "Drug and cell line mutations: \n",
      "The drug is ZG-10. The drug SMILES structure is O=C(C1=CC=C(NC(C=CCN(C)C)=O)C=C1)NC2=CC(NC3=NC(C4=CC=CN=C4)=CC=N3)=CC=C2. Drug target is JNK1. Drug target pathway is JNK and p38 signaling.\n",
      "The mutations of the cell line are CDKN1A, DAXX, FAM46C, HGF, KDM6A, KEL, NOTCH1, NOTCH3, RB1, ROS1, TP53.\n",
      "Drug Sensitivity: Sensitive\n",
      "\n",
      "Example 3:\n",
      "\n",
      "Drug and cell line mutations: \n",
      "The drug is CGP-60474. The drug SMILES structure is C1=CC(=CC(=C1)Cl)NC2=NC=CC(=N2)C3=CC(=NC=C3)NCCCO. Drug target is CDK1,CDK2,CDK5,CDK7,CDK9, PKC. Drug target pathway is Cell cycle.\n",
      "The mutations of the cell line are FGFR1, KDM6A, NTRK3, PIK3CA, TP53.\n",
      "Drug Sensitivity: Resistant\n",
      "\n",
      "Example 4:\n",
      "\n",
      "Drug and cell line mutations: \n",
      "The drug is ALISERTIB. The drug SMILES structure is COC1=C(C(=CC=C1)F)C2=NCC3=CN=C(N=C3C4=C2C=C(C=C4)Cl)NC5=CC(=C(C=C5)C(=O)O)OC. Drug target is AURKA. Drug target pathway is Mitosis.\n",
      "The mutations of the cell line are CDK8, CREBBP, ERRFI1, KIT, MLL2, NF1, RET.\n",
      "Drug Sensitivity: Resistant<</EXAMPLE>> \n",
      "Drug and cell line mutations: \n",
      "The drug is JW-7-52-1. The drug SMILES structure is CCC(=O)N1CCN(CC1)C2=C(C=C(C=C2)N3C(=O)C=CC4=CN=C5C=CC(=CC5=C43)C6=CC7=CC=CC=C7N=C6)C(F)(F)F. Drug target is MTOR. Drug target pathway is PI3K/MTOR signaling.\n",
      "The mutations of the cell line are ASXL1, FLT3, MAP3K1, NOTCH1, TP53, U2AF1.\n",
      "Drug Sensitivity: ?[/INST]\n"
     ]
    },
    {
     "name": "stderr",
     "output_type": "stream",
     "text": [
      "/data/yingfei/models/llm/medAlpaca/medalpaca_env/lib/python3.9/site-packages/transformers/generation/configuration_utils.py:492: UserWarning: `do_sample` is set to `False`. However, `temperature` is set to `0.0` -- this flag is only used in sample-based generation modes. You should set `do_sample=True` or unset `temperature`.\n",
      "  warnings.warn(\n"
     ]
    },
    {
     "name": "stdout",
     "output_type": "stream",
     "text": [
      "\n",
      "\n",
      "GROUND TRUTH: Resistant\n",
      "********************\n",
      "PROCESSING CELLINE: ACH-000006    6\n",
      "<s>[INST] <<SYS>>Think step by step and decide in a single word reflecting the drug sensitivity of the drug on the cell line: [Sensitive/Resistant]<</SYS>> <<EXAMPLE>>Example 0:\n",
      "\n",
      "Drug and cell line mutations: \n",
      "The drug is KRAS (G12C) INHIBITOR-12. The drug SMILES structure is C=CC(=O)N1CCN(CC1)C(=O)CNC2=CC(=C(C=C2O)Cl)I. Drug target is KRAS (G12C). Drug target pathway is ERK MAPK signaling.\n",
      "The mutations of the cell line are AKT3, APC, CARD11, FANCL, FLT1, FOXL2, GATA3, IRF4, NF1, PBRM1, PIK3CA, POLE, STAG2, TP53.\n",
      "Drug Sensitivity: Sensitive\n",
      "\n",
      "Example 1:\n",
      "\n",
      "Drug and cell line mutations: \n",
      "The drug is LY2109761. The drug SMILES structure is C1CC2=C(C(=NN2C1)C3=CC=CC=N3)C4=C5C=CC(=CC5=NC=C4)OCCN6CCOCC6. Drug target is TGFB1. Drug target pathway is Other.\n",
      "The mutations of the cell line are ATR, ATRX, BRAF, BRCA2, CDH1, EZH2, MYCN, NOTCH2, PBRM1, PTPN11, ROS1, SF3B1, SGK1, SOX9, TBX3, TSC2.\n",
      "Drug Sensitivity: Sensitive\n",
      "\n",
      "Example 2:\n",
      "\n",
      "Drug and cell line mutations: \n",
      "The drug is AZ960. The drug SMILES structure is CC1=CC(=NN1)NC2=C(C=C(C(=N2)N[C@@H](C)C3=CC=C(C=C3)F)C#N)F. Drug target is JAK2, JAK3. Drug target pathway is Other, kinases.\n",
      "The mutations of the cell line are ARID1A, CARD11, CIC, DDR1, MTOR, NBN, RB1, TP53.\n",
      "Drug Sensitivity: Sensitive\n",
      "\n",
      "Example 3:\n",
      "\n",
      "Drug and cell line mutations: \n",
      "The drug is A-83-01. The drug SMILES structure is CC1=NC(=CC=C1)C2=NN(C=C2C3=CC=NC4=CC=CC=C34)C(=S)NC5=CC=CC=C5. Drug target is TGFB. Drug target pathway is Other.\n",
      "The mutations of the cell line are ATR, AXL, BAP1, BCL2, BRCA1, CARD11, CASP8, CDK4, CIC, CREBBP, CTCF, DAXX, DNMT3A, EGFR, EP300, ERBB4, ETV5, FGFR1, FGFR4, FOXL2, IKZF1, IRF2, JAK2, JAK3, KIT, MLL2, LTK, MAP3K1, MAP3K13, MAPK1, MEN1, MET, MPL, MSH2, MSH6, MST1R, NOTCH2, NOTCH3, NTRK2, P2RY8, PBRM1, PIK3CA, PPARG, PRDM1, PTCH1, RAD21, RAD51C, RARA, RBM10, SNCAIP, STK11, TGFBR2, TP53, TSC2, WHSC1L1, ZNF217.\n",
      "Drug Sensitivity: Resistant\n",
      "\n",
      "Example 4:\n",
      "\n",
      "Drug and cell line mutations: \n",
      "The drug is CETUXIMAB. The drug SMILES structure is CC1(C(=C)N(C2=CC=CC=C21)CCCCCC(=O)O)C. Drug target is EGFR. Drug target pathway is EGFR signaling.\n",
      "The mutations of the cell line are ALK, ARID1A, BCL6, BTK, CIC, EGFR, EPHB1, ERBB4, ETV6, FANCC, FGF12, GNA13, KIT, MLL2, LTK, NF1, NOTCH1, NOTCH2, POLE, SDHA, SMAD4, SPEN, TP53.\n",
      "Drug Sensitivity: Sensitive<</EXAMPLE>> \n",
      "Drug and cell line mutations: \n",
      "The drug is BOSUTINIB. The drug SMILES structure is CN1CCN(CC1)CCCOC2=C(C=C3C(=C2)N=CC(=C3NC4=CC(=C(C=C4Cl)Cl)OC)C#N)OC. Drug target is SRC, ABL, TEC. Drug target pathway is Other, kinases.\n",
      "The mutations of the cell line are ASXL1, FLT3, MAP3K1, NOTCH1, TP53, U2AF1.\n",
      "Drug Sensitivity: ?[/INST]\n"
     ]
    },
    {
     "name": "stderr",
     "output_type": "stream",
     "text": [
      "/data/yingfei/models/llm/medAlpaca/medalpaca_env/lib/python3.9/site-packages/transformers/generation/configuration_utils.py:492: UserWarning: `do_sample` is set to `False`. However, `temperature` is set to `0.0` -- this flag is only used in sample-based generation modes. You should set `do_sample=True` or unset `temperature`.\n",
      "  warnings.warn(\n"
     ]
    }
   ],
   "source": [
    "for idx in range(200):\n",
    "    row = test_samples.iloc[idx,:]\n",
    "    if not pd.isna(row.output70): continue\n",
    "    print(f'PROCESSING CELLINE: {row.cell_id}   ', idx)\n",
    "    prompt = row.prompt\n",
    "\n",
    "    pipeline = transformers.pipeline(\"text-generation\", model=model,\n",
    "                                    tokenizer=tokenizer, temperature = 0.0,\n",
    "                                    torch_dtype=torch.float16, device_map=\"auto\",\n",
    "                                    return_full_text=False)\n",
    "    instruction = \"Think step by step and decide in a single word reflecting the drug sensitivity of the drug on the cell line: [Sensitive/Resistant]\"\n",
    "    prompt = prompt.split(\"[Reasoning].\")[1]\n",
    "    #fewshot = get_few_shot(fewshot_set, num=5)\n",
    "    #prompt_content = f\"<s>[INST] <<SYS>>{instruction}<</SYS>> <<EXAMPLE>>{fewshot}<</EXAMPLE>> {prompt}[/INST]\"\n",
    "    prompt_content = f\"<s>[INST] <<SYS>>{instruction}<</SYS>> {prompt}[/INST]\"\n",
    "    \n",
    "    print(prompt_content)\n",
    "    # Run prompt and pipeline\n",
    "    sequences = pipeline(prompt_content, truncation=True, max_length=20480)\n",
    "    # print(result[0]['generated_text']) # Not in one word??? !!!\n",
    "    output = \"\"\n",
    "    for seq in sequences:\n",
    "        new_output = seq['generated_text']\n",
    "        print(new_output)\n",
    "        output += new_output\n",
    "    \n",
    "\n",
    "    test_samples.loc[idx,'output70'] = output.strip()\n",
    "    test_samples.to_csv('test_output.csv', index=None)\n",
    "    print()\n",
    "    print(f'GROUND TRUTH: {row.answer}')\n",
    "    print('*'*20)"
   ]
  },
  {
   "cell_type": "code",
   "execution_count": null,
   "metadata": {},
   "outputs": [],
   "source": [
    "import pandas as pd\n",
    "\n",
    "df_result = pd.read_csv('test_output.csv')\n",
    "df_result.head()"
   ]
  },
  {
   "cell_type": "code",
   "execution_count": null,
   "metadata": {},
   "outputs": [],
   "source": [
    "pred_lst = []\n",
    "for x in df_result.output70:\n",
    "    pre = x.find('Resistant')\n",
    "    if pre != -1:\n",
    "        pred_lst.append('Resistant')\n",
    "    else:\n",
    "        pred_lst.append('Sensitive')"
   ]
  },
  {
   "cell_type": "code",
   "execution_count": null,
   "metadata": {},
   "outputs": [],
   "source": [
    "pred_lst[:5]"
   ]
  },
  {
   "cell_type": "code",
   "execution_count": null,
   "metadata": {},
   "outputs": [],
   "source": [
    "corr = [1 for idx, x in enumerate(df_result.answer) if x == pred_lst[idx]]"
   ]
  },
  {
   "cell_type": "code",
   "execution_count": null,
   "metadata": {},
   "outputs": [],
   "source": [
    "sum(corr)/len(df_result)"
   ]
  },
  {
   "cell_type": "code",
   "execution_count": null,
   "metadata": {},
   "outputs": [],
   "source": [
    "from sklearn.metrics import confusion_matrix, ConfusionMatrixDisplay"
   ]
  },
  {
   "cell_type": "code",
   "execution_count": null,
   "metadata": {},
   "outputs": [],
   "source": [
    "cm = confusion_matrix(df_result.answer.tolist(), pred_lst, labels=[\"Resistant\", \"Sensitive\"])"
   ]
  },
  {
   "cell_type": "code",
   "execution_count": null,
   "metadata": {},
   "outputs": [],
   "source": [
    "disp = ConfusionMatrixDisplay(confusion_matrix=cm, display_labels=[\"Resistant\", \"Sensitive\"])"
   ]
  },
  {
   "cell_type": "code",
   "execution_count": null,
   "metadata": {},
   "outputs": [],
   "source": [
    "disp.plot()"
   ]
  },
  {
   "cell_type": "code",
   "execution_count": null,
   "metadata": {},
   "outputs": [],
   "source": []
  }
 ],
 "metadata": {
  "kernelspec": {
   "display_name": "medalpaca_env",
   "language": "python",
   "name": "medalpaca_env"
  },
  "language_info": {
   "codemirror_mode": {
    "name": "ipython",
    "version": 3
   },
   "file_extension": ".py",
   "mimetype": "text/x-python",
   "name": "python",
   "nbconvert_exporter": "python",
   "pygments_lexer": "ipython3",
   "version": "3.9.12"
  }
 },
 "nbformat": 4,
 "nbformat_minor": 4
}
