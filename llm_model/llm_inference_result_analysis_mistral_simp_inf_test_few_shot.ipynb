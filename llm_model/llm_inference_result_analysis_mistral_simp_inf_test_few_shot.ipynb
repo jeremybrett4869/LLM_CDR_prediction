{
 "cells": [
  {
   "cell_type": "code",
   "execution_count": 1,
   "id": "a03e9402",
   "metadata": {},
   "outputs": [],
   "source": [
    "import pandas as pd"
   ]
  },
  {
   "cell_type": "code",
   "execution_count": 3,
   "id": "848758a8",
   "metadata": {},
   "outputs": [
    {
     "name": "stdout",
     "output_type": "stream",
     "text": [
      "(2312, 5)\n"
     ]
    }
   ],
   "source": [
    "task1_data = pd.read_csv(\"/data/yingfei/cancer_data/llm_prompt_data/llm_inference_data/test_fewshot_simple_mistral.csv\")\n",
    "print(task1_data.shape) # zero shot"
   ]
  },
  {
   "cell_type": "code",
   "execution_count": 4,
   "id": "0d0d8259",
   "metadata": {
    "scrolled": true
   },
   "outputs": [
    {
     "data": {
      "text/html": [
       "<div>\n",
       "<style scoped>\n",
       "    .dataframe tbody tr th:only-of-type {\n",
       "        vertical-align: middle;\n",
       "    }\n",
       "\n",
       "    .dataframe tbody tr th {\n",
       "        vertical-align: top;\n",
       "    }\n",
       "\n",
       "    .dataframe thead th {\n",
       "        text-align: right;\n",
       "    }\n",
       "</style>\n",
       "<table border=\"1\" class=\"dataframe\">\n",
       "  <thead>\n",
       "    <tr style=\"text-align: right;\">\n",
       "      <th></th>\n",
       "      <th>cell_id</th>\n",
       "      <th>prompt</th>\n",
       "      <th>answer</th>\n",
       "      <th>output_med</th>\n",
       "      <th>output_Mis</th>\n",
       "    </tr>\n",
       "  </thead>\n",
       "  <tbody>\n",
       "    <tr>\n",
       "      <th>0</th>\n",
       "      <td>ACH-000006</td>\n",
       "      <td>Think step by step and decide in a single word...</td>\n",
       "      <td>Sensitive</td>\n",
       "      <td>NaN</td>\n",
       "      <td>Sensitive. While the mutations in the cell lin...</td>\n",
       "    </tr>\n",
       "    <tr>\n",
       "      <th>1</th>\n",
       "      <td>ACH-000006</td>\n",
       "      <td>Think step by step and decide in a single word...</td>\n",
       "      <td>Resistant</td>\n",
       "      <td>NaN</td>\n",
       "      <td>The mutations of the cell line are ASXL1, FLT3...</td>\n",
       "    </tr>\n",
       "    <tr>\n",
       "      <th>2</th>\n",
       "      <td>ACH-000006</td>\n",
       "      <td>Think step by step and decide in a single word...</td>\n",
       "      <td>Resistant</td>\n",
       "      <td>NaN</td>\n",
       "      <td>The mutations of the cell line are ASXL1, FLT3...</td>\n",
       "    </tr>\n",
       "    <tr>\n",
       "      <th>3</th>\n",
       "      <td>ACH-000006</td>\n",
       "      <td>Think step by step and decide in a single word...</td>\n",
       "      <td>Sensitive</td>\n",
       "      <td>NaN</td>\n",
       "      <td>Sensitive (LINSITINIB is known to be sensitive...</td>\n",
       "    </tr>\n",
       "    <tr>\n",
       "      <th>4</th>\n",
       "      <td>ACH-000006</td>\n",
       "      <td>Think step by step and decide in a single word...</td>\n",
       "      <td>Sensitive</td>\n",
       "      <td>NaN</td>\n",
       "      <td>The mutations of the cell line are ASXL1, FLT3...</td>\n",
       "    </tr>\n",
       "  </tbody>\n",
       "</table>\n",
       "</div>"
      ],
      "text/plain": [
       "      cell_id                                             prompt     answer  \\\n",
       "0  ACH-000006  Think step by step and decide in a single word...  Sensitive   \n",
       "1  ACH-000006  Think step by step and decide in a single word...  Resistant   \n",
       "2  ACH-000006  Think step by step and decide in a single word...  Resistant   \n",
       "3  ACH-000006  Think step by step and decide in a single word...  Sensitive   \n",
       "4  ACH-000006  Think step by step and decide in a single word...  Sensitive   \n",
       "\n",
       "  output_med                                         output_Mis  \n",
       "0        NaN  Sensitive. While the mutations in the cell lin...  \n",
       "1        NaN  The mutations of the cell line are ASXL1, FLT3...  \n",
       "2        NaN  The mutations of the cell line are ASXL1, FLT3...  \n",
       "3        NaN  Sensitive (LINSITINIB is known to be sensitive...  \n",
       "4        NaN  The mutations of the cell line are ASXL1, FLT3...  "
      ]
     },
     "execution_count": 4,
     "metadata": {},
     "output_type": "execute_result"
    }
   ],
   "source": [
    "task1_data.head()"
   ]
  },
  {
   "cell_type": "code",
   "execution_count": 6,
   "id": "58dc77a6",
   "metadata": {},
   "outputs": [
    {
     "data": {
      "text/plain": [
       "(200, 5)"
      ]
     },
     "execution_count": 6,
     "metadata": {},
     "output_type": "execute_result"
    }
   ],
   "source": [
    "task1_data = task1_data.loc[task1_data.output_Mis.notna()].copy()\n",
    "task1_data.shape"
   ]
  },
  {
   "cell_type": "code",
   "execution_count": 10,
   "id": "52128ab2",
   "metadata": {},
   "outputs": [
    {
     "name": "stdout",
     "output_type": "stream",
     "text": [
      "Sensitive. The cell line has mutations in genes other than the drug target, so the sensitivity of the cell line to the drug depends on the specific mutations in the drug target and their impact on the drug's binding and efficacy. In this case, the drug targets SRC, ABL, and TEC, and the cell line has mutations in ASXL1, FLT3, MAP3K1, NOTCH1, TP53, and U2AF1. The mutations in ASXL1, FLT3, MAP3K1, NOTCH1, and U2AF1 are not directly related to the drug target, so their impact on drug sensitivity is uncertain. However, the mutation in TP53, which is a tumor suppressor gene, could potentially make the cell line more resistant to the drug, as TP53 mutations are often associated with drug resistance. However, the drug's mechanism of action and the specific mutations in the drug target could still result in sensitivity, so the overall assessment is uncertain and requires further investigation.\n"
     ]
    }
   ],
   "source": [
    "print(task1_data.output_Mis[6]) # ??? -> manual label"
   ]
  },
  {
   "cell_type": "code",
   "execution_count": 22,
   "id": "038bc293",
   "metadata": {},
   "outputs": [],
   "source": [
    "task1_data['prediction'] = task1_data['output_Mis'].apply(lambda x: \"Sensitive\" if x.split(\".\")[0] == \"Sensitive\" or x.split(\" \")[0] == \"Sensitive\" else \\\n",
    "                                                        \"Resistant\" if x.split(\".\")[0] == \"Resistant\" or x.split(\" \")[0] == \"Resistant\" else \"None\" \\\n",
    "                                                         if \"cannot\" in x else \"Check\")"
   ]
  },
  {
   "cell_type": "code",
   "execution_count": 23,
   "id": "cb489883",
   "metadata": {},
   "outputs": [
    {
     "data": {
      "text/plain": [
       "prediction\n",
       "Sensitive    95\n",
       "None         52\n",
       "Check        49\n",
       "Resistant     4\n",
       "Name: count, dtype: int64"
      ]
     },
     "execution_count": 23,
     "metadata": {},
     "output_type": "execute_result"
    }
   ],
   "source": [
    "task1_data.prediction.value_counts()"
   ]
  },
  {
   "cell_type": "code",
   "execution_count": 25,
   "id": "ce823015",
   "metadata": {},
   "outputs": [],
   "source": [
    "task1_data['prediction'] = task1_data['output_Mis'].apply(lambda x: \"Check\" if \"sensitive\" in x.lower() and \"resistant\" in x.lower() else \\\n",
    "                                                               \"Sensitive\" if \"sensitive\" in x.lower() else \"Resistant\" if \"resistant\" in x.lower() \\\n",
    "                                                               else \"None\")"
   ]
  },
  {
   "cell_type": "code",
   "execution_count": 26,
   "id": "d8890161",
   "metadata": {},
   "outputs": [
    {
     "data": {
      "text/plain": [
       "prediction\n",
       "Sensitive    84\n",
       "None         79\n",
       "Check        30\n",
       "Resistant     7\n",
       "Name: count, dtype: int64"
      ]
     },
     "execution_count": 26,
     "metadata": {},
     "output_type": "execute_result"
    }
   ],
   "source": [
    "task1_data.prediction.value_counts()"
   ]
  },
  {
   "cell_type": "code",
   "execution_count": 27,
   "id": "47185c5c",
   "metadata": {},
   "outputs": [
    {
     "name": "stdout",
     "output_type": "stream",
     "text": [
      "1 Check\n",
      "The mutations of the cell line are ASXL1, FLT3, MAP3K1, NOTCH1, TP53, U2AF1. Based on the provided information, it is not possible to determine with certainty whether the drug NVP-TAE684 will be sensitive or resistant to this cell line. The presence of mutations in genes that are known to be involved in the drug target pathway, such as ALK and RTK signaling, can suggest sensitivity. However, other factors such as the specific mutations and their impact on the drug target, as well as potential resistance mechanisms, should also be considered. Therefore, the drug sensitivity cannot be determined with a single word in this case.\n",
      "\n",
      "6 Check\n",
      "Sensitive. The cell line has mutations in genes other than the drug target, so the sensitivity of the cell line to the drug depends on the specific mutations in the drug target and their impact on the drug's binding and efficacy. In this case, the drug targets SRC, ABL, and TEC, and the cell line has mutations in ASXL1, FLT3, MAP3K1, NOTCH1, TP53, and U2AF1. The mutations in ASXL1, FLT3, MAP3K1, NOTCH1, and U2AF1 are not directly related to the drug target, so their impact on drug sensitivity is uncertain. However, the mutation in TP53, which is a tumor suppressor gene, could potentially make the cell line more resistant to the drug, as TP53 mutations are often associated with drug resistance. However, the drug's mechanism of action and the specific mutations in the drug target could still result in sensitivity, so the overall assessment is uncertain and requires further investigation.\n",
      "\n",
      "15 Check\n",
      "The mutations of the cell line are ASXL1, FLT3, MAP3K1, NOTCH1, TP53, U2AF1.\n",
      "\n",
      "To determine the drug sensitivity, we need to check if any of these mutations are known to confer resistance or sensitivity to YM-201636. Based on current knowledge, there is no clear answer as to whether these mutations make the cell line sensitive or resistant to YM-201636. Therefore, the drug sensitivity cannot be determined with a single word.\n",
      "\n",
      "It is important to note that the sensitivity of a drug to a specific cell line can depend on various factors, including the specific mutations present in the cell line, the expression levels of the drug target, and the presence of other genetic or epigenetic alterations. Therefore, determining drug sensitivity based on mutation data alone can be complex and may require additional information and analysis.\n",
      "\n",
      "33 Check\n",
      "Sensitive. The presence of mutations in the cell line does not necessarily mean that the drug will be resistant. The sensitivity or resistance of a drug to a specific cell line depends on various factors, including the specific mutations and the drug's mechanism of action. In this case, ZG-10 is known to target JNK1, and the mutations in the cell line do not directly affect the JNK and p38 signaling pathway. Therefore, it is likely that the drug will still be effective against the cell line.\n",
      "\n",
      "36 Check\n",
      "The sensitivity of the drug CAY10566 on the given cell line cannot be determined with a single word based on the provided information. The mutations in the cell line do not directly indicate whether the drug will be sensitive or resistant. Additional information such as the specific mutations affecting the drug target or the expression level of the drug target in the cell line would be necessary to make an accurate determination.\n",
      "\n",
      "37 Check\n",
      "Sensitive (as PIK3CA mutations can make cells resistant to PI3K inhibitors, but the provided cell line mutations do not include PIK3CA mutations)\n",
      "\n",
      "38 Check\n",
      "Sensitive. The presence of mutations in the cell line does not necessarily mean that the drug will be resistant. The drug EPZ004777 is designed to target DOT1L, and the mutations listed do not affect this target directly. However, it is important to note that other factors, such as the specific mutation context and potential compensatory mechanisms, could impact drug sensitivity. Therefore, further investigation and experimental data are required to confirm the sensitivity of the cell line to EPZ004777.\n",
      "\n",
      "40 Check\n",
      "Based on the given information, it is not possible to determine with certainty whether the drug XMD11-85H will be sensitive or resistant to the cell line with the listed mutations. The sensitivity of a drug to a specific cell line can depend on various factors, including the specific mutations present in the cell line, the expression levels of the drug target, and the presence of other genetic or epigenetic alterations. Therefore, further experiments or studies would be needed to determine the drug sensitivity in this case.\n",
      "\n",
      "56 Check\n",
      "The mutations in this example include genes involved in various signaling pathways and cellular processes, such as ALK, AR, ASXL1, ATR, BRCA2, CSF1R, KDM5C, MLL, MUTYH, SMARCA4, and TP53. The drug XMD13-2 targets MRCKB, which is involved in the cytoskeleton.\n",
      "\n",
      "To determine the drug sensitivity, it's important to consider how these mutations may affect the drug's ability to interact with its target and elicit a therapeutic response. In general, mutations that impair the drug's binding to its target or enhance the target's ability to resist the drug's effects would be expected to result in drug resistance. Conversely, mutations that do not significantly impact the drug-target interaction or may even sensitize the target to the drug could result in drug sensitivity.\n",
      "\n",
      "In this case, it's difficult to make a definitive determination based on the provided information alone. Some of the mutations, such as those in BRCA2 and TP53, have been associated with increased sensitivity to certain drugs in certain contexts. However, other mutations, such as those in ALK and CSF1R, have been linked to drug resistance.\n",
      "\n",
      "Therefore, further investigation would be needed to fully assess the drug sensitivity in this context. For example, experimental assays could be used to measure the drug's efficacy in inhibiting MRCKB in the presence and absence of the identified mutations. Additionally, computational modeling approaches could be employed to predict the impact of the mutations on the drug-target interaction and downstream signaling pathways.\n",
      "\n",
      "Based on the limited information provided, it's not possible to make a definitive call of either sensitive or resistant. The drug sensitivity would need to be determined through further experimentation or modeling.\n",
      "\n",
      "62 Check\n",
      "Based on the given information, it is not possible to definitively determine if the drug BIX02189 is sensitive or resistant to the cell line with the provided mutations. The presence of mutations in genes such as MEK5, ERK5, ALK, AR, and TP53 could potentially impact drug sensitivity, but more information is needed to make a definitive conclusion. Further studies, such as in vitro or in vivo assays, would be required to determine the drug sensitivity accurately. Therefore, the answer is \"?\".\n",
      "\n",
      "76 Check\n",
      "Sensitive or Resistant cannot be determined with the given information as there is no information about any specific mutations in the drug target or pathway related to the cell line's resistance or sensitivity to NPK76-II-72-1. Further research or experiments would be needed to determine the drug sensitivity.\n",
      "\n",
      "78 Check\n",
      "Sensitive. The presence of mutations in the cell line does not necessarily mean that the drug will be resistant. The sensitivity or resistance of a drug to a specific cell line depends on various factors, including the specific mutations and the drug's mechanism of action. In this case, MPS-1-IN-1 is a mitotic spindle inhibitor, and its target, MPS1, plays a crucial role in mitosis. The mutations in ARFRP1, IRS2, and NBN do not directly affect the MPS1 protein or its function, so the drug is expected to be sensitive to the cell line.\n",
      "\n",
      "86 Check\n",
      "Based on the given information, it is not possible to determine with certainty whether the cell line will be sensitive or resistant to VOXTALISIB. The presence of mutations in ARFRP1, IRS2, NBN, and WHSC1L1 could potentially impact the drug's sensitivity, but more information is needed to make a definitive call. It is important to note that drug sensitivity can be influenced by various factors beyond the presence or absence of specific mutations, such as the expression level of the drug target, the presence of other relevant mutations or genetic alterations, and the overall biology of the cell line. Therefore, further experimental analysis would be required to determine the drug sensitivity accurately.\n",
      "\n",
      "92 Check\n",
      "Sensitive (PIK3CA mutations in examples 1 and 2 can make cells resistant to PIK-93, but the cell line in this example does not have PIK3CA mutations)\n",
      "\n",
      "99 Check\n",
      "Based on the given information, it is not possible to determine with certainty whether the cell line is sensitive or resistant to AST-1306. The presence of mutations in the EGFR and ERBB4 genes, which are the targets of AST-1306, suggests that the drug may be less effective in this cell line due to the resistance mechanisms conferred by these mutations. However, other factors such as the specific mutations present and their impact on the drug target pathway, as well as the expression levels of the drug target proteins, can also influence drug sensitivity. Therefore, further experiments and analysis would be needed to definitively determine the drug sensitivity of AST-1306 in this cell line.\n",
      "\n",
      "111 Check\n",
      "Based on the given information, it is not possible to determine with certainty whether the drug BAY-61-3606 will be sensitive or resistant to the cell line with the specified mutations. The sensitivity of a drug to a particular cell line can depend on various factors, including the specific mutations present in the cell line and the mechanism of action of the drug. In this case, the drug targets SYK, which is a kinase, and the cell line has mutations in several kinases (ARAF, BTK, EGFR, ETV5, FLT1, MTOR, NPM1, SMARCA4), but it is not clear how these mutations will affect the drug's sensitivity. Therefore, the drug sensitivity should be labeled as \"Unknown\" or \"Indeterminate\".\n",
      "\n",
      "116 Check\n",
      "The information provided does not allow for a definitive determination of sensitivity (Sensitive or Resistant) for the drug VNLG/124 in the given cell line mutations. Further studies or experiments would be needed to determine the drug's sensitivity in this context.\n",
      "\n",
      "129 Check\n",
      "The information provided does not allow me to definitively determine if the cell line is sensitive or resistant to CAY10566. Additional data, such as the specific mutations in the cell line's stearoyl-CoA desaturase gene and any known interactions between those mutations and the drug, would be necessary to make an accurate assessment.\n",
      "\n",
      "136 Check\n",
      "It is not possible to determine the drug sensitivity as a single word based on the given information alone, as the sensitivity of a drug to a specific cell line can depend on various factors, including the specific mutations present in the cell line and the drug's mechanism of action. In order to accurately determine drug sensitivity, additional information and experimental data would be required. In this example, the drug JNJ-38877605 has an unknown drug target and drug target pathway, and the cell line mutations are only listed as ARID1A, CARD11, CDKN2C, and JAK1. Without further information, it is not possible to determine if this drug would be sensitive or resistant to this cell line.\n",
      "\n",
      "171 Check\n",
      "Sensitive. However, it's important to note that the presence of certain mutations does not necessarily mean the drug will be resistant, and further analysis such as IC50 values or in vitro assays may be necessary to determine the exact drug sensitivity.\n",
      "\n",
      "175 Check\n",
      "Sensitive. The presence of mutations in some genes does not necessarily mean that the cell line is resistant to the drug FORETINIB, as it targets multiple RTKs and its mechanism of action is not dependent on a single gene or pathway. However, further experiments and analysis would be required to confirm the sensitivity of the cell line to the drug.\n",
      "\n",
      "176 Check\n",
      "The sensitivity of MASITINIB on the given cell line cannot be determined with the provided information alone. The cell line mutations listed do not include any known mutations in the KIT, PDGFRA, or PDGFRB genes, which are the targets of MASITINIB. Therefore, it is not possible to definitively determine if the cell line is sensitive or resistant to this drug based on the given information. Additional information, such as the specific mutations in these genes, would be needed to make an accurate assessment.\n",
      "\n",
      "177 Check\n",
      "Sensitive. The presence of mutations in ERBB4, GNAS, NOTCH1, SDHA, SPEN, and WT1 does not necessarily mean that the cell line is resistant to GSK1059615. The drug targets PI3K, and while some of these mutations are associated with PI3K/MTOR signaling, they do not necessarily confer resistance to the drug. Therefore, based on the information provided, the drug sensitivity is sensitive.\n",
      "\n",
      "178 Check\n",
      "Sensitive or Resistant cannot be determined with the given information alone. The sensitivity of a drug to a specific cell line can depend on various factors, including the specific mutations present in the cell line and the expression levels of the drug target. In order to determine drug sensitivity, additional experiments such as in vitro drug screening assays would be necessary.\n",
      "\n",
      "179 Check\n",
      "Sensitive. The presence of mutations in the cell line does not necessarily mean that the drug will be resistant. The sensitivity or resistance of a drug to a particular cell line depends on various factors, including the specific mutations present, the drug's mechanism of action, and the expression level of the drug target in the cell line. In the given example, the drug MK-8776 targets CHEK1, CHEK2, and CDK2, which are involved in the cell cycle. The presence of mutations in ERBB4, GNAS, NOTCH1, SDHA, SPEN, and WT1 may affect the cell cycle, but it does not necessarily mean that the drug will be resistant. Therefore, based on the given information, the drug is predicted to be sensitive to the cell line.\n",
      "\n",
      "183 Check\n",
      "Based on the given information, it is not possible to determine with certainty whether the drug WYE-125132 will be sensitive or resistant to the cell line with the specified mutations. The presence of mutations in the PI3K/MTOR signaling pathway, specifically in GNAS and NOTCH1, could potentially impact drug sensitivity. However, without further information on the specific nature and extent of these mutations, it is not possible to make a definitive call. Therefore, the answer is: Unknown.\n",
      "\n",
      "189 Check\n",
      "Based on the given information, it is not possible to determine with certainty whether the cell line will be sensitive or resistant to AZD8931. The presence of mutations in the EGFR, ERBB2, and ERBB3 genes, which are the targets of AZD8931, suggests that the cell line may be resistant. However, the presence of mutations in other genes, such as ABL1 and RNF43, could also impact the drug sensitivity. Further analysis, such as functional assays or clinical trials, would be needed to definitively determine the drug sensitivity. Therefore, the answer is: Uncertain.\n",
      "\n",
      "193 Check\n",
      "Sensitive or Resistant cannot be determined with certainty based on the given information alone. The sensitivity of a drug to a specific cell line can depend on various factors, including the specific mutations present in the cell line and the expression levels of the drug target. In order to accurately determine drug sensitivity, additional experimental data, such as IC50 values or cell viability assays, would be required.\n",
      "\n",
      "196 Check\n",
      "The mutations of the cell line are ABL1, CDKN2A, FANCC, KRAS, RNF43, TP53. The drug BVD-523 targets ERK1 and ERK2 in the ERK MAPK signaling pathway.\n",
      "\n",
      "To determine the drug sensitivity, we need to consider if any of the identified mutations in the cell line are known to confer resistance to ERK inhibitors. According to literature, mutations in KRAS and BRAF (not present in this cell line) are commonly associated with resistance to ERK inhibitors. However, mutations in ABL1, CDKN2A, FANCC, RNF43, and TP53 have not been consistently linked to resistance to ERK inhibitors.\n",
      "\n",
      "Therefore, based on the available information, it is difficult to definitively classify the drug sensitivity as sensitive or resistant. Further investigation, such as in vitro assays or clinical studies, would be required to determine the drug sensitivity in this specific context.\n",
      "\n",
      "So, the answer is: Uncertain.\n",
      "\n",
      "198 Check\n",
      "Sensitive. The presence of mutations in the cell line does not necessarily mean that the drug will be resistant. In some cases, the drug may still be effective in targeting the wild-type protein or pathway, even if the mutated protein is less sensitive or even resistant to the drug. In this example, SALUBRINAL is known to inhibit EIF2A, and the mutations in the cell line do not affect the EIF2A protein directly. Therefore, the drug is likely to be sensitive to the cell line.\n",
      "\n"
     ]
    }
   ],
   "source": [
    "check_df = task1_data.loc[task1_data.prediction.isin([\"Check\"])]\n",
    "for i in range(len(check_df)):\n",
    "    print(check_df.index.values[i], check_df.prediction.values[i])\n",
    "    print(check_df.output_Mis.values[i])\n",
    "    print() "
   ]
  },
  {
   "cell_type": "code",
   "execution_count": 30,
   "id": "10861be4",
   "metadata": {},
   "outputs": [],
   "source": [
    "task1_data.loc[37, 'prediction']=\"Sensitive\" \n",
    "task1_data.loc[38, 'prediction']=\"Sensitive\"\n",
    "task1_data.loc[78, 'prediction']=\"Sensitive\"\n",
    "task1_data.loc[92, 'prediction']=\"Sensitive\"\n",
    "task1_data.loc[171, 'prediction']=\"Sensitive\"\n",
    "task1_data.loc[175, 'prediction']=\"Sensitive\"\n",
    "task1_data.loc[177, 'prediction']=\"Sensitive\"\n",
    "task1_data.loc[179, 'prediction']=\"Sensitive\"\n",
    "task1_data.loc[198, 'prediction']=\"Sensitive\""
   ]
  },
  {
   "cell_type": "code",
   "execution_count": 31,
   "id": "e5311044",
   "metadata": {},
   "outputs": [
    {
     "data": {
      "text/plain": [
       "0.23"
      ]
     },
     "execution_count": 31,
     "metadata": {},
     "output_type": "execute_result"
    }
   ],
   "source": [
    "from sklearn.metrics import accuracy_score, confusion_matrix, precision_score, recall_score, f1_score\n",
    "accuracy_score(task1_data.answer, task1_data.prediction)"
   ]
  },
  {
   "cell_type": "code",
   "execution_count": 32,
   "id": "207df76b",
   "metadata": {},
   "outputs": [
    {
     "data": {
      "text/plain": [
       "0.46236559139784944"
      ]
     },
     "execution_count": 32,
     "metadata": {},
     "output_type": "execute_result"
    }
   ],
   "source": [
    "precision_score(task1_data.loc[task1_data.prediction.isin([\"Sensitive\", \"Resistant\"]), 'answer'],\\\n",
    "                task1_data.loc[task1_data.prediction.isin([\"Sensitive\", \"Resistant\"]), 'prediction'], pos_label = \"Sensitive\")"
   ]
  },
  {
   "cell_type": "code",
   "execution_count": 33,
   "id": "d68d91b4",
   "metadata": {},
   "outputs": [
    {
     "data": {
      "text/plain": [
       "0.9148936170212766"
      ]
     },
     "execution_count": 33,
     "metadata": {},
     "output_type": "execute_result"
    }
   ],
   "source": [
    "recall_score(task1_data.loc[task1_data.prediction.isin([\"Sensitive\", \"Resistant\"]), 'answer'],\\\n",
    "                task1_data.loc[task1_data.prediction.isin([\"Sensitive\", \"Resistant\"]), 'prediction'], pos_label = \"Sensitive\")"
   ]
  },
  {
   "cell_type": "code",
   "execution_count": 34,
   "id": "61a09fff",
   "metadata": {},
   "outputs": [
    {
     "data": {
      "text/plain": [
       "0.6142857142857143"
      ]
     },
     "execution_count": 34,
     "metadata": {},
     "output_type": "execute_result"
    }
   ],
   "source": [
    "f1_score(task1_data.loc[task1_data.prediction.isin([\"Sensitive\", \"Resistant\"]), 'answer'],\\\n",
    "                task1_data.loc[task1_data.prediction.isin([\"Sensitive\", \"Resistant\"]), 'prediction'], pos_label = \"Sensitive\")"
   ]
  },
  {
   "cell_type": "code",
   "execution_count": 38,
   "id": "97348da5",
   "metadata": {},
   "outputs": [
    {
     "data": {
      "text/plain": [
       "array([[43,  4],\n",
       "       [50,  3]])"
      ]
     },
     "execution_count": 38,
     "metadata": {},
     "output_type": "execute_result"
    }
   ],
   "source": [
    "confusion_matrix(task1_data.loc[task1_data.prediction.isin([\"Sensitive\", \"Resistant\"]), 'answer'],\\\n",
    "                task1_data.loc[task1_data.prediction.isin([\"Sensitive\", \"Resistant\"]), 'prediction'], labels =  [\"Sensitive\", \"Resistant\"])"
   ]
  },
  {
   "cell_type": "code",
   "execution_count": null,
   "id": "eac9489d",
   "metadata": {},
   "outputs": [],
   "source": []
  }
 ],
 "metadata": {
  "kernelspec": {
   "display_name": "llm_env",
   "language": "python",
   "name": "llm_env"
  },
  "language_info": {
   "codemirror_mode": {
    "name": "ipython",
    "version": 3
   },
   "file_extension": ".py",
   "mimetype": "text/x-python",
   "name": "python",
   "nbconvert_exporter": "python",
   "pygments_lexer": "ipython3",
   "version": "3.9.12"
  }
 },
 "nbformat": 4,
 "nbformat_minor": 5
}
