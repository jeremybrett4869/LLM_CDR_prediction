{
 "cells": [
  {
   "cell_type": "code",
   "execution_count": 1,
   "id": "a03e9402",
   "metadata": {},
   "outputs": [],
   "source": [
    "import pandas as pd"
   ]
  },
  {
   "cell_type": "code",
   "execution_count": 2,
   "id": "848758a8",
   "metadata": {},
   "outputs": [
    {
     "name": "stdout",
     "output_type": "stream",
     "text": [
      "(2312, 6)\n"
     ]
    }
   ],
   "source": [
    "task1_data = pd.read_csv(\"/data/yingfei/cancer_data/llm_prompt_data/llm_inference_data/test_zeroshot_simple_vicuna_labelled.csv\")\n",
    "print(task1_data.shape) # zero shot"
   ]
  },
  {
   "cell_type": "code",
   "execution_count": 3,
   "id": "0d0d8259",
   "metadata": {
    "scrolled": true
   },
   "outputs": [
    {
     "data": {
      "text/html": [
       "<div>\n",
       "<style scoped>\n",
       "    .dataframe tbody tr th:only-of-type {\n",
       "        vertical-align: middle;\n",
       "    }\n",
       "\n",
       "    .dataframe tbody tr th {\n",
       "        vertical-align: top;\n",
       "    }\n",
       "\n",
       "    .dataframe thead th {\n",
       "        text-align: right;\n",
       "    }\n",
       "</style>\n",
       "<table border=\"1\" class=\"dataframe\">\n",
       "  <thead>\n",
       "    <tr style=\"text-align: right;\">\n",
       "      <th></th>\n",
       "      <th>cell_id</th>\n",
       "      <th>prompt</th>\n",
       "      <th>answer</th>\n",
       "      <th>output_vic</th>\n",
       "      <th>prediction</th>\n",
       "      <th>overall</th>\n",
       "    </tr>\n",
       "  </thead>\n",
       "  <tbody>\n",
       "    <tr>\n",
       "      <th>0</th>\n",
       "      <td>ACH-000006</td>\n",
       "      <td>Think step by step and decide in a single word...</td>\n",
       "      <td>Sensitive</td>\n",
       "      <td>1. ASXL1: This mutation is known to increase t...</td>\n",
       "      <td>Sensitive</td>\n",
       "      <td>Sensitive</td>\n",
       "    </tr>\n",
       "    <tr>\n",
       "      <th>1</th>\n",
       "      <td>ACH-000006</td>\n",
       "      <td>Think step by step and decide in a single word...</td>\n",
       "      <td>Resistant</td>\n",
       "      <td>1. ASXL1: This mutation is known to be associa...</td>\n",
       "      <td>NaN</td>\n",
       "      <td>Resistant</td>\n",
       "    </tr>\n",
       "    <tr>\n",
       "      <th>2</th>\n",
       "      <td>ACH-000006</td>\n",
       "      <td>Think step by step and decide in a single word...</td>\n",
       "      <td>Resistant</td>\n",
       "      <td>1. ASXL1: This mutation is known to be associa...</td>\n",
       "      <td>Mixed</td>\n",
       "      <td>Resistant</td>\n",
       "    </tr>\n",
       "    <tr>\n",
       "      <th>3</th>\n",
       "      <td>ACH-000006</td>\n",
       "      <td>Think step by step and decide in a single word...</td>\n",
       "      <td>Sensitive</td>\n",
       "      <td>1. ASXL1: This mutation is known to be associa...</td>\n",
       "      <td>Mixed</td>\n",
       "      <td>Sensitive</td>\n",
       "    </tr>\n",
       "    <tr>\n",
       "      <th>4</th>\n",
       "      <td>ACH-000006</td>\n",
       "      <td>Think step by step and decide in a single word...</td>\n",
       "      <td>Sensitive</td>\n",
       "      <td>1. ASXL1: This gene is involved in regulating ...</td>\n",
       "      <td>Resistant</td>\n",
       "      <td>Resistant</td>\n",
       "    </tr>\n",
       "  </tbody>\n",
       "</table>\n",
       "</div>"
      ],
      "text/plain": [
       "      cell_id                                             prompt     answer  \\\n",
       "0  ACH-000006  Think step by step and decide in a single word...  Sensitive   \n",
       "1  ACH-000006  Think step by step and decide in a single word...  Resistant   \n",
       "2  ACH-000006  Think step by step and decide in a single word...  Resistant   \n",
       "3  ACH-000006  Think step by step and decide in a single word...  Sensitive   \n",
       "4  ACH-000006  Think step by step and decide in a single word...  Sensitive   \n",
       "\n",
       "                                          output_vic prediction    overall  \n",
       "0  1. ASXL1: This mutation is known to increase t...  Sensitive  Sensitive  \n",
       "1  1. ASXL1: This mutation is known to be associa...        NaN  Resistant  \n",
       "2  1. ASXL1: This mutation is known to be associa...      Mixed  Resistant  \n",
       "3  1. ASXL1: This mutation is known to be associa...      Mixed  Sensitive  \n",
       "4  1. ASXL1: This gene is involved in regulating ...  Resistant  Resistant  "
      ]
     },
     "execution_count": 3,
     "metadata": {},
     "output_type": "execute_result"
    }
   ],
   "source": [
    "task1_data.head()"
   ]
  },
  {
   "cell_type": "code",
   "execution_count": 4,
   "id": "58dc77a6",
   "metadata": {},
   "outputs": [
    {
     "data": {
      "text/plain": [
       "(200, 6)"
      ]
     },
     "execution_count": 4,
     "metadata": {},
     "output_type": "execute_result"
    }
   ],
   "source": [
    "task1_data = task1_data.loc[task1_data.output_vic.notna()].copy()\n",
    "task1_data.shape"
   ]
  },
  {
   "cell_type": "code",
   "execution_count": 5,
   "id": "52128ab2",
   "metadata": {},
   "outputs": [
    {
     "name": "stdout",
     "output_type": "stream",
     "text": [
      "1. ASXL1: ASXL1 is a histone methyltransferase that plays a role in regulating gene expression. It has been shown to interact with MTOR and inhibit its activity. Therefore, ASXL1 mutations may affect the sensitivity of the cell line to JW-7-52-1.\n",
      "2. FLT3: FLT3 is a receptor tyrosine kinase that is involved in cell survival and proliferation. JW-7-52-1 has been shown to inhibit FLT3 activity, which may affect the sensitivity of the cell line to the drug.\n",
      "3. MAP3K1: MAP3K1 is a kinase that activates the MAPK/ERK pathway. JW-7-75-1 has been shown to inhibit MAP3K1 activity, which may affect the sensitivity of the cell line to the drug.\n",
      "4. NOTCH1: NOTCH1 is a receptor tyrosine kinase that is involved in cell differentiation and proliferation. JW-7-52-1 has been shown to inhibit NOTCH1 activity, which may affect the sensitivity of the cell line to the drug.\n",
      "5. TP53: TP53 is a tumor suppressor gene that is involved in cell cycle regulation and DNA damage response. JW-7-52-1 has been shown to inhibit TP53 activity, which may affect the sensitivity of the cell line to the drug.\n",
      "6. U2AF1: U2AF1 is a component of the spliceosome, a complex involved in RNA splicing. JW-7-52-1 has been shown to inhibit U2AF1 activity, which may affect the sensitivity of the cell line to the drug.\n",
      "\n",
      "Based on the above information, the drug sensitivity of the cell line with the given mutations can be determined as follows:\n",
      "\n",
      "* ASXL1: Sensitive\n",
      "* FLT3: Sensitive\n",
      "* MAP3K1: Sensitive\n",
      "* NOTCH1: Sensitive\n",
      "* TP53: Resistant\n",
      "* U2AF1: Sensitive\n",
      "\n",
      "Therefore, the overall drug sensitivity of the cell line with the given mutations is Sensitive.\n"
     ]
    }
   ],
   "source": [
    "print(task1_data.output_vic[5]) # ??? -> manual label"
   ]
  },
  {
   "cell_type": "code",
   "execution_count": 6,
   "id": "cb489883",
   "metadata": {},
   "outputs": [
    {
     "data": {
      "text/plain": [
       "prediction\n",
       "Sensitive    52\n",
       "Resistant    50\n",
       "Mixed         3\n",
       "Name: count, dtype: int64"
      ]
     },
     "execution_count": 6,
     "metadata": {},
     "output_type": "execute_result"
    }
   ],
   "source": [
    "task1_data.prediction.value_counts()"
   ]
  },
  {
   "cell_type": "code",
   "execution_count": 7,
   "id": "420685e2",
   "metadata": {},
   "outputs": [
    {
     "data": {
      "text/plain": [
       "overall\n",
       "Resistant    65\n",
       "Sensitive    63\n",
       "Mixed         5\n",
       "Name: count, dtype: int64"
      ]
     },
     "execution_count": 7,
     "metadata": {},
     "output_type": "execute_result"
    }
   ],
   "source": [
    "task1_data.overall.value_counts()"
   ]
  },
  {
   "cell_type": "code",
   "execution_count": 10,
   "id": "447d69c8",
   "metadata": {},
   "outputs": [],
   "source": [
    "task1_data.prediction.fillna(\"None\", inplace = True)\n",
    "task1_data.overall.fillna(\"None\", inplace = True)"
   ]
  },
  {
   "cell_type": "code",
   "execution_count": 11,
   "id": "e5311044",
   "metadata": {},
   "outputs": [
    {
     "data": {
      "text/plain": [
       "0.23"
      ]
     },
     "execution_count": 11,
     "metadata": {},
     "output_type": "execute_result"
    }
   ],
   "source": [
    "from sklearn.metrics import accuracy_score, confusion_matrix, precision_score, recall_score, f1_score\n",
    "accuracy_score(task1_data.answer, task1_data.prediction)"
   ]
  },
  {
   "cell_type": "code",
   "execution_count": 13,
   "id": "207df76b",
   "metadata": {},
   "outputs": [
    {
     "data": {
      "text/plain": [
       "0.46153846153846156"
      ]
     },
     "execution_count": 13,
     "metadata": {},
     "output_type": "execute_result"
    }
   ],
   "source": [
    "precision_score(task1_data.loc[task1_data.prediction.isin([\"Sensitive\", \"Resistant\"]), 'answer'],\\\n",
    "                task1_data.loc[task1_data.prediction.isin([\"Sensitive\", \"Resistant\"]), 'prediction'], pos_label = \"Sensitive\")"
   ]
  },
  {
   "cell_type": "code",
   "execution_count": 14,
   "id": "d68d91b4",
   "metadata": {},
   "outputs": [
    {
     "data": {
      "text/plain": [
       "0.46153846153846156"
      ]
     },
     "execution_count": 14,
     "metadata": {},
     "output_type": "execute_result"
    }
   ],
   "source": [
    "recall_score(task1_data.loc[task1_data.prediction.isin([\"Sensitive\", \"Resistant\"]), 'answer'],\\\n",
    "                task1_data.loc[task1_data.prediction.isin([\"Sensitive\", \"Resistant\"]), 'prediction'], pos_label = \"Sensitive\")"
   ]
  },
  {
   "cell_type": "code",
   "execution_count": 15,
   "id": "61a09fff",
   "metadata": {},
   "outputs": [
    {
     "data": {
      "text/plain": [
       "0.46153846153846156"
      ]
     },
     "execution_count": 15,
     "metadata": {},
     "output_type": "execute_result"
    }
   ],
   "source": [
    "f1_score(task1_data.loc[task1_data.prediction.isin([\"Sensitive\", \"Resistant\"]), 'answer'],\\\n",
    "                task1_data.loc[task1_data.prediction.isin([\"Sensitive\", \"Resistant\"]), 'prediction'], pos_label = \"Sensitive\")"
   ]
  },
  {
   "cell_type": "code",
   "execution_count": 16,
   "id": "e5f94cd5",
   "metadata": {},
   "outputs": [
    {
     "data": {
      "text/plain": [
       "array([[24, 28],\n",
       "       [28, 22]])"
      ]
     },
     "execution_count": 16,
     "metadata": {},
     "output_type": "execute_result"
    }
   ],
   "source": [
    "confusion_matrix(task1_data.loc[task1_data.prediction.isin([\"Sensitive\", \"Resistant\"]), 'answer'],\\\n",
    "                task1_data.loc[task1_data.prediction.isin([\"Sensitive\", \"Resistant\"]), 'prediction'], labels =  [\"Sensitive\", \"Resistant\"])"
   ]
  },
  {
   "cell_type": "code",
   "execution_count": 17,
   "id": "4e496695",
   "metadata": {},
   "outputs": [
    {
     "data": {
      "text/plain": [
       "0.32"
      ]
     },
     "execution_count": 17,
     "metadata": {},
     "output_type": "execute_result"
    }
   ],
   "source": [
    "accuracy_score(task1_data.answer, task1_data.overall)"
   ]
  },
  {
   "cell_type": "code",
   "execution_count": 19,
   "id": "419053a1",
   "metadata": {},
   "outputs": [
    {
     "data": {
      "text/plain": [
       "0.5079365079365079"
      ]
     },
     "execution_count": 19,
     "metadata": {},
     "output_type": "execute_result"
    }
   ],
   "source": [
    "precision_score(task1_data.loc[task1_data.overall.isin([\"Sensitive\", \"Resistant\"]), 'answer'],\\\n",
    "                task1_data.loc[task1_data.overall.isin([\"Sensitive\", \"Resistant\"]), 'overall'], pos_label = \"Sensitive\")"
   ]
  },
  {
   "cell_type": "code",
   "execution_count": 20,
   "id": "2d259250",
   "metadata": {},
   "outputs": [
    {
     "data": {
      "text/plain": [
       "0.49230769230769234"
      ]
     },
     "execution_count": 20,
     "metadata": {},
     "output_type": "execute_result"
    }
   ],
   "source": [
    "recall_score(task1_data.loc[task1_data.overall.isin([\"Sensitive\", \"Resistant\"]), 'answer'],\\\n",
    "                task1_data.loc[task1_data.overall.isin([\"Sensitive\", \"Resistant\"]), 'overall'], pos_label = \"Sensitive\")"
   ]
  },
  {
   "cell_type": "code",
   "execution_count": 21,
   "id": "cda3f7e9",
   "metadata": {},
   "outputs": [
    {
     "data": {
      "text/plain": [
       "0.5"
      ]
     },
     "execution_count": 21,
     "metadata": {},
     "output_type": "execute_result"
    }
   ],
   "source": [
    "f1_score(task1_data.loc[task1_data.overall.isin([\"Sensitive\", \"Resistant\"]), 'answer'],\\\n",
    "                task1_data.loc[task1_data.overall.isin([\"Sensitive\", \"Resistant\"]), 'overall'], pos_label = \"Sensitive\")"
   ]
  },
  {
   "cell_type": "code",
   "execution_count": 22,
   "id": "e9642e7c",
   "metadata": {},
   "outputs": [
    {
     "data": {
      "text/plain": [
       "array([[32, 33],\n",
       "       [31, 32]])"
      ]
     },
     "execution_count": 22,
     "metadata": {},
     "output_type": "execute_result"
    }
   ],
   "source": [
    "confusion_matrix(task1_data.loc[task1_data.overall.isin([\"Sensitive\", \"Resistant\"]), 'answer'],\\\n",
    "                task1_data.loc[task1_data.overall.isin([\"Sensitive\", \"Resistant\"]), 'overall'], labels =  [\"Sensitive\", \"Resistant\"])"
   ]
  },
  {
   "cell_type": "code",
   "execution_count": 24,
   "id": "0b8811c9",
   "metadata": {},
   "outputs": [],
   "source": [
    "fewshot_set = test_prompt_data.iloc[219:,:]"
   ]
  },
  {
   "cell_type": "code",
   "execution_count": null,
   "id": "cd2d2dc8",
   "metadata": {},
   "outputs": [],
   "source": [
    "def get_few_shot_drug_cell_sim(fewshot_set, num=5):\n",
    "    fewshot = ''\n",
    "    for i in range(num):#len(fewshot_set)):\n",
    "        idx = np.random.randint(0,len(fewshot_set))\n",
    "        answer = fewshot_set.iloc[idx].answer\n",
    "        question = fewshot_set.iloc[idx].prompt.split(\"[Reasoning].\")[1].replace('?',answer)#.replace(\"\\n\", \"\")\n",
    "        fewshot += f'\\n\\nExample {i}:\\n'\n",
    "        fewshot += question#.strip()\n",
    "    \n",
    "    return fewshot.strip()"
   ]
  }
 ],
 "metadata": {
  "kernelspec": {
   "display_name": "llm_env",
   "language": "python",
   "name": "llm_env"
  },
  "language_info": {
   "codemirror_mode": {
    "name": "ipython",
    "version": 3
   },
   "file_extension": ".py",
   "mimetype": "text/x-python",
   "name": "python",
   "nbconvert_exporter": "python",
   "pygments_lexer": "ipython3",
   "version": "3.9.12"
  }
 },
 "nbformat": 4,
 "nbformat_minor": 5
}
