{
 "cells": [
  {
   "cell_type": "code",
   "execution_count": 1,
   "id": "4979f521",
   "metadata": {},
   "outputs": [
    {
     "name": "stdout",
     "output_type": "stream",
     "text": [
      "(200, 4)\n"
     ]
    }
   ],
   "source": [
    "import pandas as pd\n",
    "\n",
    "task1_data_7b = pd.read_csv(\"/data/yingfei/cancer_data/llm_prompt_data/llm_finetune_data/sens_simp_7b_ft.csv\")\n",
    "# task2_data = pd.read_csv(\"/data/yingfei/cancer_data/llm_prompt_data/llm_inference_data/bd_diff_70b_inf.csv\")\n",
    "print(task1_data_7b.shape)\n",
    "# print(task2_data.shape)"
   ]
  },
  {
   "cell_type": "code",
   "execution_count": 2,
   "id": "5338d906",
   "metadata": {},
   "outputs": [
    {
     "data": {
      "text/html": [
       "<div>\n",
       "<style scoped>\n",
       "    .dataframe tbody tr th:only-of-type {\n",
       "        vertical-align: middle;\n",
       "    }\n",
       "\n",
       "    .dataframe tbody tr th {\n",
       "        vertical-align: top;\n",
       "    }\n",
       "\n",
       "    .dataframe thead th {\n",
       "        text-align: right;\n",
       "    }\n",
       "</style>\n",
       "<table border=\"1\" class=\"dataframe\">\n",
       "  <thead>\n",
       "    <tr style=\"text-align: right;\">\n",
       "      <th></th>\n",
       "      <th>prompt</th>\n",
       "      <th>output</th>\n",
       "      <th>answer</th>\n",
       "      <th>ground_truth</th>\n",
       "    </tr>\n",
       "  </thead>\n",
       "  <tbody>\n",
       "    <tr>\n",
       "      <th>0</th>\n",
       "      <td>&lt;s&gt;[INST] &lt;&lt;SYS&gt;&gt;Think step by step and decide...</td>\n",
       "      <td>Resistant.\\nThe drug SMILES structure indicate...</td>\n",
       "      <td>Resistant</td>\n",
       "      <td>Sensitive</td>\n",
       "    </tr>\n",
       "    <tr>\n",
       "      <th>1</th>\n",
       "      <td>&lt;s&gt;[INST] &lt;&lt;SYS&gt;&gt;Think step by step and decide...</td>\n",
       "      <td>Resistant.\\nThe drug SMILES structure indicate...</td>\n",
       "      <td>Resistant</td>\n",
       "      <td>Resistant</td>\n",
       "    </tr>\n",
       "    <tr>\n",
       "      <th>2</th>\n",
       "      <td>&lt;s&gt;[INST] &lt;&lt;SYS&gt;&gt;Think step by step and decide...</td>\n",
       "      <td>Resistant.\\nThe drug SMILES structure indicate...</td>\n",
       "      <td>Resistant</td>\n",
       "      <td>Resistant</td>\n",
       "    </tr>\n",
       "    <tr>\n",
       "      <th>3</th>\n",
       "      <td>&lt;s&gt;[INST] &lt;&lt;SYS&gt;&gt;Think step by step and decide...</td>\n",
       "      <td>Resistant.\\nThe drug sensitivity of the drug o...</td>\n",
       "      <td>Resistant</td>\n",
       "      <td>Sensitive</td>\n",
       "    </tr>\n",
       "    <tr>\n",
       "      <th>4</th>\n",
       "      <td>&lt;s&gt;[INST] &lt;&lt;SYS&gt;&gt;Think step by step and decide...</td>\n",
       "      <td>Resistant.\\nThe drug SMILES structure indicate...</td>\n",
       "      <td>Resistant</td>\n",
       "      <td>Sensitive</td>\n",
       "    </tr>\n",
       "  </tbody>\n",
       "</table>\n",
       "</div>"
      ],
      "text/plain": [
       "                                              prompt  \\\n",
       "0  <s>[INST] <<SYS>>Think step by step and decide...   \n",
       "1  <s>[INST] <<SYS>>Think step by step and decide...   \n",
       "2  <s>[INST] <<SYS>>Think step by step and decide...   \n",
       "3  <s>[INST] <<SYS>>Think step by step and decide...   \n",
       "4  <s>[INST] <<SYS>>Think step by step and decide...   \n",
       "\n",
       "                                              output     answer ground_truth  \n",
       "0  Resistant.\\nThe drug SMILES structure indicate...  Resistant    Sensitive  \n",
       "1  Resistant.\\nThe drug SMILES structure indicate...  Resistant    Resistant  \n",
       "2  Resistant.\\nThe drug SMILES structure indicate...  Resistant    Resistant  \n",
       "3  Resistant.\\nThe drug sensitivity of the drug o...  Resistant    Sensitive  \n",
       "4  Resistant.\\nThe drug SMILES structure indicate...  Resistant    Sensitive  "
      ]
     },
     "execution_count": 2,
     "metadata": {},
     "output_type": "execute_result"
    }
   ],
   "source": [
    "### Task 1\n",
    "task1_data_7b.head()"
   ]
  },
  {
   "cell_type": "code",
   "execution_count": 35,
   "id": "ec044af0-db7b-4a99-8762-dc8e881e3c61",
   "metadata": {},
   "outputs": [
    {
     "data": {
      "text/plain": [
       "0.475"
      ]
     },
     "execution_count": 35,
     "metadata": {},
     "output_type": "execute_result"
    }
   ],
   "source": [
    "from sklearn.metrics import accuracy_score, confusion_matrix, precision_score, recall_score, f1_score\n",
    "accuracy_score(task1_data_7b['ground_truth'], task1_data_7b['answer'])"
   ]
  },
  {
   "cell_type": "code",
   "execution_count": 36,
   "id": "a8e84f57-8c5b-4649-bfd4-88590f8bbc63",
   "metadata": {},
   "outputs": [
    {
     "data": {
      "text/plain": [
       "array([[  0, 105],\n",
       "       [  0,  95]])"
      ]
     },
     "execution_count": 36,
     "metadata": {},
     "output_type": "execute_result"
    }
   ],
   "source": [
    "confusion_matrix(task1_data_7b['ground_truth'], task1_data_7b['answer'], labels =  [\"Sensitive\", \"Resistant\"])"
   ]
  },
  {
   "cell_type": "code",
   "execution_count": 38,
   "id": "cdf533bd-1102-489c-89cd-c73eb6b96eff",
   "metadata": {
    "scrolled": true
   },
   "outputs": [
    {
     "name": "stderr",
     "output_type": "stream",
     "text": [
      "/home/yingfei/llm_data/llm_env/lib/python3.9/site-packages/sklearn/metrics/_classification.py:1509: UndefinedMetricWarning: Precision is ill-defined and being set to 0.0 due to no predicted samples. Use `zero_division` parameter to control this behavior.\n",
      "  _warn_prf(average, modifier, f\"{metric.capitalize()} is\", len(result))\n"
     ]
    },
    {
     "data": {
      "text/plain": [
       "0.0"
      ]
     },
     "execution_count": 38,
     "metadata": {},
     "output_type": "execute_result"
    }
   ],
   "source": [
    "precision_score(task1_data_7b['ground_truth'], task1_data_7b['answer'], pos_label =  \"Sensitive\")"
   ]
  },
  {
   "cell_type": "code",
   "execution_count": 39,
   "id": "0e9ba3e8-99d9-48a3-a32a-a43fceaab062",
   "metadata": {},
   "outputs": [
    {
     "data": {
      "text/plain": [
       "0.0"
      ]
     },
     "execution_count": 39,
     "metadata": {},
     "output_type": "execute_result"
    }
   ],
   "source": [
    "recall_score(task1_data_7b['ground_truth'], task1_data_7b['answer'], pos_label =  \"Sensitive\")"
   ]
  },
  {
   "cell_type": "code",
   "execution_count": 40,
   "id": "8b9c3d38-b30b-40f2-9788-5ff9c9f799a0",
   "metadata": {},
   "outputs": [
    {
     "data": {
      "text/plain": [
       "0.0"
      ]
     },
     "execution_count": 40,
     "metadata": {},
     "output_type": "execute_result"
    }
   ],
   "source": [
    "f1_score(task1_data_7b['ground_truth'], task1_data_7b['answer'], pos_label =  \"Sensitive\")"
   ]
  },
  {
   "cell_type": "code",
   "execution_count": 4,
   "id": "3726ca74-0042-4a27-941b-c3768bedd178",
   "metadata": {},
   "outputs": [
    {
     "data": {
      "text/plain": [
       "array([[ 95,   0],\n",
       "       [105,   0]])"
      ]
     },
     "execution_count": 4,
     "metadata": {},
     "output_type": "execute_result"
    }
   ],
   "source": [
    "confusion_matrix(task1_data_7b['ground_truth'], task1_data_7b['answer'])"
   ]
  },
  {
   "cell_type": "code",
   "execution_count": 5,
   "id": "7ef95718",
   "metadata": {},
   "outputs": [
    {
     "name": "stdout",
     "output_type": "stream",
     "text": [
      "(200, 4)\n"
     ]
    }
   ],
   "source": [
    "task1_data_70b = pd.read_csv(\"/data/yingfei/cancer_data/llm_prompt_data/llm_inference_data/sens_simp_70b_inf_test.csv\")\n",
    "print(task1_data_70b.shape)"
   ]
  },
  {
   "cell_type": "code",
   "execution_count": 6,
   "id": "b531780b",
   "metadata": {},
   "outputs": [
    {
     "data": {
      "text/html": [
       "<div>\n",
       "<style scoped>\n",
       "    .dataframe tbody tr th:only-of-type {\n",
       "        vertical-align: middle;\n",
       "    }\n",
       "\n",
       "    .dataframe tbody tr th {\n",
       "        vertical-align: top;\n",
       "    }\n",
       "\n",
       "    .dataframe thead th {\n",
       "        text-align: right;\n",
       "    }\n",
       "</style>\n",
       "<table border=\"1\" class=\"dataframe\">\n",
       "  <thead>\n",
       "    <tr style=\"text-align: right;\">\n",
       "      <th></th>\n",
       "      <th>cell_id</th>\n",
       "      <th>prompt</th>\n",
       "      <th>answer</th>\n",
       "      <th>output70</th>\n",
       "    </tr>\n",
       "  </thead>\n",
       "  <tbody>\n",
       "    <tr>\n",
       "      <th>0</th>\n",
       "      <td>ACH-000006</td>\n",
       "      <td>Think step by step and decide in a single word...</td>\n",
       "      <td>Sensitive</td>\n",
       "      <td>Based on the information provided, I would det...</td>\n",
       "    </tr>\n",
       "    <tr>\n",
       "      <th>1</th>\n",
       "      <td>ACH-000006</td>\n",
       "      <td>Think step by step and decide in a single word...</td>\n",
       "      <td>Resistant</td>\n",
       "      <td>Based on the information provided, my answer f...</td>\n",
       "    </tr>\n",
       "    <tr>\n",
       "      <th>2</th>\n",
       "      <td>ACH-000006</td>\n",
       "      <td>Think step by step and decide in a single word...</td>\n",
       "      <td>Resistant</td>\n",
       "      <td>Based on the information provided, I would det...</td>\n",
       "    </tr>\n",
       "    <tr>\n",
       "      <th>3</th>\n",
       "      <td>ACH-000006</td>\n",
       "      <td>Think step by step and decide in a single word...</td>\n",
       "      <td>Sensitive</td>\n",
       "      <td>Sensitive.\\n\\nThe drug is a tyrosine kinase in...</td>\n",
       "    </tr>\n",
       "    <tr>\n",
       "      <th>4</th>\n",
       "      <td>ACH-000006</td>\n",
       "      <td>Think step by step and decide in a single word...</td>\n",
       "      <td>Sensitive</td>\n",
       "      <td>Based on the information provided, my answer f...</td>\n",
       "    </tr>\n",
       "  </tbody>\n",
       "</table>\n",
       "</div>"
      ],
      "text/plain": [
       "      cell_id                                             prompt     answer  \\\n",
       "0  ACH-000006  Think step by step and decide in a single word...  Sensitive   \n",
       "1  ACH-000006  Think step by step and decide in a single word...  Resistant   \n",
       "2  ACH-000006  Think step by step and decide in a single word...  Resistant   \n",
       "3  ACH-000006  Think step by step and decide in a single word...  Sensitive   \n",
       "4  ACH-000006  Think step by step and decide in a single word...  Sensitive   \n",
       "\n",
       "                                            output70  \n",
       "0  Based on the information provided, I would det...  \n",
       "1  Based on the information provided, my answer f...  \n",
       "2  Based on the information provided, I would det...  \n",
       "3  Sensitive.\\n\\nThe drug is a tyrosine kinase in...  \n",
       "4  Based on the information provided, my answer f...  "
      ]
     },
     "execution_count": 6,
     "metadata": {},
     "output_type": "execute_result"
    }
   ],
   "source": [
    "### Task 1\n",
    "task1_data_70b.head()"
   ]
  },
  {
   "cell_type": "code",
   "execution_count": 7,
   "id": "7c55925e-bafa-4e46-8b5d-afebefee27d3",
   "metadata": {},
   "outputs": [
    {
     "data": {
      "text/html": [
       "<div>\n",
       "<style scoped>\n",
       "    .dataframe tbody tr th:only-of-type {\n",
       "        vertical-align: middle;\n",
       "    }\n",
       "\n",
       "    .dataframe tbody tr th {\n",
       "        vertical-align: top;\n",
       "    }\n",
       "\n",
       "    .dataframe thead th {\n",
       "        text-align: right;\n",
       "    }\n",
       "</style>\n",
       "<table border=\"1\" class=\"dataframe\">\n",
       "  <thead>\n",
       "    <tr style=\"text-align: right;\">\n",
       "      <th></th>\n",
       "      <th>cell_id</th>\n",
       "      <th>prompt</th>\n",
       "      <th>answer</th>\n",
       "      <th>output70</th>\n",
       "    </tr>\n",
       "  </thead>\n",
       "  <tbody>\n",
       "    <tr>\n",
       "      <th>12</th>\n",
       "      <td>ACH-000006</td>\n",
       "      <td>Think step by step and decide in a single word...</td>\n",
       "      <td>Resistant</td>\n",
       "      <td>Sensitive</td>\n",
       "    </tr>\n",
       "    <tr>\n",
       "      <th>18</th>\n",
       "      <td>ACH-000006</td>\n",
       "      <td>Think step by step and decide in a single word...</td>\n",
       "      <td>Resistant</td>\n",
       "      <td>Sensitive</td>\n",
       "    </tr>\n",
       "    <tr>\n",
       "      <th>24</th>\n",
       "      <td>ACH-000006</td>\n",
       "      <td>Think step by step and decide in a single word...</td>\n",
       "      <td>Resistant</td>\n",
       "      <td>Sensitive</td>\n",
       "    </tr>\n",
       "    <tr>\n",
       "      <th>35</th>\n",
       "      <td>ACH-000021</td>\n",
       "      <td>Think step by step and decide in a single word...</td>\n",
       "      <td>Sensitive</td>\n",
       "      <td>Resistant</td>\n",
       "    </tr>\n",
       "    <tr>\n",
       "      <th>48</th>\n",
       "      <td>ACH-000021</td>\n",
       "      <td>Think step by step and decide in a single word...</td>\n",
       "      <td>Resistant</td>\n",
       "      <td>Sensitive</td>\n",
       "    </tr>\n",
       "    <tr>\n",
       "      <th>52</th>\n",
       "      <td>ACH-000021</td>\n",
       "      <td>Think step by step and decide in a single word...</td>\n",
       "      <td>Resistant</td>\n",
       "      <td>Sensitive</td>\n",
       "    </tr>\n",
       "    <tr>\n",
       "      <th>110</th>\n",
       "      <td>ACH-000067</td>\n",
       "      <td>Think step by step and decide in a single word...</td>\n",
       "      <td>Resistant</td>\n",
       "      <td>Sensitive</td>\n",
       "    </tr>\n",
       "    <tr>\n",
       "      <th>142</th>\n",
       "      <td>ACH-000078</td>\n",
       "      <td>Think step by step and decide in a single word...</td>\n",
       "      <td>Resistant</td>\n",
       "      <td>Sensitive</td>\n",
       "    </tr>\n",
       "    <tr>\n",
       "      <th>146</th>\n",
       "      <td>ACH-000078</td>\n",
       "      <td>Think step by step and decide in a single word...</td>\n",
       "      <td>Resistant</td>\n",
       "      <td>Sensitive</td>\n",
       "    </tr>\n",
       "    <tr>\n",
       "      <th>168</th>\n",
       "      <td>ACH-000105</td>\n",
       "      <td>Think step by step and decide in a single word...</td>\n",
       "      <td>Resistant</td>\n",
       "      <td>Sensitive</td>\n",
       "    </tr>\n",
       "    <tr>\n",
       "      <th>199</th>\n",
       "      <td>ACH-000107</td>\n",
       "      <td>Think step by step and decide in a single word...</td>\n",
       "      <td>Sensitive</td>\n",
       "      <td>Sensitive</td>\n",
       "    </tr>\n",
       "  </tbody>\n",
       "</table>\n",
       "</div>"
      ],
      "text/plain": [
       "        cell_id                                             prompt     answer  \\\n",
       "12   ACH-000006  Think step by step and decide in a single word...  Resistant   \n",
       "18   ACH-000006  Think step by step and decide in a single word...  Resistant   \n",
       "24   ACH-000006  Think step by step and decide in a single word...  Resistant   \n",
       "35   ACH-000021  Think step by step and decide in a single word...  Sensitive   \n",
       "48   ACH-000021  Think step by step and decide in a single word...  Resistant   \n",
       "52   ACH-000021  Think step by step and decide in a single word...  Resistant   \n",
       "110  ACH-000067  Think step by step and decide in a single word...  Resistant   \n",
       "142  ACH-000078  Think step by step and decide in a single word...  Resistant   \n",
       "146  ACH-000078  Think step by step and decide in a single word...  Resistant   \n",
       "168  ACH-000105  Think step by step and decide in a single word...  Resistant   \n",
       "199  ACH-000107  Think step by step and decide in a single word...  Sensitive   \n",
       "\n",
       "      output70  \n",
       "12   Sensitive  \n",
       "18   Sensitive  \n",
       "24   Sensitive  \n",
       "35   Resistant  \n",
       "48   Sensitive  \n",
       "52   Sensitive  \n",
       "110  Sensitive  \n",
       "142  Sensitive  \n",
       "146  Sensitive  \n",
       "168  Sensitive  \n",
       "199  Sensitive  "
      ]
     },
     "execution_count": 7,
     "metadata": {},
     "output_type": "execute_result"
    }
   ],
   "source": [
    "task1_data_70b.loc[task1_data_70b.output70.apply(lambda x:len(x) < 10)]"
   ]
  },
  {
   "cell_type": "code",
   "execution_count": 8,
   "id": "8f28f4c5",
   "metadata": {},
   "outputs": [
    {
     "data": {
      "text/plain": [
       "True    200\n",
       "Name: count, dtype: int64"
      ]
     },
     "execution_count": 8,
     "metadata": {},
     "output_type": "execute_result"
    }
   ],
   "source": [
    "### Validate the two should be on the same evaluation dataset\n",
    "pd.Series(task1_data_7b.ground_truth == task1_data_70b.answer).value_counts()"
   ]
  },
  {
   "cell_type": "code",
   "execution_count": 9,
   "id": "9bc527de-dd88-408b-95a1-a291a0c3bdbf",
   "metadata": {
    "scrolled": true
   },
   "outputs": [
    {
     "name": "stdout",
     "output_type": "stream",
     "text": [
      "0 Based on the information provided, I would determine the drug sensitivity of JW-7-24-1 on the cell line as Resistant.\n",
      "\n",
      "The drug targets LCK, which is a kinase that plays a role in the signaling pathways of T cells. The cell line has mutations in several genes that are involved in kinase signaling, including FLT3, MAP3K1, and NOTCH1. These mutations may confer resistance to the drug by altering the signaling pathways that LCK regulates. Additionally, the cell line has a mutation in TP53, which is a tumor suppressor gene that can regulate cell death and proliferation. Mutations in TP53 can also contribute to drug resistance.\n",
      "\n",
      "Therefore, based on the available information, it is likely that the cell line is resistant to JW-7-24-1.\n",
      "1 Based on the information provided, my answer for the drug sensitivity of NVP-TAE684 on the cell line with the given mutations would be:\n",
      "\n",
      "Sensitive\n",
      "2 Based on the information provided, I would determine the drug sensitivity of KIN001-244 on the cell line with the given mutations as Resistant.\n",
      "\n",
      "The drug targets PDK1, which is not directly related to the given mutations. Moreover, the drug's target pathway, Other, kinases, does not seem to be affected by the mutations either. Therefore, it is likely that the drug will not be effective on this cell line.\n",
      "\n",
      "So, the answer would be:\n",
      "\n",
      "Drug Sensitivity: Resistant\n",
      "3 Sensitive.\n",
      "\n",
      "The drug is a tyrosine kinase inhibitor that targets IGF1R, which is mutated in the cell line. The presence of the mutation suggests that the cell line may be sensitive to the drug.\n",
      "4 Based on the information provided, my answer for the drug sensitivity of UNC0642 on the given cell line is:\n",
      "\n",
      "Sensitive\n"
     ]
    }
   ],
   "source": [
    "for i in range(5):\n",
    "    print(i, task1_data_70b['output70'][i])"
   ]
  },
  {
   "cell_type": "code",
   "execution_count": 10,
   "id": "c7d4f093",
   "metadata": {},
   "outputs": [
    {
     "data": {
      "text/plain": [
       "prediction\n",
       "Sensitive    107\n",
       "Resistant     86\n",
       "Check          5\n",
       "None           2\n",
       "Name: count, dtype: int64"
      ]
     },
     "execution_count": 10,
     "metadata": {},
     "output_type": "execute_result"
    }
   ],
   "source": [
    "task1_data_70b['prediction'] = task1_data_70b['output70'].apply(lambda x: \"Check\" if \"sensitive\" in x.lower() and \"resistant\" in x.lower() else \\\n",
    "                                                               \"Sensitive\" if \"sensitive\" in x.lower() else \"Resistant\" if \"resistant\" in x.lower() \\\n",
    "                                                               else \"None\")\n",
    "task1_data_70b['prediction'].value_counts()"
   ]
  },
  {
   "cell_type": "code",
   "execution_count": 11,
   "id": "040d038f-e8f3-4585-a130-df1a6b6a8226",
   "metadata": {},
   "outputs": [
    {
     "name": "stdout",
     "output_type": "stream",
     "text": [
      "83\n",
      "Based on the information provided, I would determine the drug sensitivity of BLEOMYCIN on the cell line with the given mutations as Resistant.\n",
      "\n",
      "The drug target of BLEOMYCIN is dsDNA break induction, which is not directly related to the mutations present in the cell line. The mutations in the cell line are ARFRP1, IRS2, NBN, and WHSC1L1, which are not known to play a direct role in DNA replication or repair. Therefore, it is unlikely that the cell line would be sensitive to BLEOMYCIN, which works by inducing DNA double-strand breaks.\n",
      "\n",
      "Hence, the drug sensitivity of BLEOMYCIN on the cell line with the given mutations would be Resistant. Check\n",
      "\n",
      "84\n",
      "Based on the information provided, I would determine the drug sensitivity of YM-201636 on the cell line with the given mutations as Resistant.\n",
      "\n",
      "The drug targets PIKFYVE, which is involved in the PI3K/MTOR signaling pathway. The cell line has mutations in genes such as IRS2 and NBN, which are also involved in this pathway. These mutations may confer resistance to the drug by altering the activity of the target protein or downstream signaling pathways, making the cancer cells less sensitive to the drug's effects.\n",
      "\n",
      "Therefore, based on the available information, I would classify the drug sensitivity of YM-201636 on this cell line as Resistant. Check\n",
      "\n",
      "93\n",
      "Based on the information provided, the drug sensitivity of TELOMERASE INHIBITOR IX on the cell line with the given mutations is unknown.\n",
      "\n",
      "The drug targets telomerase, which is not directly related to the given mutations. Therefore, it is unclear whether the drug would be effective on this cell line. Further research or experimentation would be necessary to determine the drug sensitivity of TELOMERASE INHIBITOR IX on this cell line.\n",
      "\n",
      "Therefore, the answer is:\n",
      "\n",
      "Drug Sensitivity: Unknown None\n",
      "\n",
      "123\n",
      "Based on the information provided, I would determine the drug sensitivity of BIX02189 on the cell line as Resistant.\n",
      "\n",
      "The drug targets MEK5 and ERK5, which are part of the ERK MAPK signaling pathway. The cell line has mutations in several genes that are involved in this pathway, including EGFR, MTOR, and TP53. These mutations may activate the ERK pathway and make the cells less sensitive to BIX02189, which inhibits the downstream targets MEK5 and ERK5. Therefore, I would predict that the drug would not be effective in inhibiting the growth of these cells. Check\n",
      "\n",
      "150\n",
      "Based on the information provided, I would determine the drug sensitivity of FTI-277 on the cell line as Resistant.\n",
      "\n",
      "The drug targets Farnesyl-transferase (FNTA), which is not a key player in the cell cycle or mitosis pathways, and the cell line mutations do not suggest a clear reason for the drug to be sensitive. Additionally, the drug's mechanism of action, which involves inhibiting farnesylation of proteins, may not be affected by the mutations present in the cell line. Therefore, I would predict that the drug would be resistant to the cell line. Check\n",
      "\n",
      "182\n",
      "Based on the information provided, the drug sensitivity of BRYOSTATIN-1 on the cell line with the given mutations is unknown.\n",
      "\n",
      "The drug targets Unknown, and its target pathway is also Unknown. Therefore, it is not possible to determine whether the drug will be effective on the cell line with the given mutations.\n",
      "\n",
      "It's important to note that drug sensitivity can be influenced by many factors, including the specific mutations present in the cell line, the expression levels of drug targets, and the presence of other genetic alterations that may affect drug response. Therefore, it's not always possible to predict drug sensitivity based solely on the mutations present in the cell line.\n",
      "\n",
      "In this case, further experiments or analysis would be needed to determine the drug sensitivity of BRYOSTATIN-1 on the cell line with the given mutations. None\n",
      "\n",
      "191\n",
      "Based on the information provided, the drug sensitivity of LINSITINIB on the cell line with the given mutations is likely to be Resistant.\n",
      "\n",
      "The drug targets IGF1R, which is a key regulator of cell growth and survival. However, the cell line has mutations in several genes that are involved in the PI3K/AKT signaling pathway, including KRAS, RNF43, and TP53. These mutations can activate the PI3K/AKT pathway and promote cell survival, making the cells less sensitive to the inhibitory effects of LINSITINIB on IGF1R.\n",
      "\n",
      "Therefore, the drug sensitivity of LINSITINIB on this cell line is likely to be Resistant. Check\n",
      "\n"
     ]
    }
   ],
   "source": [
    "check_df = task1_data_70b.loc[task1_data_70b.prediction.isin([\"Check\", \"None\"])]\n",
    "for i in range(len(check_df)):\n",
    "    print(check_df.index.values[i])\n",
    "    print(check_df.output70.values[i], check_df.prediction.values[i])\n",
    "    print()"
   ]
  },
  {
   "cell_type": "code",
   "execution_count": null,
   "id": "967ac6ce-f413-4508-a045-e40c95364c9f",
   "metadata": {},
   "outputs": [],
   "source": []
  },
  {
   "cell_type": "code",
   "execution_count": 12,
   "id": "e1171085-2e1b-465b-b122-b56d11a2ac3f",
   "metadata": {},
   "outputs": [
    {
     "data": {
      "text/html": [
       "<div>\n",
       "<style scoped>\n",
       "    .dataframe tbody tr th:only-of-type {\n",
       "        vertical-align: middle;\n",
       "    }\n",
       "\n",
       "    .dataframe tbody tr th {\n",
       "        vertical-align: top;\n",
       "    }\n",
       "\n",
       "    .dataframe thead th {\n",
       "        text-align: right;\n",
       "    }\n",
       "</style>\n",
       "<table border=\"1\" class=\"dataframe\">\n",
       "  <thead>\n",
       "    <tr style=\"text-align: right;\">\n",
       "      <th></th>\n",
       "      <th>cell_id</th>\n",
       "      <th>prompt</th>\n",
       "      <th>answer</th>\n",
       "      <th>output70</th>\n",
       "      <th>prediction</th>\n",
       "    </tr>\n",
       "  </thead>\n",
       "  <tbody>\n",
       "    <tr>\n",
       "      <th>83</th>\n",
       "      <td>ACH-000045</td>\n",
       "      <td>Think step by step and decide in a single word...</td>\n",
       "      <td>Sensitive</td>\n",
       "      <td>Based on the information provided, I would det...</td>\n",
       "      <td>Check</td>\n",
       "    </tr>\n",
       "    <tr>\n",
       "      <th>84</th>\n",
       "      <td>ACH-000045</td>\n",
       "      <td>Think step by step and decide in a single word...</td>\n",
       "      <td>Sensitive</td>\n",
       "      <td>Based on the information provided, I would det...</td>\n",
       "      <td>Check</td>\n",
       "    </tr>\n",
       "    <tr>\n",
       "      <th>93</th>\n",
       "      <td>ACH-000045</td>\n",
       "      <td>Think step by step and decide in a single word...</td>\n",
       "      <td>Sensitive</td>\n",
       "      <td>Based on the information provided, the drug se...</td>\n",
       "      <td>None</td>\n",
       "    </tr>\n",
       "    <tr>\n",
       "      <th>123</th>\n",
       "      <td>ACH-000067</td>\n",
       "      <td>Think step by step and decide in a single word...</td>\n",
       "      <td>Resistant</td>\n",
       "      <td>Based on the information provided, I would det...</td>\n",
       "      <td>Check</td>\n",
       "    </tr>\n",
       "    <tr>\n",
       "      <th>150</th>\n",
       "      <td>ACH-000105</td>\n",
       "      <td>Think step by step and decide in a single word...</td>\n",
       "      <td>Resistant</td>\n",
       "      <td>Based on the information provided, I would det...</td>\n",
       "      <td>Check</td>\n",
       "    </tr>\n",
       "    <tr>\n",
       "      <th>182</th>\n",
       "      <td>ACH-000105</td>\n",
       "      <td>Think step by step and decide in a single word...</td>\n",
       "      <td>Sensitive</td>\n",
       "      <td>Based on the information provided, the drug se...</td>\n",
       "      <td>None</td>\n",
       "    </tr>\n",
       "    <tr>\n",
       "      <th>191</th>\n",
       "      <td>ACH-000107</td>\n",
       "      <td>Think step by step and decide in a single word...</td>\n",
       "      <td>Sensitive</td>\n",
       "      <td>Based on the information provided, the drug se...</td>\n",
       "      <td>Check</td>\n",
       "    </tr>\n",
       "  </tbody>\n",
       "</table>\n",
       "</div>"
      ],
      "text/plain": [
       "        cell_id                                             prompt     answer  \\\n",
       "83   ACH-000045  Think step by step and decide in a single word...  Sensitive   \n",
       "84   ACH-000045  Think step by step and decide in a single word...  Sensitive   \n",
       "93   ACH-000045  Think step by step and decide in a single word...  Sensitive   \n",
       "123  ACH-000067  Think step by step and decide in a single word...  Resistant   \n",
       "150  ACH-000105  Think step by step and decide in a single word...  Resistant   \n",
       "182  ACH-000105  Think step by step and decide in a single word...  Sensitive   \n",
       "191  ACH-000107  Think step by step and decide in a single word...  Sensitive   \n",
       "\n",
       "                                              output70 prediction  \n",
       "83   Based on the information provided, I would det...      Check  \n",
       "84   Based on the information provided, I would det...      Check  \n",
       "93   Based on the information provided, the drug se...       None  \n",
       "123  Based on the information provided, I would det...      Check  \n",
       "150  Based on the information provided, I would det...      Check  \n",
       "182  Based on the information provided, the drug se...       None  \n",
       "191  Based on the information provided, the drug se...      Check  "
      ]
     },
     "execution_count": 12,
     "metadata": {},
     "output_type": "execute_result"
    }
   ],
   "source": [
    "check_df"
   ]
  },
  {
   "cell_type": "code",
   "execution_count": 13,
   "id": "72f3d7e7-7f1b-4729-8731-a33a285cff53",
   "metadata": {},
   "outputs": [],
   "source": [
    "task1_data_70b.loc[task1_data_70b.prediction == \"Check\", 'prediction'] = \"Resistant\"\n",
    "task1_data_70b.loc[task1_data_70b.prediction == \"None\", 'prediction'] = \"Unknown\""
   ]
  },
  {
   "cell_type": "code",
   "execution_count": 14,
   "id": "55352a20-565d-4326-a4ed-d30160176e24",
   "metadata": {},
   "outputs": [
    {
     "data": {
      "text/plain": [
       "prediction\n",
       "Sensitive    107\n",
       "Resistant     91\n",
       "Unknown        2\n",
       "Name: count, dtype: int64"
      ]
     },
     "execution_count": 14,
     "metadata": {},
     "output_type": "execute_result"
    }
   ],
   "source": [
    "task1_data_70b.prediction.value_counts()"
   ]
  },
  {
   "cell_type": "code",
   "execution_count": 15,
   "id": "501bc93c-d2d3-4888-8488-f517a0f41889",
   "metadata": {},
   "outputs": [
    {
     "data": {
      "text/plain": [
       "array([[44, 51,  0],\n",
       "       [47, 56,  2],\n",
       "       [ 0,  0,  0]])"
      ]
     },
     "execution_count": 15,
     "metadata": {},
     "output_type": "execute_result"
    }
   ],
   "source": [
    "from sklearn.metrics import confusion_matrix, accuracy_score\n",
    "confusion_matrix(task1_data_70b.answer, task1_data_70b.prediction)"
   ]
  },
  {
   "cell_type": "code",
   "execution_count": 48,
   "id": "04f86a47-9c67-4452-a5a3-4b9d1116aefc",
   "metadata": {},
   "outputs": [
    {
     "data": {
      "text/plain": [
       "0.5"
      ]
     },
     "execution_count": 48,
     "metadata": {},
     "output_type": "execute_result"
    }
   ],
   "source": [
    "accuracy_score(task1_data_70b.answer, task1_data_70b.prediction)"
   ]
  },
  {
   "cell_type": "code",
   "execution_count": 45,
   "id": "b684ca1b-57ce-4332-8784-69b62ff1792c",
   "metadata": {},
   "outputs": [
    {
     "data": {
      "text/plain": [
       "0.5233644859813084"
      ]
     },
     "execution_count": 45,
     "metadata": {},
     "output_type": "execute_result"
    }
   ],
   "source": [
    "precision_score(task1_data_70b.loc[task1_data_70b.prediction.isin([\"Sensitive\", \"Resistant\"]), 'answer'],\\\n",
    "                task1_data_70b.loc[task1_data_70b.prediction.isin([\"Sensitive\", \"Resistant\"]), 'prediction'], pos_label = \"Sensitive\")"
   ]
  },
  {
   "cell_type": "code",
   "execution_count": 46,
   "id": "214785f8-f1e7-4a79-9371-0b8eafb6eed7",
   "metadata": {},
   "outputs": [
    {
     "data": {
      "text/plain": [
       "0.5436893203883495"
      ]
     },
     "execution_count": 46,
     "metadata": {},
     "output_type": "execute_result"
    }
   ],
   "source": [
    "recall_score(task1_data_70b.loc[task1_data_70b.prediction.isin([\"Sensitive\", \"Resistant\"]), 'answer'],\\\n",
    "                task1_data_70b.loc[task1_data_70b.prediction.isin([\"Sensitive\", \"Resistant\"]), 'prediction'], pos_label = \"Sensitive\")"
   ]
  },
  {
   "cell_type": "code",
   "execution_count": 47,
   "id": "1f4410b9-cdd7-4251-b879-ea074a83faf1",
   "metadata": {},
   "outputs": [
    {
     "data": {
      "text/plain": [
       "0.5333333333333333"
      ]
     },
     "execution_count": 47,
     "metadata": {},
     "output_type": "execute_result"
    }
   ],
   "source": [
    "f1_score(task1_data_70b.loc[task1_data_70b.prediction.isin([\"Sensitive\", \"Resistant\"]), 'answer'],\\\n",
    "                task1_data_70b.loc[task1_data_70b.prediction.isin([\"Sensitive\", \"Resistant\"]), 'prediction'], pos_label = \"Sensitive\")"
   ]
  },
  {
   "cell_type": "code",
   "execution_count": 17,
   "id": "a7f57072-61e7-4e76-be2d-921ac89fbd95",
   "metadata": {},
   "outputs": [
    {
     "data": {
      "text/html": [
       "<div>\n",
       "<style scoped>\n",
       "    .dataframe tbody tr th:only-of-type {\n",
       "        vertical-align: middle;\n",
       "    }\n",
       "\n",
       "    .dataframe tbody tr th {\n",
       "        vertical-align: top;\n",
       "    }\n",
       "\n",
       "    .dataframe thead th {\n",
       "        text-align: right;\n",
       "    }\n",
       "</style>\n",
       "<table border=\"1\" class=\"dataframe\">\n",
       "  <thead>\n",
       "    <tr style=\"text-align: right;\">\n",
       "      <th></th>\n",
       "      <th>cell_id</th>\n",
       "      <th>prompt</th>\n",
       "      <th>answer</th>\n",
       "      <th>output70</th>\n",
       "      <th>prediction</th>\n",
       "    </tr>\n",
       "  </thead>\n",
       "  <tbody>\n",
       "    <tr>\n",
       "      <th>93</th>\n",
       "      <td>ACH-000045</td>\n",
       "      <td>Think step by step and decide in a single word...</td>\n",
       "      <td>Sensitive</td>\n",
       "      <td>Based on the information provided, the drug se...</td>\n",
       "      <td>Unknown</td>\n",
       "    </tr>\n",
       "    <tr>\n",
       "      <th>182</th>\n",
       "      <td>ACH-000105</td>\n",
       "      <td>Think step by step and decide in a single word...</td>\n",
       "      <td>Sensitive</td>\n",
       "      <td>Based on the information provided, the drug se...</td>\n",
       "      <td>Unknown</td>\n",
       "    </tr>\n",
       "  </tbody>\n",
       "</table>\n",
       "</div>"
      ],
      "text/plain": [
       "        cell_id                                             prompt     answer  \\\n",
       "93   ACH-000045  Think step by step and decide in a single word...  Sensitive   \n",
       "182  ACH-000105  Think step by step and decide in a single word...  Sensitive   \n",
       "\n",
       "                                              output70 prediction  \n",
       "93   Based on the information provided, the drug se...    Unknown  \n",
       "182  Based on the information provided, the drug se...    Unknown  "
      ]
     },
     "execution_count": 17,
     "metadata": {},
     "output_type": "execute_result"
    }
   ],
   "source": [
    "### (*) Unknown -> two predicted as unknown\n",
    "task1_data_70b.loc[task1_data_70b.prediction == \"Unknown\"]"
   ]
  },
  {
   "cell_type": "code",
   "execution_count": 18,
   "id": "fb7cc136-8494-4cb8-81d4-4796fd486520",
   "metadata": {},
   "outputs": [
    {
     "name": "stdout",
     "output_type": "stream",
     "text": [
      "Think step by step and decide in a single word reflecting the drug sensitivity of the drug on the cell line with given mutations: [Sensitive/Resistant], [Reasoning].\n",
      "Drug and cell line mutations: \n",
      "The drug is TELOMERASE INHIBITOR IX. The drug SMILES structure is C1=CC(=CC(=C1)NC(=O)C2=C(C(=CC=C2)O)O)NC(=O)C3=C(C(=CC=C3)O)O. Drug target is Telomerase. Drug target pathway is Genome integrity.\n",
      "The mutations of the cell line are ARFRP1, IRS2, NBN, WHSC1L1.\n",
      "Drug Sensitivity: ?\n",
      "Based on the information provided, the drug sensitivity of TELOMERASE INHIBITOR IX on the cell line with the given mutations is unknown.\n",
      "\n",
      "The drug targets telomerase, which is not directly related to the given mutations. Therefore, it is unclear whether the drug would be effective on this cell line. Further research or experimentation would be necessary to determine the drug sensitivity of TELOMERASE INHIBITOR IX on this cell line.\n",
      "\n",
      "Therefore, the answer is:\n",
      "\n",
      "Drug Sensitivity: Unknown\n"
     ]
    }
   ],
   "source": [
    "print(task1_data_70b.loc[93, 'prompt'])\n",
    "print(task1_data_70b.loc[93, 'output70']) ### Reasoning: the drug target is not directly related to the given mutation"
   ]
  },
  {
   "cell_type": "code",
   "execution_count": 19,
   "id": "c906c134-2d76-426a-b67f-06b6ac02c7df",
   "metadata": {},
   "outputs": [
    {
     "name": "stdout",
     "output_type": "stream",
     "text": [
      "Think step by step and decide in a single word reflecting the drug sensitivity of the drug on the cell line with given mutations: [Sensitive/Resistant], [Reasoning].\n",
      "Drug and cell line mutations: \n",
      "The drug is BRYOSTATIN-1. The drug SMILES structure is CCCC=CC=CC(=O)OC1C(=CC(=O)OC)CC2CC(OC(=O)CC(CC3CC(C(C(O3)(CC4CC(=CC(=O)OC)CC(O4)C=CC(C1(O2)O)(C)C)O)(C)C)OC(=O)C)O)C(C)O. Drug target is Unknown. Drug target pathway is Unknown.\n",
      "The mutations of the cell line are ERBB4, GNAS, NOTCH1, SDHA, SPEN, WT1.\n",
      "Drug Sensitivity: ?\n",
      "Based on the information provided, the drug sensitivity of BRYOSTATIN-1 on the cell line with the given mutations is unknown.\n",
      "\n",
      "The drug targets Unknown, and its target pathway is also Unknown. Therefore, it is not possible to determine whether the drug will be effective on the cell line with the given mutations.\n",
      "\n",
      "It's important to note that drug sensitivity can be influenced by many factors, including the specific mutations present in the cell line, the expression levels of drug targets, and the presence of other genetic alterations that may affect drug response. Therefore, it's not always possible to predict drug sensitivity based solely on the mutations present in the cell line.\n",
      "\n",
      "In this case, further experiments or analysis would be needed to determine the drug sensitivity of BRYOSTATIN-1 on the cell line with the given mutations.\n"
     ]
    }
   ],
   "source": [
    "print(task1_data_70b.loc[182, 'prompt'])\n",
    "print(task1_data_70b.loc[182, 'output70']) ### Reasoning: the drug target and target pathway are unknown"
   ]
  },
  {
   "cell_type": "code",
   "execution_count": 20,
   "id": "5478ddec-cb62-4f59-a11a-7ee883e248b8",
   "metadata": {},
   "outputs": [
    {
     "name": "stdout",
     "output_type": "stream",
     "text": [
      "Think step by step and decide in a single word reflecting the drug sensitivity of the drug on the cell line with given mutations: [Sensitive/Resistant], [Reasoning].\n",
      "Drug and cell line mutations: \n",
      "The drug is JW-7-24-1. The drug SMILES structure is COC1=CC(=CC(=C1)C2=CC3=C4C(=CN=C3C=C2)C=CC(=O)N4C5=CC(=C(C=C5)N6CCNCC6)C(F)(F)F)OC. Drug target is LCK. Drug target pathway is Other, kinases.\n",
      "The mutations of the cell line are ASXL1, FLT3, MAP3K1, NOTCH1, TP53, U2AF1.\n",
      "Drug Sensitivity: ?\n",
      "Sensitive\n",
      "Resistant\n"
     ]
    },
    {
     "data": {
      "text/plain": [
       "'Based on the information provided, I would determine the drug sensitivity of JW-7-24-1 on the cell line as Resistant.\\n\\nThe drug targets LCK, which is a kinase that plays a role in the signaling pathways of T cells. The cell line has mutations in several genes that are involved in kinase signaling, including FLT3, MAP3K1, and NOTCH1. These mutations may confer resistance to the drug by altering the signaling pathways that LCK regulates. Additionally, the cell line has a mutation in TP53, which is a tumor suppressor gene that can regulate cell death and proliferation. Mutations in TP53 can also contribute to drug resistance.\\n\\nTherefore, based on the available information, it is likely that the cell line is resistant to JW-7-24-1.'"
      ]
     },
     "execution_count": 20,
     "metadata": {},
     "output_type": "execute_result"
    }
   ],
   "source": [
    "### (*) Redundancy of the answer (similarity between itself)\n",
    "print(task1_data_70b[\"prompt\"][0])\n",
    "print(task1_data_70b[\"answer\"][0])\n",
    "print(task1_data_70b[\"prediction\"][0])\n",
    "task1_data_70b['output70'][0]"
   ]
  },
  {
   "cell_type": "code",
   "execution_count": 21,
   "id": "29d221f3-da4d-4d64-bb61-fac32eaac5af",
   "metadata": {},
   "outputs": [
    {
     "name": "stdout",
     "output_type": "stream",
     "text": [
      "Based on the information provided, I would determine the drug sensitivity of JQ1- (+) as Resistant.\n",
      "\n",
      "The drug JQ1- (+) has a SMILES structure that suggests it is a bromodomain inhibitor, specifically targeting the BET protein family. However, the cell line mutations provided do not include any mutations in the BET protein family or their downstream targets. Instead, the mutations are scattered across various genes, including ALK, AR, ASXL1, ATR, BRCA2, CSF1R, KDM5C, MLL, MUTYH, SMARCA4, and TP53.\n",
      "\n",
      "Given that the drug target is Unknown and the drug target pathway is Unknown, it is difficult to determine whether the drug would be effective against the cell line. However, based on the lack of mutations in the BET protein family or their downstream targets, it is likely that the drug would not be effective against the cell line, and therefore, I would classify the drug sensitivity as Resistant.\n",
      "Based on the information provided, I would determine the drug sensitivity of JNJ-38877605 on the cell line as Resistant.\n",
      "\n",
      "The drug's target pathway is Unknown, and it has a SMILES structure that does not match any known drug targets. Additionally, the cell line has several mutations in genes that are involved in various signaling pathways, including ARAF, BTK, EGFR, MTOR, and TP53. These mutations may confer resistance to the drug, as they can potentially disrupt the drug's mechanism of action or alter the cell's response to the drug. Therefore, it is likely that the drug will not be effective against the cell line.\n",
      "Based on the information provided, I would determine the drug sensitivity of T-0901317 on the cell line as Resistant.\n",
      "\n",
      "The drug's target pathway is Unknown, and it has a SMILES structure that suggests it is a sulfonamide-containing compound. Sulfonamides are known to have a wide range of biological activities, but their specific mechanism of action is often dependent on the target protein. In this case, the drug's target is Unknown, which suggests that its mechanism of action may not be well understood.\n",
      "\n",
      "The cell line has a number of mutations in genes that are involved in various signaling pathways, including ARAF, BTK, DOT1L, EGFR, ETV5, FLT1, MTOR, NPM1, SMARCA4, and TP53. Some of these genes are known to be involved in resistance to certain drugs, such as EGFR and MTOR.\n",
      "\n",
      "Given the lack of information on the drug's target and mechanism of action, and the presence of mutations in genes that can confer drug resistance, it is likely that T-0901317 would be resistant to the cell line. Therefore, the drug sensitivity of T-0901317 on the cell line would be Resistant.\n"
     ]
    }
   ],
   "source": [
    "for reasoning in task1_data_70b['output70'].values:\n",
    "    if \"smiles\" in reasoning.lower():\n",
    "        print(reasoning)"
   ]
  },
  {
   "cell_type": "code",
   "execution_count": 22,
   "id": "328c993c-b50c-4249-9f46-d702c55ed3b7",
   "metadata": {},
   "outputs": [
    {
     "name": "stdout",
     "output_type": "stream",
     "text": [
      "Average Sentence Similarity (excluding self-similarities): 0.18\n",
      "Higher values indicate more redundancy within the paragraph.\n"
     ]
    },
    {
     "name": "stderr",
     "output_type": "stream",
     "text": [
      "[nltk_data] Downloading package punkt to /home/yingfei/nltk_data...\n",
      "[nltk_data]   Package punkt is already up-to-date!\n"
     ]
    }
   ],
   "source": [
    "import numpy as np\n",
    "from sklearn.feature_extraction.text import TfidfVectorizer\n",
    "from sklearn.metrics.pairwise import cosine_similarity\n",
    "import nltk\n",
    "from nltk.tokenize import sent_tokenize\n",
    "\n",
    "nltk.download('punkt')  # Download the tokenizer model if you haven't already\n",
    "\n",
    "# Example paragraph\n",
    "paragraph = task1_data_70b['output70'][0]\n",
    "\n",
    "# Tokenize the paragraph into sentences\n",
    "sentences = sent_tokenize(paragraph)\n",
    "\n",
    "# Initialize a TF-IDF Vectorizer\n",
    "vectorizer = TfidfVectorizer()\n",
    "\n",
    "# Transform sentences to TF-IDF vectors\n",
    "tfidf_matrix = vectorizer.fit_transform(sentences)\n",
    "\n",
    "# Calculate pairwise cosine similarities (excluding self-similarities)\n",
    "similarity_matrix = cosine_similarity(tfidf_matrix, tfidf_matrix)\n",
    "\n",
    "# Mask self-similarities by filling diagonal with 0\n",
    "np.fill_diagonal(similarity_matrix, 0)\n",
    "\n",
    "# Calculate average similarity (excluding self-similarities)\n",
    "average_similarity = np.mean(similarity_matrix[similarity_matrix > 0])\n",
    "\n",
    "print(f\"Average Sentence Similarity (excluding self-similarities): {average_similarity:.2f}\")\n",
    "print(\"Higher values indicate more redundancy within the paragraph.\")\n"
   ]
  },
  {
   "cell_type": "code",
   "execution_count": 23,
   "id": "47bd5b01-6851-4a5f-b676-2e2b471a6803",
   "metadata": {},
   "outputs": [
    {
     "name": "stderr",
     "output_type": "stream",
     "text": [
      "/home/yingfei/llm_data/llm_env/lib/python3.9/site-packages/numpy/core/fromnumeric.py:3504: RuntimeWarning: Mean of empty slice.\n",
      "  return _methods._mean(a, axis=axis, dtype=dtype,\n",
      "/home/yingfei/llm_data/llm_env/lib/python3.9/site-packages/numpy/core/_methods.py:129: RuntimeWarning: invalid value encountered in scalar divide\n",
      "  ret = ret.dtype.type(ret / rcount)\n"
     ]
    },
    {
     "data": {
      "text/plain": [
       "count    148.000000\n",
       "mean       0.230831\n",
       "std        0.050149\n",
       "min        0.133783\n",
       "25%        0.194899\n",
       "50%        0.225092\n",
       "75%        0.262592\n",
       "max        0.438274\n",
       "Name: reason_sim, dtype: float64"
      ]
     },
     "execution_count": 23,
     "metadata": {},
     "output_type": "execute_result"
    }
   ],
   "source": [
    "vectorizer = TfidfVectorizer()\n",
    "\n",
    "def reason_sim(reasoning):\n",
    "    sentences = sent_tokenize(reasoning)\n",
    "    tfidf_matrix = vectorizer.fit_transform(sentences)\n",
    "    similarity_matrix = cosine_similarity(tfidf_matrix, tfidf_matrix)\n",
    "    np.fill_diagonal(similarity_matrix, 0)\n",
    "    average_similarity = np.mean(similarity_matrix[similarity_matrix > 0])\n",
    "    return average_similarity\n",
    "\n",
    "task1_data_70b['reason_sim'] = task1_data_70b['output70'].apply(reason_sim)\n",
    "task1_data_70b['reason_sim'].describe()"
   ]
  },
  {
   "cell_type": "code",
   "execution_count": 24,
   "id": "4194988e-9e95-47cc-a7e4-d94946fe8ae3",
   "metadata": {},
   "outputs": [
    {
     "data": {
      "text/plain": [
       "prediction\n",
       "Resistant    20\n",
       "Sensitive    16\n",
       "Unknown       1\n",
       "Name: count, dtype: int64"
      ]
     },
     "execution_count": 24,
     "metadata": {},
     "output_type": "execute_result"
    }
   ],
   "source": [
    "task1_data_70b.loc[task1_data_70b['reason_sim']> 0.262592, 'prediction'].value_counts()"
   ]
  },
  {
   "cell_type": "code",
   "execution_count": 25,
   "id": "aae3c5b4-23fa-4abd-87d0-b79f4406e90a",
   "metadata": {},
   "outputs": [
    {
     "data": {
      "text/plain": [
       "prediction\n",
       "Resistant    24\n",
       "Sensitive    13\n",
       "Name: count, dtype: int64"
      ]
     },
     "execution_count": 25,
     "metadata": {},
     "output_type": "execute_result"
    }
   ],
   "source": [
    "task1_data_70b.loc[task1_data_70b['reason_sim']< 0.194899, 'prediction'].value_counts()"
   ]
  },
  {
   "cell_type": "code",
   "execution_count": 26,
   "id": "9b736b65-5f41-4ec8-8b8f-6e57df85422a",
   "metadata": {},
   "outputs": [
    {
     "data": {
      "text/html": [
       "<div>\n",
       "<style scoped>\n",
       "    .dataframe tbody tr th:only-of-type {\n",
       "        vertical-align: middle;\n",
       "    }\n",
       "\n",
       "    .dataframe tbody tr th {\n",
       "        vertical-align: top;\n",
       "    }\n",
       "\n",
       "    .dataframe thead th {\n",
       "        text-align: right;\n",
       "    }\n",
       "</style>\n",
       "<table border=\"1\" class=\"dataframe\">\n",
       "  <thead>\n",
       "    <tr style=\"text-align: right;\">\n",
       "      <th></th>\n",
       "      <th>cell_id</th>\n",
       "      <th>prompt</th>\n",
       "      <th>answer</th>\n",
       "      <th>output70</th>\n",
       "      <th>prediction</th>\n",
       "      <th>reason_sim</th>\n",
       "    </tr>\n",
       "  </thead>\n",
       "  <tbody>\n",
       "    <tr>\n",
       "      <th>44</th>\n",
       "      <td>ACH-000021</td>\n",
       "      <td>Think step by step and decide in a single word...</td>\n",
       "      <td>Sensitive</td>\n",
       "      <td>Based on the information provided, my answer f...</td>\n",
       "      <td>Sensitive</td>\n",
       "      <td>0.438274</td>\n",
       "    </tr>\n",
       "    <tr>\n",
       "      <th>91</th>\n",
       "      <td>ACH-000045</td>\n",
       "      <td>Think step by step and decide in a single word...</td>\n",
       "      <td>Resistant</td>\n",
       "      <td>Based on the information provided, the drug se...</td>\n",
       "      <td>Sensitive</td>\n",
       "      <td>0.430026</td>\n",
       "    </tr>\n",
       "  </tbody>\n",
       "</table>\n",
       "</div>"
      ],
      "text/plain": [
       "       cell_id                                             prompt     answer  \\\n",
       "44  ACH-000021  Think step by step and decide in a single word...  Sensitive   \n",
       "91  ACH-000045  Think step by step and decide in a single word...  Resistant   \n",
       "\n",
       "                                             output70 prediction  reason_sim  \n",
       "44  Based on the information provided, my answer f...  Sensitive    0.438274  \n",
       "91  Based on the information provided, the drug se...  Sensitive    0.430026  "
      ]
     },
     "execution_count": 26,
     "metadata": {},
     "output_type": "execute_result"
    }
   ],
   "source": [
    "task1_data_70b.loc[task1_data_70b['reason_sim']> 0.4]"
   ]
  },
  {
   "cell_type": "code",
   "execution_count": 27,
   "id": "9d58dd79-0c4c-4935-9132-9d7f94dd0418",
   "metadata": {},
   "outputs": [
    {
     "data": {
      "text/plain": [
       "array(['Based on the information provided, my answer for the drug sensitivity of YK-4-279 on the given cell line would be:\\n\\nSensitive\\n\\nThe drug targets RNA helicase A, which is not listed as a mutated gene in the cell line. Therefore, it is likely that the drug will be effective against the cell line, resulting in sensitive drug sensitivity.',\n",
       "       \"Based on the information provided, the drug sensitivity of QUIZARTINIB on the cell line with mutations in ARFRP1, IRS2, NBN, and WHSC1L1 would be Sensitive.\\n\\nThe drug targets the FLT3 receptor, which is mutated in the cell line, and the drug's mechanism of action is to inhibit the activity of this receptor. Therefore, it is likely that the drug will be effective in inhibiting the activity of the mutated FLT3 receptor in this cell line, leading to sensitive drug sensitivity.\"],\n",
       "      dtype=object)"
      ]
     },
     "execution_count": 27,
     "metadata": {},
     "output_type": "execute_result"
    }
   ],
   "source": [
    "task1_data_70b.loc[task1_data_70b['reason_sim']> 0.4].output70.values"
   ]
  },
  {
   "cell_type": "code",
   "execution_count": null,
   "id": "32e3a3ea-ed67-4351-a716-0406d06827cb",
   "metadata": {},
   "outputs": [],
   "source": []
  },
  {
   "cell_type": "code",
   "execution_count": 28,
   "id": "9c1b1c1d-1ca0-4472-8fbc-23cf0131afb8",
   "metadata": {},
   "outputs": [
    {
     "name": "stdout",
     "output_type": "stream",
     "text": [
      "Similarity Score: 0.3755198065605341\n"
     ]
    }
   ],
   "source": [
    "### (*) Similarity of the answer with prompt (similarity between reasoning and prompt)\n",
    "from sklearn.feature_extraction.text import TfidfVectorizer\n",
    "from sklearn.metrics.pairwise import cosine_similarity\n",
    "\n",
    "paragraph1 = task1_data_70b[\"prompt\"][0].split(\"Drug and cell line mutations:\")[1].split(\"Drug Sensitivity:\")[0]\n",
    "paragraph2 = task1_data_70b['output70'][0]\n",
    "\n",
    "# Initialize a TF-IDF Vectorizer\n",
    "vectorizer = TfidfVectorizer()\n",
    "\n",
    "# Fit and transform the paragraphs\n",
    "tfidf_matrix = vectorizer.fit_transform([paragraph1, paragraph2])\n",
    "\n",
    "# Calculate the cosine similarity\n",
    "similarity_matrix = cosine_similarity(tfidf_matrix[0:1], tfidf_matrix[1:2])\n",
    "\n",
    "# The similarity score\n",
    "similarity_score = similarity_matrix[0][0]\n",
    "\n",
    "print(f\"Similarity Score: {similarity_score}\")"
   ]
  },
  {
   "cell_type": "code",
   "execution_count": 29,
   "id": "ae10a223-b3e4-4f48-a02e-56d5c07ce218",
   "metadata": {},
   "outputs": [
    {
     "data": {
      "text/plain": [
       "count    189.000000\n",
       "mean       0.428793\n",
       "std        0.075744\n",
       "min        0.286507\n",
       "25%        0.362309\n",
       "50%        0.429722\n",
       "75%        0.483506\n",
       "max        0.638938\n",
       "Name: prompt_sim, dtype: float64"
      ]
     },
     "execution_count": 29,
     "metadata": {},
     "output_type": "execute_result"
    }
   ],
   "source": [
    "def prompt_sim(row):\n",
    "    paragraph1 = row[\"prompt\"].split(\"Drug and cell line mutations:\")[1].split(\"Drug Sensitivity:\")[0]\n",
    "    paragraph2 = row['output70']    \n",
    "    if len(paragraph2) < 10:\n",
    "        return np.nan\n",
    "    tfidf_matrix = vectorizer.fit_transform([paragraph1, paragraph2])\n",
    "    similarity_matrix = cosine_similarity(tfidf_matrix[0:1], tfidf_matrix[1:2])\n",
    "    similarity_score = similarity_matrix[0][0]\n",
    "    return similarity_score\n",
    "\n",
    "task1_data_70b['prompt_sim'] = task1_data_70b.apply(prompt_sim, axis = 1)\n",
    "task1_data_70b['prompt_sim'].describe()"
   ]
  },
  {
   "cell_type": "code",
   "execution_count": 30,
   "id": "1de6698b-9c2a-4ff3-bdd9-1b747dcc276c",
   "metadata": {},
   "outputs": [
    {
     "data": {
      "text/plain": [
       "prediction\n",
       "Resistant    29\n",
       "Sensitive    19\n",
       "Name: count, dtype: int64"
      ]
     },
     "execution_count": 30,
     "metadata": {},
     "output_type": "execute_result"
    }
   ],
   "source": [
    "task1_data_70b.loc[task1_data_70b['prompt_sim']> 0.483506, 'prediction'].value_counts()"
   ]
  },
  {
   "cell_type": "code",
   "execution_count": 31,
   "id": "6d831484-c2da-47b0-8148-363b9a4965e0",
   "metadata": {},
   "outputs": [
    {
     "data": {
      "text/plain": [
       "prediction\n",
       "Sensitive    32\n",
       "Resistant    14\n",
       "Unknown       1\n",
       "Name: count, dtype: int64"
      ]
     },
     "execution_count": 31,
     "metadata": {},
     "output_type": "execute_result"
    }
   ],
   "source": [
    "task1_data_70b.loc[task1_data_70b['prompt_sim']< 0.362309, 'prediction'].value_counts()"
   ]
  },
  {
   "cell_type": "code",
   "execution_count": 32,
   "id": "01290df6-6402-46ee-b8e0-79e90730eef6",
   "metadata": {},
   "outputs": [
    {
     "data": {
      "text/html": [
       "<div>\n",
       "<style scoped>\n",
       "    .dataframe tbody tr th:only-of-type {\n",
       "        vertical-align: middle;\n",
       "    }\n",
       "\n",
       "    .dataframe tbody tr th {\n",
       "        vertical-align: top;\n",
       "    }\n",
       "\n",
       "    .dataframe thead th {\n",
       "        text-align: right;\n",
       "    }\n",
       "</style>\n",
       "<table border=\"1\" class=\"dataframe\">\n",
       "  <thead>\n",
       "    <tr style=\"text-align: right;\">\n",
       "      <th></th>\n",
       "      <th>cell_id</th>\n",
       "      <th>prompt</th>\n",
       "      <th>answer</th>\n",
       "      <th>output70</th>\n",
       "      <th>prediction</th>\n",
       "      <th>reason_sim</th>\n",
       "      <th>prompt_sim</th>\n",
       "    </tr>\n",
       "  </thead>\n",
       "  <tbody>\n",
       "    <tr>\n",
       "      <th>164</th>\n",
       "      <td>ACH-000105</td>\n",
       "      <td>Think step by step and decide in a single word...</td>\n",
       "      <td>Resistant</td>\n",
       "      <td>Based on the information provided, the drug se...</td>\n",
       "      <td>Sensitive</td>\n",
       "      <td>0.309114</td>\n",
       "      <td>0.607228</td>\n",
       "    </tr>\n",
       "    <tr>\n",
       "      <th>169</th>\n",
       "      <td>ACH-000105</td>\n",
       "      <td>Think step by step and decide in a single word...</td>\n",
       "      <td>Sensitive</td>\n",
       "      <td>Based on the information provided, I would det...</td>\n",
       "      <td>Resistant</td>\n",
       "      <td>0.223264</td>\n",
       "      <td>0.638938</td>\n",
       "    </tr>\n",
       "  </tbody>\n",
       "</table>\n",
       "</div>"
      ],
      "text/plain": [
       "        cell_id                                             prompt     answer  \\\n",
       "164  ACH-000105  Think step by step and decide in a single word...  Resistant   \n",
       "169  ACH-000105  Think step by step and decide in a single word...  Sensitive   \n",
       "\n",
       "                                              output70 prediction  reason_sim  \\\n",
       "164  Based on the information provided, the drug se...  Sensitive    0.309114   \n",
       "169  Based on the information provided, I would det...  Resistant    0.223264   \n",
       "\n",
       "     prompt_sim  \n",
       "164    0.607228  \n",
       "169    0.638938  "
      ]
     },
     "execution_count": 32,
     "metadata": {},
     "output_type": "execute_result"
    }
   ],
   "source": [
    "task1_data_70b.loc[task1_data_70b['prompt_sim']> 0.6]"
   ]
  },
  {
   "cell_type": "code",
   "execution_count": 33,
   "id": "4dc4a09d-4447-497b-97f9-918a2cae55ec",
   "metadata": {},
   "outputs": [
    {
     "data": {
      "text/plain": [
       "array([\"Based on the information provided, the drug sensitivity of GEFITINIB on the cell line is Sensitive.\\n\\nThe drug targets EGFR, which is mutated in the cell line, and the drug's target pathway is EGFR signaling. The presence of the mutation in the EGFR gene suggests that the cell line is likely to be sensitive to the drug. Therefore, the drug sensitivity is labeled as Sensitive.\",\n",
       "       'Based on the information provided, I would determine the drug sensitivity of DMOG on the cell line as Resistant.\\n\\nThe drug target of DMOG is HIF-PH, which is involved in the metabolism pathway. The cell line has mutations in genes such as ERBB4, GNAS, NOTCH1, SDHA, SPEN, and WT1, which are not directly related to the HIF-PH pathway. Therefore, it is likely that the cell line is resistant to DMOG treatment.'],\n",
       "      dtype=object)"
      ]
     },
     "execution_count": 33,
     "metadata": {},
     "output_type": "execute_result"
    }
   ],
   "source": [
    "task1_data_70b.loc[task1_data_70b['prompt_sim']> 0.6, 'output70'].values"
   ]
  },
  {
   "cell_type": "code",
   "execution_count": 34,
   "id": "904490b2-dad8-48c7-8398-cdf752433564",
   "metadata": {},
   "outputs": [
    {
     "data": {
      "text/plain": [
       "(200, 7)"
      ]
     },
     "execution_count": 34,
     "metadata": {},
     "output_type": "execute_result"
    }
   ],
   "source": [
    "task1_data_70b.shape"
   ]
  }
 ],
 "metadata": {
  "kernelspec": {
   "display_name": "llm_env",
   "language": "python",
   "name": "llm_env"
  },
  "language_info": {
   "codemirror_mode": {
    "name": "ipython",
    "version": 3
   },
   "file_extension": ".py",
   "mimetype": "text/x-python",
   "name": "python",
   "nbconvert_exporter": "python",
   "pygments_lexer": "ipython3",
   "version": "3.9.12"
  }
 },
 "nbformat": 4,
 "nbformat_minor": 5
}
