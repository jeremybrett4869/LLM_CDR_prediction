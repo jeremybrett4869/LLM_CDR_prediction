{
 "cells": [
  {
   "cell_type": "code",
   "execution_count": 1,
   "id": "4979f521",
   "metadata": {},
   "outputs": [
    {
     "name": "stdout",
     "output_type": "stream",
     "text": [
      "(140, 4)\n",
      "(174, 4)\n"
     ]
    }
   ],
   "source": [
    "import pandas as pd\n",
    "\n",
    "task1_data = pd.read_csv(\"/data/yingfei/cancer_data/llm_prompt_data/llm_inference_data/sens_diff_70b_inf.csv\")\n",
    "task2_data = pd.read_csv(\"/data/yingfei/cancer_data/llm_prompt_data/llm_inference_data/bd_diff_70b_inf.csv\")\n",
    "print(task1_data.shape)\n",
    "print(task2_data.shape)"
   ]
  },
  {
   "cell_type": "code",
   "execution_count": 2,
   "id": "5338d906",
   "metadata": {},
   "outputs": [
    {
     "data": {
      "text/html": [
       "<div>\n",
       "<style scoped>\n",
       "    .dataframe tbody tr th:only-of-type {\n",
       "        vertical-align: middle;\n",
       "    }\n",
       "\n",
       "    .dataframe tbody tr th {\n",
       "        vertical-align: top;\n",
       "    }\n",
       "\n",
       "    .dataframe thead th {\n",
       "        text-align: right;\n",
       "    }\n",
       "</style>\n",
       "<table border=\"1\" class=\"dataframe\">\n",
       "  <thead>\n",
       "    <tr style=\"text-align: right;\">\n",
       "      <th></th>\n",
       "      <th>cell_id</th>\n",
       "      <th>prompt</th>\n",
       "      <th>answer</th>\n",
       "      <th>output_70</th>\n",
       "    </tr>\n",
       "  </thead>\n",
       "  <tbody>\n",
       "    <tr>\n",
       "      <th>0</th>\n",
       "      <td>ACH-000001</td>\n",
       "      <td>Think step by step and decide in a single word...</td>\n",
       "      <td>Sensitive</td>\n",
       "      <td>Reasoning:?\\n\\nAnswer: Sensitive.\\nReasoning: ...</td>\n",
       "    </tr>\n",
       "    <tr>\n",
       "      <th>1</th>\n",
       "      <td>ACH-000001</td>\n",
       "      <td>Think step by step and decide in a single word...</td>\n",
       "      <td>Resistant</td>\n",
       "      <td>Reasoning:?\\n\\nAnswer: Sensitive.\\nReasoning: ...</td>\n",
       "    </tr>\n",
       "    <tr>\n",
       "      <th>2</th>\n",
       "      <td>ACH-000001</td>\n",
       "      <td>Think step by step and decide in a single word...</td>\n",
       "      <td>Sensitive</td>\n",
       "      <td>Reasoning:?\\n\\nAnswer: Sensitive.\\nReasoning: ...</td>\n",
       "    </tr>\n",
       "    <tr>\n",
       "      <th>3</th>\n",
       "      <td>ACH-000001</td>\n",
       "      <td>Think step by step and decide in a single word...</td>\n",
       "      <td>Resistant</td>\n",
       "      <td>Reasoning:?\\n\\nAnswer: Sensitive.\\nReasoning: ...</td>\n",
       "    </tr>\n",
       "    <tr>\n",
       "      <th>4</th>\n",
       "      <td>ACH-000001</td>\n",
       "      <td>Think step by step and decide in a single word...</td>\n",
       "      <td>Resistant</td>\n",
       "      <td>Reasoning:?\\n\\nAnswer: Sensitive.\\nReasoning: ...</td>\n",
       "    </tr>\n",
       "  </tbody>\n",
       "</table>\n",
       "</div>"
      ],
      "text/plain": [
       "      cell_id                                             prompt     answer  \\\n",
       "0  ACH-000001  Think step by step and decide in a single word...  Sensitive   \n",
       "1  ACH-000001  Think step by step and decide in a single word...  Resistant   \n",
       "2  ACH-000001  Think step by step and decide in a single word...  Sensitive   \n",
       "3  ACH-000001  Think step by step and decide in a single word...  Resistant   \n",
       "4  ACH-000001  Think step by step and decide in a single word...  Resistant   \n",
       "\n",
       "                                           output_70  \n",
       "0  Reasoning:?\\n\\nAnswer: Sensitive.\\nReasoning: ...  \n",
       "1  Reasoning:?\\n\\nAnswer: Sensitive.\\nReasoning: ...  \n",
       "2  Reasoning:?\\n\\nAnswer: Sensitive.\\nReasoning: ...  \n",
       "3  Reasoning:?\\n\\nAnswer: Sensitive.\\nReasoning: ...  \n",
       "4  Reasoning:?\\n\\nAnswer: Sensitive.\\nReasoning: ...  "
      ]
     },
     "execution_count": 2,
     "metadata": {},
     "output_type": "execute_result"
    }
   ],
   "source": [
    "### Task 1\n",
    "task1_data.head()"
   ]
  },
  {
   "cell_type": "code",
   "execution_count": 3,
   "id": "497dcac4",
   "metadata": {},
   "outputs": [
    {
     "data": {
      "text/plain": [
       "array(['Sensitive'], dtype=object)"
      ]
     },
     "execution_count": 3,
     "metadata": {},
     "output_type": "execute_result"
    }
   ],
   "source": [
    "task1_data['prediction'] = task1_data.output_70.apply(lambda x: x.split(\"Answer:\")[1].split(\"Reasoning:\")[0][:-2][1:])\n",
    "task1_data.prediction.unique() # all sensitive"
   ]
  },
  {
   "cell_type": "code",
   "execution_count": 4,
   "id": "183ff0fd",
   "metadata": {},
   "outputs": [
    {
     "name": "stdout",
     "output_type": "stream",
     "text": [
      "The drug JW-7-24-1 is a potent and selective LCK inhibitor. The cell line has mutations in NOTCH1, NOTCH3, PIK3R1, PPP2R1A, TP53, TSC2, and WHSC1L1. These mutations are not directly related to the drug target LCK, and therefore, the drug is expected to be effective against the cell line. Additionally, the drug has been shown to be effective against various types of cancer, including those with mutations in the PI3K/Akt pathway, which is downstream of LCK. Therefore, the drug is likely to be sensitive to the cell line with these mutations.\n",
      "The drug KIN001-260 targets CDC7, which is involved in DNA replication. The mutations in the cell line, NOTCH1, NOTCH3, PIK3R1, PPP2R1A, TP53, TSC2, and WHSC1L1, do not directly affect the DNA replication pathway. Therefore, the drug should still be effective in inhibiting CDC7 and preventing DNA replication in this cell line, making it sensitive to the drug.\n",
      "The drug NSC-87877 is a SHP-1 and SHP-2 inhibitor, which targets the PI3K/Akt signaling pathway. The mutations in the cell line, NOTCH1, NOTCH3, PIK3R1, PPP2R1A, TP53, TSC2, and WHSC1L1, are all involved in the PI3K/Akt signaling pathway. Inhibition of SHP-1 and SHP-2 by NSC-87877 would likely disrupt the regulation of the PI3K/Akt pathway, leading to increased sensitivity of the cell line to the drug. Therefore, the drug sensitivity of NSC-87877 on the cell line with these mutations is predicted to be Sensitive.\n"
     ]
    }
   ],
   "source": [
    "task1_data['reasoning'] = task1_data.output_70.apply(lambda x: x.split(\"\\nReasoning:\")[1][1:] if x.split(\"\\nReasoning:\")[1][0] == \" \" else x.split(\"\\nReasoning:\")[1])\n",
    "for i in range(3):\n",
    "    print(task1_data.reasoning.unique()[i])"
   ]
  },
  {
   "cell_type": "code",
   "execution_count": 5,
   "id": "1f364a9e",
   "metadata": {},
   "outputs": [
    {
     "name": "stdout",
     "output_type": "stream",
     "text": [
      "Think step by step and decide in a single word reflecting the drug sensitivity of the drug on the cell line with given mutations: [Sensitive/Resistant], [Reasoning].\n",
      "Drug and cell line mutations: \n",
      "The drug is JW-7-24-1. The drug SMILES structure is COC1=CC(=CC(=C1)C2=CC3=C4C(=CN=C3C=C2)C=CC(=O)N4C5=CC(=C(C=C5)N6CCNCC6)C(F)(F)F)OC. Drug target is LCK. Drug target pathway is Other, kinases.\n",
      "The mutations of the cell line are NOTCH1, NOTCH3, PIK3R1, PPP2R1A, TP53, TSC2, WHSC1L1.\n",
      "Drug Sensitivity: ?\n",
      "Sensitive\n",
      "Sensitive\n"
     ]
    },
    {
     "data": {
      "text/plain": [
       "'The drug JW-7-24-1 is a potent and selective LCK inhibitor. The cell line has mutations in NOTCH1, NOTCH3, PIK3R1, PPP2R1A, TP53, TSC2, and WHSC1L1. These mutations are not directly related to the drug target LCK, and therefore, the drug is expected to be effective against the cell line. Additionally, the drug has been shown to be effective against various types of cancer, including those with mutations in the PI3K/Akt pathway, which is downstream of LCK. Therefore, the drug is likely to be sensitive to the cell line with these mutations.'"
      ]
     },
     "execution_count": 5,
     "metadata": {},
     "output_type": "execute_result"
    }
   ],
   "source": [
    "print(task1_data[\"prompt\"][0])\n",
    "print(task1_data[\"answer\"][0])\n",
    "print(task1_data[\"prediction\"][0])\n",
    "task1_data['reasoning'][0]"
   ]
  },
  {
   "cell_type": "code",
   "execution_count": 15,
   "id": "1e748e2d-6034-4c46-b8dd-47fcdb6be280",
   "metadata": {},
   "outputs": [
    {
     "data": {
      "text/plain": [
       "0.36428571428571427"
      ]
     },
     "execution_count": 15,
     "metadata": {},
     "output_type": "execute_result"
    }
   ],
   "source": [
    "from sklearn.metrics import accuracy_score, confusion_matrix, precision_score, recall_score, f1_score\n",
    "accuracy_score(task1_data['answer'], task1_data['prediction'])"
   ]
  },
  {
   "cell_type": "code",
   "execution_count": 22,
   "id": "9bc7d199-d4ed-4247-b3b8-fa16bbfb7725",
   "metadata": {},
   "outputs": [
    {
     "data": {
      "text/plain": [
       "array([[51,  0],\n",
       "       [89,  0]])"
      ]
     },
     "execution_count": 22,
     "metadata": {},
     "output_type": "execute_result"
    }
   ],
   "source": [
    "confusion_matrix(task1_data['answer'], task1_data['prediction'], labels =  [\"Sensitive\", \"Resistant\"])"
   ]
  },
  {
   "cell_type": "code",
   "execution_count": 23,
   "id": "80ccc8df-2742-4f42-94da-ae5c51c12043",
   "metadata": {},
   "outputs": [
    {
     "data": {
      "text/plain": [
       "0.36428571428571427"
      ]
     },
     "execution_count": 23,
     "metadata": {},
     "output_type": "execute_result"
    }
   ],
   "source": [
    "precision_score(task1_data['answer'], task1_data['prediction'], pos_label=\"Sensitive\")"
   ]
  },
  {
   "cell_type": "code",
   "execution_count": 24,
   "id": "9735b80e-712a-4799-b473-042025adfffe",
   "metadata": {},
   "outputs": [
    {
     "data": {
      "text/plain": [
       "1.0"
      ]
     },
     "execution_count": 24,
     "metadata": {},
     "output_type": "execute_result"
    }
   ],
   "source": [
    "recall_score(task1_data['answer'], task1_data['prediction'], pos_label=\"Sensitive\")"
   ]
  },
  {
   "cell_type": "code",
   "execution_count": 25,
   "id": "0a573d06-b2c6-4604-b59c-768230fc46fc",
   "metadata": {},
   "outputs": [
    {
     "data": {
      "text/plain": [
       "0.5340314136125655"
      ]
     },
     "execution_count": 25,
     "metadata": {},
     "output_type": "execute_result"
    }
   ],
   "source": [
    "f1_score(task1_data['answer'], task1_data['prediction'], pos_label=\"Sensitive\")"
   ]
  },
  {
   "cell_type": "code",
   "execution_count": 11,
   "id": "92b484a5",
   "metadata": {},
   "outputs": [
    {
     "data": {
      "text/html": [
       "<div>\n",
       "<style scoped>\n",
       "    .dataframe tbody tr th:only-of-type {\n",
       "        vertical-align: middle;\n",
       "    }\n",
       "\n",
       "    .dataframe tbody tr th {\n",
       "        vertical-align: top;\n",
       "    }\n",
       "\n",
       "    .dataframe thead th {\n",
       "        text-align: right;\n",
       "    }\n",
       "</style>\n",
       "<table border=\"1\" class=\"dataframe\">\n",
       "  <thead>\n",
       "    <tr style=\"text-align: right;\">\n",
       "      <th></th>\n",
       "      <th>cell_id</th>\n",
       "      <th>prompt</th>\n",
       "      <th>answer</th>\n",
       "      <th>output_70</th>\n",
       "      <th>prediction</th>\n",
       "      <th>reasoning</th>\n",
       "    </tr>\n",
       "  </thead>\n",
       "  <tbody>\n",
       "    <tr>\n",
       "      <th>0</th>\n",
       "      <td>ACH-000001</td>\n",
       "      <td>Think step by step and decide in a single word...</td>\n",
       "      <td>Sensitive</td>\n",
       "      <td>Reasoning:?\\n\\nAnswer: Sensitive.\\nReasoning: ...</td>\n",
       "      <td>Sensitive</td>\n",
       "      <td>The drug JW-7-24-1 is a potent and selective L...</td>\n",
       "    </tr>\n",
       "    <tr>\n",
       "      <th>1</th>\n",
       "      <td>ACH-000001</td>\n",
       "      <td>Think step by step and decide in a single word...</td>\n",
       "      <td>Resistant</td>\n",
       "      <td>Reasoning:?\\n\\nAnswer: Sensitive.\\nReasoning: ...</td>\n",
       "      <td>Sensitive</td>\n",
       "      <td>The drug KIN001-260 targets CDC7, which is inv...</td>\n",
       "    </tr>\n",
       "    <tr>\n",
       "      <th>2</th>\n",
       "      <td>ACH-000001</td>\n",
       "      <td>Think step by step and decide in a single word...</td>\n",
       "      <td>Sensitive</td>\n",
       "      <td>Reasoning:?\\n\\nAnswer: Sensitive.\\nReasoning: ...</td>\n",
       "      <td>Sensitive</td>\n",
       "      <td>The drug NSC-87877 is a SHP-1 and SHP-2 inhibi...</td>\n",
       "    </tr>\n",
       "    <tr>\n",
       "      <th>3</th>\n",
       "      <td>ACH-000001</td>\n",
       "      <td>Think step by step and decide in a single word...</td>\n",
       "      <td>Resistant</td>\n",
       "      <td>Reasoning:?\\n\\nAnswer: Sensitive.\\nReasoning: ...</td>\n",
       "      <td>Sensitive</td>\n",
       "      <td>The drug PLX-4720 is a BRAF inhibitor that tar...</td>\n",
       "    </tr>\n",
       "    <tr>\n",
       "      <th>4</th>\n",
       "      <td>ACH-000001</td>\n",
       "      <td>Think step by step and decide in a single word...</td>\n",
       "      <td>Resistant</td>\n",
       "      <td>Reasoning:?\\n\\nAnswer: Sensitive.\\nReasoning: ...</td>\n",
       "      <td>Sensitive</td>\n",
       "      <td>The drug ERK5-IN-1 is a BET inhibitor, which t...</td>\n",
       "    </tr>\n",
       "  </tbody>\n",
       "</table>\n",
       "</div>"
      ],
      "text/plain": [
       "      cell_id                                             prompt     answer  \\\n",
       "0  ACH-000001  Think step by step and decide in a single word...  Sensitive   \n",
       "1  ACH-000001  Think step by step and decide in a single word...  Resistant   \n",
       "2  ACH-000001  Think step by step and decide in a single word...  Sensitive   \n",
       "3  ACH-000001  Think step by step and decide in a single word...  Resistant   \n",
       "4  ACH-000001  Think step by step and decide in a single word...  Resistant   \n",
       "\n",
       "                                           output_70 prediction  \\\n",
       "0  Reasoning:?\\n\\nAnswer: Sensitive.\\nReasoning: ...  Sensitive   \n",
       "1  Reasoning:?\\n\\nAnswer: Sensitive.\\nReasoning: ...  Sensitive   \n",
       "2  Reasoning:?\\n\\nAnswer: Sensitive.\\nReasoning: ...  Sensitive   \n",
       "3  Reasoning:?\\n\\nAnswer: Sensitive.\\nReasoning: ...  Sensitive   \n",
       "4  Reasoning:?\\n\\nAnswer: Sensitive.\\nReasoning: ...  Sensitive   \n",
       "\n",
       "                                           reasoning  \n",
       "0  The drug JW-7-24-1 is a potent and selective L...  \n",
       "1  The drug KIN001-260 targets CDC7, which is inv...  \n",
       "2  The drug NSC-87877 is a SHP-1 and SHP-2 inhibi...  \n",
       "3  The drug PLX-4720 is a BRAF inhibitor that tar...  \n",
       "4  The drug ERK5-IN-1 is a BET inhibitor, which t...  "
      ]
     },
     "execution_count": 11,
     "metadata": {},
     "output_type": "execute_result"
    }
   ],
   "source": [
    "task1_data.head()"
   ]
  },
  {
   "cell_type": "code",
   "execution_count": 217,
   "id": "eb1ba5b3",
   "metadata": {},
   "outputs": [],
   "source": [
    "### Result analysis\n",
    "# 1) information used in the reasoning and its validity\n",
    "# 2) any difference in reasoning though everything predicted to be sensitive?\n",
    "# 3) repetitive information within the reasoning and with the prompt"
   ]
  },
  {
   "cell_type": "code",
   "execution_count": 12,
   "id": "1dedf562",
   "metadata": {},
   "outputs": [
    {
     "data": {
      "text/html": [
       "<div>\n",
       "<style scoped>\n",
       "    .dataframe tbody tr th:only-of-type {\n",
       "        vertical-align: middle;\n",
       "    }\n",
       "\n",
       "    .dataframe tbody tr th {\n",
       "        vertical-align: top;\n",
       "    }\n",
       "\n",
       "    .dataframe thead th {\n",
       "        text-align: right;\n",
       "    }\n",
       "</style>\n",
       "<table border=\"1\" class=\"dataframe\">\n",
       "  <thead>\n",
       "    <tr style=\"text-align: right;\">\n",
       "      <th></th>\n",
       "      <th>cell_id</th>\n",
       "      <th>prompt</th>\n",
       "      <th>answer</th>\n",
       "      <th>output_70</th>\n",
       "    </tr>\n",
       "  </thead>\n",
       "  <tbody>\n",
       "    <tr>\n",
       "      <th>0</th>\n",
       "      <td>ACH-000001</td>\n",
       "      <td>Think step by step and decide the best drug op...</td>\n",
       "      <td>KIN001-135</td>\n",
       "      <td>\\nReasoning:?\\n\\nAnswer: The best drug option ...</td>\n",
       "    </tr>\n",
       "    <tr>\n",
       "      <th>1</th>\n",
       "      <td>ACH-000002</td>\n",
       "      <td>Think step by step and decide the best drug op...</td>\n",
       "      <td>FORETINIB</td>\n",
       "      <td>\\nReasoning:?\\n\\nAnswer: The best drug option ...</td>\n",
       "    </tr>\n",
       "    <tr>\n",
       "      <th>2</th>\n",
       "      <td>ACH-000004</td>\n",
       "      <td>Think step by step and decide the best drug op...</td>\n",
       "      <td>WYE-125132</td>\n",
       "      <td>\\nReasoning:?\\n\\nAnswer: The best drug option ...</td>\n",
       "    </tr>\n",
       "    <tr>\n",
       "      <th>3</th>\n",
       "      <td>ACH-000007</td>\n",
       "      <td>Think step by step and decide the best drug op...</td>\n",
       "      <td>BORTEZOMIB</td>\n",
       "      <td>\\n\\nAnswer: The best drug option for the cell ...</td>\n",
       "    </tr>\n",
       "    <tr>\n",
       "      <th>4</th>\n",
       "      <td>ACH-000008</td>\n",
       "      <td>Think step by step and decide the best drug op...</td>\n",
       "      <td>KIN001-135</td>\n",
       "      <td>\\nReasoning:?\\n\\nAnswer: The best drug option ...</td>\n",
       "    </tr>\n",
       "  </tbody>\n",
       "</table>\n",
       "</div>"
      ],
      "text/plain": [
       "      cell_id                                             prompt      answer  \\\n",
       "0  ACH-000001  Think step by step and decide the best drug op...  KIN001-135   \n",
       "1  ACH-000002  Think step by step and decide the best drug op...   FORETINIB   \n",
       "2  ACH-000004  Think step by step and decide the best drug op...  WYE-125132   \n",
       "3  ACH-000007  Think step by step and decide the best drug op...  BORTEZOMIB   \n",
       "4  ACH-000008  Think step by step and decide the best drug op...  KIN001-135   \n",
       "\n",
       "                                           output_70  \n",
       "0  \\nReasoning:?\\n\\nAnswer: The best drug option ...  \n",
       "1  \\nReasoning:?\\n\\nAnswer: The best drug option ...  \n",
       "2  \\nReasoning:?\\n\\nAnswer: The best drug option ...  \n",
       "3  \\n\\nAnswer: The best drug option for the cell ...  \n",
       "4  \\nReasoning:?\\n\\nAnswer: The best drug option ...  "
      ]
     },
     "execution_count": 12,
     "metadata": {},
     "output_type": "execute_result"
    }
   ],
   "source": [
    "### Task 2\n",
    "task2_data.head()"
   ]
  },
  {
   "cell_type": "code",
   "execution_count": 13,
   "id": "6d76aac6",
   "metadata": {},
   "outputs": [
    {
     "data": {
      "text/plain": [
       "count    174.000000\n",
       "mean      69.574713\n",
       "std       22.313910\n",
       "min        4.000000\n",
       "25%       74.000000\n",
       "50%       76.000000\n",
       "75%       77.000000\n",
       "max      110.000000\n",
       "Name: prediction, dtype: float64"
      ]
     },
     "execution_count": 13,
     "metadata": {},
     "output_type": "execute_result"
    }
   ],
   "source": [
    "task2_data['prediction'] = task2_data.output_70.apply(lambda x: x.split(\"\\nAnswer:\")[1].split(\"Reasoning:\")[0][1:] \\\n",
    "                                                      if \"\\nAnswer:\" in x and \"Reasoning:\" in x.split(\"\\nAnswer:\")[1] else \\\n",
    "                                                      x.split(\"\\nAnswer:\")[1].split(\"The reasoning\")[0][:-1][1:] if \\\n",
    "                                                      \"\\nAnswer:\" in x and \"The reasoning\" in x.split(\"\\nAnswer:\")[1] else\\\n",
    "                                                      \"None\")\n",
    "task2_data['prediction'] = task2_data['prediction'].apply(lambda x: x.split(\"The reasoning\")[0][:-1] if \"The reasoning\" in x else x)\n",
    "task2_data.prediction.apply(lambda x: len(x)).describe()"
   ]
  },
  {
   "cell_type": "code",
   "execution_count": 201,
   "id": "20ba27de",
   "metadata": {},
   "outputs": [
    {
     "data": {
      "text/plain": [
       "count     174.000000\n",
       "mean     1323.563218\n",
       "std       670.456564\n",
       "min       445.000000\n",
       "25%       875.000000\n",
       "50%      1148.500000\n",
       "75%      1578.000000\n",
       "max      4238.000000\n",
       "Name: reasoning, dtype: float64"
      ]
     },
     "execution_count": 201,
     "metadata": {},
     "output_type": "execute_result"
    }
   ],
   "source": [
    "task2_data['reasoning'] = task2_data.output_70.apply(lambda x: x.split(\"The reasoning is as follows:\")[1][1:] if \"The reasoning is as follows:\" in x\\\n",
    "                                                     else x.split(\"The reasoning is that \")[1] if \"The reasoning is that \" in x else x.split(\"Reasoning:\\n\")[1] if \\\n",
    "                                                    \"Reasoning:\\n\" in x else x.split(\"Reasoning: \")[1])\n",
    "task2_data['reasoning'] = task2_data['reasoning'].apply(lambda x: x.replace(\"\\n\", \"\"))\n",
    "# extracted_reasoning = []\n",
    "\n",
    "# for item in task2_data['output_70']:\n",
    "#     if \"The reasoning is as follows:\" in item:\n",
    "#         reasoning = item.split(\"The reasoning is as follows:\")[1][1:]\n",
    "#     elif \"Reasoning: \" in item:\n",
    "#         reasoning = item.split(\"Reasoning: \")[1]\n",
    "#     elif \"Reasoning:\\n\" in item:\n",
    "#         reasoning = item.split(\"Reasoning:\\n\")[1]\n",
    "#     else:\n",
    "#         print(\"check\", item)\n",
    "#         reasoning = item\n",
    "#     extracted_reasoning.append(reasoning)\n",
    "# task2_data['reasoning'] = extracted_reasoning\n",
    "task2_data.reasoning.apply(lambda x: len(x)).describe()"
   ]
  },
  {
   "cell_type": "code",
   "execution_count": 203,
   "id": "00df2b10",
   "metadata": {},
   "outputs": [
    {
     "name": "stdout",
     "output_type": "stream",
     "text": [
      "GSK2606414 is a PERK inhibitor, which targets the PERK protein, a key regulator of the unfolded protein response (UPR) pathway. The UPR pathway is activated in response to cellular stress caused by the accumulation of misfolded proteins in the endoplasmic reticulum (ER). Activation of PERK leads to the phosphorylation and inhibition of the translation initiation factor eIF2α, which can result in the inhibition of protein synthesis and the activation of pro-apoptotic pathways.The cell line with mutations in NOTCH1, NOTCH3, PIK3R1, PPP2R1A, TP53, TSC2, and WHSC1L1 is likely to have altered cellular signaling pathways, including the PI3K/AKT/mTOR pathway, which is downstream of NOTCH1 and PIK3R1. The inhibition of PERK by GSK2606414 may help to restore the balance of cellular signaling pathways and inhibit the growth of cancer cells.In addition, GSK2606414 has been shown to have synergistic effects with other cancer therapies, such as chemotherapy and targeted therapies, in preclinical studies. Therefore, GSK2606414 may be a promising drug option for the treatment of cancer with these mutations.In summary, GSK2606414 is a PERK inhibitor that targets the UPR pathway, which is likely to be activated in the cell line with the given mutations. The inhibition of PERK by GSK2606414 may help to restore the balance of cellular signaling pathways and inhibit the growth of cancer cells, making it a promising drug option for the treatment of cancer with these mutations.\n"
     ]
    },
    {
     "data": {
      "text/html": [
       "<div>\n",
       "<style scoped>\n",
       "    .dataframe tbody tr th:only-of-type {\n",
       "        vertical-align: middle;\n",
       "    }\n",
       "\n",
       "    .dataframe tbody tr th {\n",
       "        vertical-align: top;\n",
       "    }\n",
       "\n",
       "    .dataframe thead th {\n",
       "        text-align: right;\n",
       "    }\n",
       "</style>\n",
       "<table border=\"1\" class=\"dataframe\">\n",
       "  <thead>\n",
       "    <tr style=\"text-align: right;\">\n",
       "      <th></th>\n",
       "      <th>cell_id</th>\n",
       "      <th>prompt</th>\n",
       "      <th>answer</th>\n",
       "      <th>output_70</th>\n",
       "      <th>prediction</th>\n",
       "      <th>reasoning</th>\n",
       "    </tr>\n",
       "  </thead>\n",
       "  <tbody>\n",
       "    <tr>\n",
       "      <th>0</th>\n",
       "      <td>ACH-000001</td>\n",
       "      <td>Think step by step and decide the best drug op...</td>\n",
       "      <td>KIN001-135</td>\n",
       "      <td>\\nReasoning:?\\n\\nAnswer: The best drug option ...</td>\n",
       "      <td>The best drug option for the cell line with gi...</td>\n",
       "      <td>GSK2606414 is a PERK inhibitor, which targets ...</td>\n",
       "    </tr>\n",
       "    <tr>\n",
       "      <th>1</th>\n",
       "      <td>ACH-000002</td>\n",
       "      <td>Think step by step and decide the best drug op...</td>\n",
       "      <td>FORETINIB</td>\n",
       "      <td>\\nReasoning:?\\n\\nAnswer: The best drug option ...</td>\n",
       "      <td>The best drug option for the cell line with gi...</td>\n",
       "      <td>The cell line has mutations in CDKN2A, CEBPA, ...</td>\n",
       "    </tr>\n",
       "    <tr>\n",
       "      <th>2</th>\n",
       "      <td>ACH-000004</td>\n",
       "      <td>Think step by step and decide the best drug op...</td>\n",
       "      <td>WYE-125132</td>\n",
       "      <td>\\nReasoning:?\\n\\nAnswer: The best drug option ...</td>\n",
       "      <td>The best drug option for the cell line with gi...</td>\n",
       "      <td>The cell line has mutations in FGFR3, POLE, TP...</td>\n",
       "    </tr>\n",
       "    <tr>\n",
       "      <th>3</th>\n",
       "      <td>ACH-000007</td>\n",
       "      <td>Think step by step and decide the best drug op...</td>\n",
       "      <td>BORTEZOMIB</td>\n",
       "      <td>\\n\\nAnswer: The best drug option for the cell ...</td>\n",
       "      <td>The best drug option for the cell line with th...</td>\n",
       "      <td>1. ALK, BRAF, KRAS, MET, NOTCH3, RAF1, and SOX...</td>\n",
       "    </tr>\n",
       "    <tr>\n",
       "      <th>4</th>\n",
       "      <td>ACH-000008</td>\n",
       "      <td>Think step by step and decide the best drug op...</td>\n",
       "      <td>KIN001-135</td>\n",
       "      <td>\\nReasoning:?\\n\\nAnswer: The best drug option ...</td>\n",
       "      <td>The best drug option for the cell line with gi...</td>\n",
       "      <td>The cell line has a mutation in BRAF, which is...</td>\n",
       "    </tr>\n",
       "  </tbody>\n",
       "</table>\n",
       "</div>"
      ],
      "text/plain": [
       "      cell_id                                             prompt      answer  \\\n",
       "0  ACH-000001  Think step by step and decide the best drug op...  KIN001-135   \n",
       "1  ACH-000002  Think step by step and decide the best drug op...   FORETINIB   \n",
       "2  ACH-000004  Think step by step and decide the best drug op...  WYE-125132   \n",
       "3  ACH-000007  Think step by step and decide the best drug op...  BORTEZOMIB   \n",
       "4  ACH-000008  Think step by step and decide the best drug op...  KIN001-135   \n",
       "\n",
       "                                           output_70  \\\n",
       "0  \\nReasoning:?\\n\\nAnswer: The best drug option ...   \n",
       "1  \\nReasoning:?\\n\\nAnswer: The best drug option ...   \n",
       "2  \\nReasoning:?\\n\\nAnswer: The best drug option ...   \n",
       "3  \\n\\nAnswer: The best drug option for the cell ...   \n",
       "4  \\nReasoning:?\\n\\nAnswer: The best drug option ...   \n",
       "\n",
       "                                          prediction  \\\n",
       "0  The best drug option for the cell line with gi...   \n",
       "1  The best drug option for the cell line with gi...   \n",
       "2  The best drug option for the cell line with gi...   \n",
       "3  The best drug option for the cell line with th...   \n",
       "4  The best drug option for the cell line with gi...   \n",
       "\n",
       "                                           reasoning  \n",
       "0  GSK2606414 is a PERK inhibitor, which targets ...  \n",
       "1  The cell line has mutations in CDKN2A, CEBPA, ...  \n",
       "2  The cell line has mutations in FGFR3, POLE, TP...  \n",
       "3  1. ALK, BRAF, KRAS, MET, NOTCH3, RAF1, and SOX...  \n",
       "4  The cell line has a mutation in BRAF, which is...  "
      ]
     },
     "execution_count": 203,
     "metadata": {},
     "output_type": "execute_result"
    }
   ],
   "source": [
    "print(task2_data.reasoning[0])\n",
    "task2_data.head()"
   ]
  },
  {
   "cell_type": "code",
   "execution_count": null,
   "id": "2b070b9f",
   "metadata": {},
   "outputs": [],
   "source": [
    "### Result analysis on reasoning\n",
    "# 1) redundancy or repetition of same language\n",
    "# 2) whether it mention the comparison between drugs instead of targeting only one drug in the reasoning\n",
    "# 3）information used in the reasoning and its validity"
   ]
  }
 ],
 "metadata": {
  "kernelspec": {
   "display_name": "llm_env",
   "language": "python",
   "name": "llm_env"
  },
  "language_info": {
   "codemirror_mode": {
    "name": "ipython",
    "version": 3
   },
   "file_extension": ".py",
   "mimetype": "text/x-python",
   "name": "python",
   "nbconvert_exporter": "python",
   "pygments_lexer": "ipython3",
   "version": "3.9.12"
  }
 },
 "nbformat": 4,
 "nbformat_minor": 5
}
