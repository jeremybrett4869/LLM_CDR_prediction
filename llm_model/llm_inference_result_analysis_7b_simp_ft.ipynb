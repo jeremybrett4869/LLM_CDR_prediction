{
 "cells": [
  {
   "cell_type": "code",
   "execution_count": 1,
   "id": "4979f521",
   "metadata": {},
   "outputs": [
    {
     "name": "stdout",
     "output_type": "stream",
     "text": [
      "(200, 4)\n"
     ]
    }
   ],
   "source": [
    "import pandas as pd\n",
    "\n",
    "task1_data = pd.read_csv(\"/data/yingfei/cancer_data/llm_prompt_data/llm_finetune_data/sens_simp_7b_ft.csv\")\n",
    "# task2_data = pd.read_csv(\"/data/yingfei/cancer_data/llm_prompt_data/llm_inference_data/bd_diff_70b_inf.csv\")\n",
    "print(task1_data.shape)\n",
    "# print(task2_data.shape)"
   ]
  },
  {
   "cell_type": "code",
   "execution_count": 2,
   "id": "5338d906",
   "metadata": {},
   "outputs": [
    {
     "data": {
      "text/html": [
       "<div>\n",
       "<style scoped>\n",
       "    .dataframe tbody tr th:only-of-type {\n",
       "        vertical-align: middle;\n",
       "    }\n",
       "\n",
       "    .dataframe tbody tr th {\n",
       "        vertical-align: top;\n",
       "    }\n",
       "\n",
       "    .dataframe thead th {\n",
       "        text-align: right;\n",
       "    }\n",
       "</style>\n",
       "<table border=\"1\" class=\"dataframe\">\n",
       "  <thead>\n",
       "    <tr style=\"text-align: right;\">\n",
       "      <th></th>\n",
       "      <th>prompt</th>\n",
       "      <th>output</th>\n",
       "      <th>answer</th>\n",
       "      <th>ground_truth</th>\n",
       "    </tr>\n",
       "  </thead>\n",
       "  <tbody>\n",
       "    <tr>\n",
       "      <th>0</th>\n",
       "      <td>&lt;s&gt;[INST] &lt;&lt;SYS&gt;&gt;Think step by step and decide...</td>\n",
       "      <td>Resistant.\\nThe drug SMILES structure indicate...</td>\n",
       "      <td>Resistant</td>\n",
       "      <td>Sensitive</td>\n",
       "    </tr>\n",
       "    <tr>\n",
       "      <th>1</th>\n",
       "      <td>&lt;s&gt;[INST] &lt;&lt;SYS&gt;&gt;Think step by step and decide...</td>\n",
       "      <td>Resistant.\\nThe drug SMILES structure indicate...</td>\n",
       "      <td>Resistant</td>\n",
       "      <td>Resistant</td>\n",
       "    </tr>\n",
       "    <tr>\n",
       "      <th>2</th>\n",
       "      <td>&lt;s&gt;[INST] &lt;&lt;SYS&gt;&gt;Think step by step and decide...</td>\n",
       "      <td>Resistant.\\nThe drug SMILES structure indicate...</td>\n",
       "      <td>Resistant</td>\n",
       "      <td>Resistant</td>\n",
       "    </tr>\n",
       "    <tr>\n",
       "      <th>3</th>\n",
       "      <td>&lt;s&gt;[INST] &lt;&lt;SYS&gt;&gt;Think step by step and decide...</td>\n",
       "      <td>Resistant.\\nThe drug sensitivity of the drug o...</td>\n",
       "      <td>Resistant</td>\n",
       "      <td>Sensitive</td>\n",
       "    </tr>\n",
       "    <tr>\n",
       "      <th>4</th>\n",
       "      <td>&lt;s&gt;[INST] &lt;&lt;SYS&gt;&gt;Think step by step and decide...</td>\n",
       "      <td>Resistant.\\nThe drug SMILES structure indicate...</td>\n",
       "      <td>Resistant</td>\n",
       "      <td>Sensitive</td>\n",
       "    </tr>\n",
       "  </tbody>\n",
       "</table>\n",
       "</div>"
      ],
      "text/plain": [
       "                                              prompt  \\\n",
       "0  <s>[INST] <<SYS>>Think step by step and decide...   \n",
       "1  <s>[INST] <<SYS>>Think step by step and decide...   \n",
       "2  <s>[INST] <<SYS>>Think step by step and decide...   \n",
       "3  <s>[INST] <<SYS>>Think step by step and decide...   \n",
       "4  <s>[INST] <<SYS>>Think step by step and decide...   \n",
       "\n",
       "                                              output     answer ground_truth  \n",
       "0  Resistant.\\nThe drug SMILES structure indicate...  Resistant    Sensitive  \n",
       "1  Resistant.\\nThe drug SMILES structure indicate...  Resistant    Resistant  \n",
       "2  Resistant.\\nThe drug SMILES structure indicate...  Resistant    Resistant  \n",
       "3  Resistant.\\nThe drug sensitivity of the drug o...  Resistant    Sensitive  \n",
       "4  Resistant.\\nThe drug SMILES structure indicate...  Resistant    Sensitive  "
      ]
     },
     "execution_count": 2,
     "metadata": {},
     "output_type": "execute_result"
    }
   ],
   "source": [
    "### Task 1 - few shot\n",
    "task1_data.head()"
   ]
  },
  {
   "cell_type": "code",
   "execution_count": 3,
   "id": "7ef95718",
   "metadata": {},
   "outputs": [
    {
     "name": "stdout",
     "output_type": "stream",
     "text": [
      "(200, 4)\n"
     ]
    }
   ],
   "source": [
    "task1_data = task1_data.loc[task1_data.output.apply(lambda x: len(str(x))>3)]\n",
    "print(task1_data.shape)"
   ]
  },
  {
   "cell_type": "code",
   "execution_count": 5,
   "id": "8f28f4c5",
   "metadata": {},
   "outputs": [
    {
     "data": {
      "text/plain": [
       "array([[ 95,   0],\n",
       "       [105,   0]])"
      ]
     },
     "execution_count": 5,
     "metadata": {},
     "output_type": "execute_result"
    }
   ],
   "source": [
    "from sklearn.metrics import confusion_matrix, accuracy_score\n",
    "confusion_matrix(task1_data.ground_truth, task1_data.answer)"
   ]
  },
  {
   "cell_type": "code",
   "execution_count": 6,
   "id": "c7d4f093",
   "metadata": {},
   "outputs": [
    {
     "data": {
      "text/plain": [
       "0.475"
      ]
     },
     "execution_count": 6,
     "metadata": {},
     "output_type": "execute_result"
    }
   ],
   "source": [
    "accuracy_score(task1_data.ground_truth, task1_data.answer)"
   ]
  }
 ],
 "metadata": {
  "kernelspec": {
   "display_name": "llm_env",
   "language": "python",
   "name": "llm_env"
  },
  "language_info": {
   "codemirror_mode": {
    "name": "ipython",
    "version": 3
   },
   "file_extension": ".py",
   "mimetype": "text/x-python",
   "name": "python",
   "nbconvert_exporter": "python",
   "pygments_lexer": "ipython3",
   "version": "3.9.12"
  }
 },
 "nbformat": 4,
 "nbformat_minor": 5
}
